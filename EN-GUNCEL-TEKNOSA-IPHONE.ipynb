{
 "cells": [
  {
   "cell_type": "code",
   "execution_count": 1,
   "id": "888fddd7",
   "metadata": {},
   "outputs": [],
   "source": [
    "import requests\n",
    "from bs4 import BeautifulSoup\n",
    "import pandas as pd\n",
    "import numpy as np"
   ]
  },
  {
   "cell_type": "markdown",
   "id": "dc5e7771",
   "metadata": {},
   "source": [
    "### 20.02.2024 güncellendi"
   ]
  },
  {
   "cell_type": "code",
   "execution_count": 2,
   "id": "13ad2783",
   "metadata": {},
   "outputs": [
    {
     "data": {
      "text/plain": [
       "'url = \"https://www.teknosa.com/apple-yenilenmis-cep-telefonu-bc-124001001?gclsrc=aw.ds&gad_source=1&gclid=EAIaIQobChMI5Iyl-4SbhAMVaWpBAh38jgYLEAAYASAAEgJMyPD_BwE&page=25\"\\n\\nheaders = {\\n    \"User-Agent\":\"Mozilla/5.0 (Windows NT 10.0; Win64; x64) AppleWebKit/537.36 (KHTML, like Gecko) Chrome/121.0.0.0 Safari/537.36\"\\n}\\n\\nhtml = requests.get(url, headers=headers).content\\nsoup = BeautifulSoup(html, \"html.parser\")\\n\\nliste = soup.find_all(\"div\", {\"class\":\"prd-inner\"},limit = 1)\\n\\nfor div in liste:\\n    product_name = div.h3.text\\n    link = div.find(\"div\", {\"class\":\" prd-link \"}).find_all(\"\")\\n    price = div.find(\"div\", {\"class\":\"prd-prices\"}).find_all(\"span\")[-1]\\n\\n    print(product_name,\":\",price)\\n\\n\\n#print(html)'"
      ]
     },
     "execution_count": 2,
     "metadata": {},
     "output_type": "execute_result"
    }
   ],
   "source": [
    "\"\"\"url = \"https://www.teknosa.com/apple-yenilenmis-cep-telefonu-bc-124001001?gclsrc=aw.ds&gad_source=1&gclid=EAIaIQobChMI5Iyl-4SbhAMVaWpBAh38jgYLEAAYASAAEgJMyPD_BwE&page=25\"\n",
    "\n",
    "headers = {\n",
    "    \"User-Agent\":\"Mozilla/5.0 (Windows NT 10.0; Win64; x64) AppleWebKit/537.36 (KHTML, like Gecko) Chrome/121.0.0.0 Safari/537.36\"\n",
    "}\n",
    "\n",
    "html = requests.get(url, headers=headers).content\n",
    "soup = BeautifulSoup(html, \"html.parser\")\n",
    "\n",
    "liste = soup.find_all(\"div\", {\"class\":\"prd-inner\"},limit = 1)\n",
    "\n",
    "for div in liste:\n",
    "    product_name = div.h3.text\n",
    "    link = div.find(\"div\", {\"class\":\" prd-link \"}).find_all(\"\")\n",
    "    price = div.find(\"div\", {\"class\":\"prd-prices\"}).find_all(\"span\")[-1]\n",
    "\n",
    "    print(product_name,\":\",price)\n",
    "\n",
    "\n",
    "#print(html)\"\"\""
   ]
  },
  {
   "cell_type": "code",
   "execution_count": 3,
   "id": "e7841391",
   "metadata": {
    "scrolled": false
   },
   "outputs": [
    {
     "name": "stdout",
     "output_type": "stream",
     "text": [
      "Yenilenmiş iPhone XS Max 512 GB Altın Cep Telefonu (1 Yıl Garantili) C Kalite : 17.460 TL\n",
      "Yenilenmiş iPhone 6S 32 GB Gümüş Cep Telefonu (1 Yıl Garantili) C Kalite : 2.500 TL\n",
      "Yenilenmiş iPhone 12 Pro Max 128 GB Mavi Cep Telefonu (1 Yıl Garantili) B Kalite : 35.799 TL\n",
      "Yenilenmiş iPhone 11 64 GB Beyaz Cep Telefonu (1 Yıl Garantili) : 16.578 TL\n",
      "Yenilenmiş iPhone 11 64 GB Siyah Cep Telefonu (1 Yıl Garantili) : 16.578 TL\n",
      "Yenilenmiş iPhone 11 Pro Max 64 GB Uzay Grisi Cep Telefonu (1 Yıl Garantili) B Kalite : 23.799 TL\n",
      "Yenilenmiş iPhone 11 128 GB Siyah Cep Telefonu (1 Yıl Garantili) : 18.999 TL\n",
      "Yenilenmiş iPhone 11 64 GB Mor Cep Telefonu (1 Yıl Garantili) : 16.578 TL\n",
      "Yenilenmiş iPhone 11 64 GB Kırmızı Cep Telefonu (1 Yıl Garantili) : 16.578 TL\n",
      "Yenilenmiş iPhone 11 64 GB Yeşil Cep Telefonu (1 Yıl Garantili) : 16.578 TL\n",
      "Yenilenmiş iPhone 11 64 GB Sarı Cep Telefonu (1 Yıl Garantili) : 16.578 TL\n",
      "Yenilenmiş iPhone 11 Pro 64 GB Uzay Grisi Cep Telefonu (1 Yıl Garantili) B Kalite : 21.499 TL\n",
      "Yenilenmiş iPhone 13 Pro 128 GB Sierra Mavisi Cep Telefonu (1 Yıl Garantili) B Kalite : 42.399 TL\n",
      "Yenilenmiş iPhone 11 128 GB Beyaz Cep Telefonu (1 Yıl Garantili) B Kalite : 17.999 TL\n",
      "Yenilenmiş iPhone 13 128 GB Gece Yarısı Cep Telefonu (1 Yıl Garantili) B Kalite : 30.119 TL\n",
      "Yenilenmiş iPhone 12 Mini 64 GB Mavi Cep Telefonu (1 Yıl Garantili) B Kalite : 18.579 TL\n",
      "Yenilenmiş iPhone X 64 GB Uzay Grisi Cep Telefonu (1 Yıl Garantili) : 11.899 TL\n",
      "Yenilenmiş iPhone 11 64 GB Yeşil Cep Telefonu (1 Yıl Garantili) B Kalite : 16.019 TL\n",
      "Yenilenmiş iPhone 13 128 GB Pembe Cep Telefonu (1 Yıl Garantili) B Kalite : 30.119 TL\n",
      "Yenilenmiş iPhone 8 Plus 64 GB Beyaz Cep Telefonu (1 Yıl Garantili) : 8.809 TL\n"
     ]
    }
   ],
   "source": [
    "#sayfa1\n",
    "\n",
    "import requests\n",
    "from bs4 import BeautifulSoup\n",
    "\n",
    "excel = []\n",
    "\n",
    "url = \"https://www.teknosa.com/apple-yenilenmis-cep-telefonu-bc-124001001?gclsrc=aw.ds&gad_source=1&gclid=EAIaIQobChMI_-K11ZubhAMVVT8GAB0orQdwEAAYASAAEgIun_D_BwE\"\n",
    "\n",
    "headers = {\n",
    "    \"User-Agent\": \"Mozilla/5.0 (Windows NT 10.0; Win64; x64) AppleWebKit/537.36 (KHTML, like Gecko) Chrome/121.0.0.0 Safari/537.36\"\n",
    "}\n",
    "\n",
    "html = requests.get(url, headers=headers).content\n",
    "soup = BeautifulSoup(html, \"html.parser\")\n",
    "\n",
    "liste = soup.find_all(\"div\", {\"class\": \"prd-inner\"})\n",
    "\n",
    "for div in liste:\n",
    "    product_name = div.h3.text.strip()  \n",
    "    price_span = div.find(\"div\", {\"class\": \"prd-prices\"}).find(\"span\", {\"class\": \"prc-last\"})\n",
    "    price = price_span.text.strip() if price_span else \"Fiyat bulunamadı\"  # Eğer fiyat bilgisi yoksa \"Fiyat bulunamadı\" yazdır\n",
    "    \n",
    "    excel.append([product_name, price])\n",
    "\n",
    "    print(product_name, \":\", price)\n"
   ]
  },
  {
   "cell_type": "code",
   "execution_count": 4,
   "id": "dcf944b0",
   "metadata": {},
   "outputs": [
    {
     "name": "stdout",
     "output_type": "stream",
     "text": [
      "                                             URUN_ADI      FIYAT\n",
      "0   Yenilenmiş iPhone XS Max 512 GB Altın Cep Tele...  17.460 TL\n",
      "1   Yenilenmiş iPhone 6S 32 GB Gümüş Cep Telefonu ...   2.500 TL\n",
      "2   Yenilenmiş iPhone 12 Pro Max 128 GB Mavi Cep T...  35.799 TL\n",
      "3   Yenilenmiş iPhone 11 64 GB Beyaz Cep Telefonu ...  16.578 TL\n",
      "4   Yenilenmiş iPhone 11 64 GB Siyah Cep Telefonu ...  16.578 TL\n",
      "5   Yenilenmiş iPhone 11 Pro Max 64 GB Uzay Grisi ...  23.799 TL\n",
      "6   Yenilenmiş iPhone 11 128 GB Siyah Cep Telefonu...  18.999 TL\n",
      "7   Yenilenmiş iPhone 11 64 GB Mor Cep Telefonu (1...  16.578 TL\n",
      "8   Yenilenmiş iPhone 11 64 GB Kırmızı Cep Telefon...  16.578 TL\n",
      "9   Yenilenmiş iPhone 11 64 GB Yeşil Cep Telefonu ...  16.578 TL\n",
      "10  Yenilenmiş iPhone 11 64 GB Sarı Cep Telefonu (...  16.578 TL\n",
      "11  Yenilenmiş iPhone 11 Pro 64 GB Uzay Grisi Cep ...  21.499 TL\n",
      "12  Yenilenmiş iPhone 13 Pro 128 GB Sierra Mavisi ...  42.399 TL\n",
      "13  Yenilenmiş iPhone 11 128 GB Beyaz Cep Telefonu...  17.999 TL\n",
      "14  Yenilenmiş iPhone 13 128 GB Gece Yarısı Cep Te...  30.119 TL\n",
      "15  Yenilenmiş iPhone 12 Mini 64 GB Mavi Cep Telef...  18.579 TL\n",
      "16  Yenilenmiş iPhone X 64 GB Uzay Grisi Cep Telef...  11.899 TL\n",
      "17  Yenilenmiş iPhone 11 64 GB Yeşil Cep Telefonu ...  16.019 TL\n",
      "18  Yenilenmiş iPhone 13 128 GB Pembe Cep Telefonu...  30.119 TL\n",
      "19  Yenilenmiş iPhone 8 Plus 64 GB Beyaz Cep Telef...   8.809 TL\n"
     ]
    }
   ],
   "source": [
    "df = pd.DataFrame(excel)\n",
    "\n",
    "df.columns = [\"URUN_ADI\",\"FIYAT\"]\n",
    "print(df)\n",
    "\n",
    "df.to_excel(\"tkenosa-page-1.xlsx\")"
   ]
  },
  {
   "cell_type": "code",
   "execution_count": 5,
   "id": "cfc9fb10",
   "metadata": {},
   "outputs": [],
   "source": [
    "df.to_excel(\"tkenosa-page-1.xlsx\")"
   ]
  },
  {
   "cell_type": "code",
   "execution_count": 6,
   "id": "6c1a15ed",
   "metadata": {},
   "outputs": [
    {
     "name": "stdout",
     "output_type": "stream",
     "text": [
      "Yenilenmiş iPhone 7 Plus 128 GB Altın Cep Telefonu (1 Yıl Garantili) : 6.298 TL\n",
      "Yenilenmiş iPhone 11 64 GB Mor Cep Telefonu (1 Yıl Garantili) B Kalite : 16.019 TL\n",
      "Yenilenmiş iPhone 8 64 GB Uzay Grisi Cep Telefonu (1 Yıl Garantili) : 6.130 TL\n",
      "Yenilenmiş iPhone 12 Mini 128 GB Siyah Cep Telefonu (1 Yıl Garantili) B Kalite : 19.919 TL\n",
      "Yenilenmiş iPhone X 64 GB Gümüş Cep Telefonu (1 Yıl Garantili) B Kalite : 9.999 TL\n",
      "Yenilenmiş iPhone 12 128 GB Yeşil Cep Telefonu (1 Yıl Garantili) B Kalite : 23.999 TL\n",
      "Yenilenmiş iPhone 12 128 GB Beyaz Cep Telefonu (1 Yıl Garantili) B Kalite : 23.999 TL\n",
      "Yenilenmiş iPhone XS Max 64 GB Altın Cep Telefonu (1 Yıl Garantili) B Kalite : 14.799 TL\n",
      "Yenilenmiş iPhone 13 Pro Max 128 GB Altın Cep Telefonu (1 Yıl Garantili) B Kalite : 45.799 TL\n",
      "Yenilenmiş iPhone 13 Pro Max 256 GB Sierra Mavisi Cep Telefonu (1 Yıl Garantili) B Kalite : 48.599 TL\n",
      "Yenilenmiş iPhone 12 Mini 128 GB Beyaz Cep Telefonu (1 Yıl Garantili) B Kalite : 19.919 TL\n",
      "Yenilenmiş iPhone 13 128 GB Yıldız Işığı Cep Telefonu (1 Yıl Garantili) B Kalite : 30.119 TL\n",
      "Yenilenmiş iPhone 13 Pro Max 128 GB Sierra Mavisi Cep Telefonu (1 Yıl Garantili) B Kalite : 45.799 TL\n",
      "Yenilenmiş iPhone 12 Pro 128 GB Mavi Cep Telefonu (1 Yıl Garantili) B Kalite : 31.219 TL\n",
      "Yenilenmiş iPhone 13 Pro Max 128 GB Grafit Cep Telefonu (1 Yıl Garantili) B Kalite : 45.799 TL\n",
      "Yenilenmiş iPhone 13 Pro 128 GB Altın Cep Telefonu (1 Yıl Garantili) B Kalite : 42.399 TL\n",
      "Yenilenmiş iPhone 11 Pro Max 256 GB Yeşil Cep Telefonu (1 Yıl Garantili) B Kalite : 26.799 TL\n",
      "Yenilenmiş iPhone 13 256 GB Gece Yarısı Cep Telefonu (1 Yıl Garantili) B Kalite : 32.898 TL\n",
      "Yenilenmiş iPhone 12 Pro Max 256 GB Mavi Cep Telefonu (1 Yıl Garantili) B Kalite : 37.599 TL\n",
      "Yenilenmiş iPhone 11 128 GB Siyah Cep Telefonu (1 Yıl Garantili) B Kalite : 17.999 TL\n"
     ]
    }
   ],
   "source": [
    "#sayfa2\n",
    "\n",
    "import requests\n",
    "from bs4 import BeautifulSoup\n",
    "excel = []\n",
    "\n",
    "url = \"https://www.teknosa.com/apple-yenilenmis-cep-telefonu-bc-124001001?gclsrc=aw.ds&gad_source=1&gclid=EAIaIQobChMI_-K11ZubhAMVVT8GAB0orQdwEAAYASAAEgIun_D_BwE&page=1\"\n",
    "\n",
    "headers = {\n",
    "    \"User-Agent\": \"Mozilla/5.0 (Windows NT 10.0; Win64; x64) AppleWebKit/537.36 (KHTML, like Gecko) Chrome/121.0.0.0 Safari/537.36\"\n",
    "}\n",
    "\n",
    "html = requests.get(url, headers=headers).content\n",
    "soup = BeautifulSoup(html, \"html.parser\")\n",
    "\n",
    "liste = soup.find_all(\"div\", {\"class\": \"prd-inner\"})\n",
    "\n",
    "for div in liste:\n",
    "    product_name = div.h3.text.strip()  \n",
    "    price_span = div.find(\"div\", {\"class\": \"prd-prices\"}).find(\"span\", {\"class\": \"prc-last\"})\n",
    "    price = price_span.text.strip() if price_span else \"Fiyat bulunamadı\"  # Eğer fiyat bilgisi yoksa \"Fiyat bulunamadı\" yazdır\n",
    "    \n",
    "    excel.append([product_name, price])\n",
    "\n",
    "    print(product_name, \":\", price)\n"
   ]
  },
  {
   "cell_type": "code",
   "execution_count": 7,
   "id": "0146703c",
   "metadata": {},
   "outputs": [
    {
     "name": "stdout",
     "output_type": "stream",
     "text": [
      "                                             URUN_ADI      FIYAT\n",
      "0   Yenilenmiş iPhone 7 Plus 128 GB Altın Cep Tele...   6.298 TL\n",
      "1   Yenilenmiş iPhone 11 64 GB Mor Cep Telefonu (1...  16.019 TL\n",
      "2   Yenilenmiş iPhone 8 64 GB Uzay Grisi Cep Telef...   6.130 TL\n",
      "3   Yenilenmiş iPhone 12 Mini 128 GB Siyah Cep Tel...  19.919 TL\n",
      "4   Yenilenmiş iPhone X 64 GB Gümüş Cep Telefonu (...   9.999 TL\n",
      "5   Yenilenmiş iPhone 12 128 GB Yeşil Cep Telefonu...  23.999 TL\n",
      "6   Yenilenmiş iPhone 12 128 GB Beyaz Cep Telefonu...  23.999 TL\n",
      "7   Yenilenmiş iPhone XS Max 64 GB Altın Cep Telef...  14.799 TL\n",
      "8   Yenilenmiş iPhone 13 Pro Max 128 GB Altın Cep ...  45.799 TL\n",
      "9   Yenilenmiş iPhone 13 Pro Max 256 GB Sierra Mav...  48.599 TL\n",
      "10  Yenilenmiş iPhone 12 Mini 128 GB Beyaz Cep Tel...  19.919 TL\n",
      "11  Yenilenmiş iPhone 13 128 GB Yıldız Işığı Cep T...  30.119 TL\n",
      "12  Yenilenmiş iPhone 13 Pro Max 128 GB Sierra Mav...  45.799 TL\n",
      "13  Yenilenmiş iPhone 12 Pro 128 GB Mavi Cep Telef...  31.219 TL\n",
      "14  Yenilenmiş iPhone 13 Pro Max 128 GB Grafit Cep...  45.799 TL\n",
      "15  Yenilenmiş iPhone 13 Pro 128 GB Altın Cep Tele...  42.399 TL\n",
      "16  Yenilenmiş iPhone 11 Pro Max 256 GB Yeşil Cep ...  26.799 TL\n",
      "17  Yenilenmiş iPhone 13 256 GB Gece Yarısı Cep Te...  32.898 TL\n",
      "18  Yenilenmiş iPhone 12 Pro Max 256 GB Mavi Cep T...  37.599 TL\n",
      "19  Yenilenmiş iPhone 11 128 GB Siyah Cep Telefonu...  17.999 TL\n"
     ]
    }
   ],
   "source": [
    "df = pd.DataFrame(excel)\n",
    "\n",
    "df.columns = [\"URUN_ADI\",\"FIYAT\"]\n",
    "print(df)\n",
    "\n",
    "df.to_excel(\"tkenosa-page-2.xlsx\")"
   ]
  },
  {
   "cell_type": "code",
   "execution_count": 8,
   "id": "33ff6b68",
   "metadata": {},
   "outputs": [
    {
     "name": "stdout",
     "output_type": "stream",
     "text": [
      "                                             URUN_ADI      FIYAT\n",
      "0   Yenilenmiş iPhone 7 Plus 128 GB Altın Cep Tele...   6.298 TL\n",
      "1   Yenilenmiş iPhone 11 64 GB Mor Cep Telefonu (1...  16.019 TL\n",
      "2   Yenilenmiş iPhone 8 64 GB Uzay Grisi Cep Telef...   6.130 TL\n",
      "3   Yenilenmiş iPhone 12 Mini 128 GB Siyah Cep Tel...  19.919 TL\n",
      "4   Yenilenmiş iPhone X 64 GB Gümüş Cep Telefonu (...   9.999 TL\n",
      "5   Yenilenmiş iPhone 12 128 GB Yeşil Cep Telefonu...  23.999 TL\n",
      "6   Yenilenmiş iPhone 12 128 GB Beyaz Cep Telefonu...  23.999 TL\n",
      "7   Yenilenmiş iPhone XS Max 64 GB Altın Cep Telef...  14.799 TL\n",
      "8   Yenilenmiş iPhone 13 Pro Max 128 GB Altın Cep ...  45.799 TL\n",
      "9   Yenilenmiş iPhone 13 Pro Max 256 GB Sierra Mav...  48.599 TL\n",
      "10  Yenilenmiş iPhone 12 Mini 128 GB Beyaz Cep Tel...  19.919 TL\n",
      "11  Yenilenmiş iPhone 13 128 GB Yıldız Işığı Cep T...  30.119 TL\n",
      "12  Yenilenmiş iPhone 13 Pro Max 128 GB Sierra Mav...  45.799 TL\n",
      "13  Yenilenmiş iPhone 12 Pro 128 GB Mavi Cep Telef...  31.219 TL\n",
      "14  Yenilenmiş iPhone 13 Pro Max 128 GB Grafit Cep...  45.799 TL\n",
      "15  Yenilenmiş iPhone 13 Pro 128 GB Altın Cep Tele...  42.399 TL\n",
      "16  Yenilenmiş iPhone 11 Pro Max 256 GB Yeşil Cep ...  26.799 TL\n",
      "17  Yenilenmiş iPhone 13 256 GB Gece Yarısı Cep Te...  32.898 TL\n",
      "18  Yenilenmiş iPhone 12 Pro Max 256 GB Mavi Cep T...  37.599 TL\n",
      "19  Yenilenmiş iPhone 11 128 GB Siyah Cep Telefonu...  17.999 TL\n"
     ]
    }
   ],
   "source": [
    "df = pd.DataFrame(excel)\n",
    "\n",
    "df.columns = [\"URUN_ADI\",\"FIYAT\"]\n",
    "print(df)\n",
    "\n",
    "df.to_excel(\"tkenosa-page-2.xlsx\")"
   ]
  },
  {
   "cell_type": "code",
   "execution_count": 9,
   "id": "6a801fce",
   "metadata": {},
   "outputs": [
    {
     "name": "stdout",
     "output_type": "stream",
     "text": [
      "Yenilenmiş iPhone 13 Pro 128 GB Grafit Cep Telefonu (1 Yıl Garantili) B Kalite : 42.399 TL\n",
      "Yenilenmiş iPhone 13 Pro 128 GB Gümüş Cep Telefonu (1 Yıl Garantili) B Kalite : 42.399 TL\n",
      "Yenilenmiş iPhone 14 128 GB Mavi Cep Telefonu (1 Yıl Garantili) B Kalite : 40.999 TL\n",
      "Yenilenmiş iPhone 13 Pro Max 128 GB Gümüş Cep Telefonu (1 Yıl Garantili) B Kalite : 45.799 TL\n",
      "Yenilenmiş iPhone 11 Pro Max 256 GB Altın Cep Telefonu (1 Yıl Garantili) B Kalite : 26.799 TL\n",
      "Yenilenmiş iPhone 12 Mini 64 GB Siyah Cep Telefonu (1 Yıl Garantili) B Kalite : 18.579 TL\n",
      "Yenilenmiş iPhone 13 128 GB Pembe Cep Telefonu (1 Yıl Garantili) : 31.749 TL\n",
      "Yenilenmiş iPhone 11 64 GB Beyaz Cep Telefonu (1 Yıl Garantili) B Kalite : 16.019 TL\n",
      "Yenilenmiş iPhone 12 128 GB Mavi Cep Telefonu (1 Yıl Garantili) B Kalite : 23.999 TL\n",
      "Yenilenmiş iPhone 13 Pro 256 GB Sierra Mavisi Cep Telefonu (1 Yıl Garantili) B Kalite : 44.899 TL\n",
      "Yenilenmiş iPhone 13 128 GB Mavi Cep Telefonu (1 Yıl Garantili) B Kalite : 30.119 TL\n",
      "Yenilenmiş iPhone X 64 GB Gümüş Cep Telefonu (1 Yıl Garantili) : 11.899 TL\n",
      "Yenilenmiş iPhone 13 256 GB Yeşil Cep Telefonu (1 Yıl Garantili) : 37.999 TL\n",
      "Yenilenmiş iPhone 11 Pro 256 GB Uzay Grisi Cep Telefonu (1 Yıl Garantili) B Kalite : 24.889 TL\n",
      "Yenilenmiş iPhone 11 256 GB Beyaz Cep Telefonu (1 Yıl Garantili) B Kalite : 18.849 TL\n",
      "Yenilenmiş iPhone 7 32 GB Siyah Cep Telefonu (1 Yıl Garantili) : 4.149 TL\n",
      "Yenilenmiş iPhone 12 Mini 64 GB Siyah Cep Telefonu (1 Yıl Garantili) C Kalite : 18.619 TL\n",
      "Yenilenmiş iPhone 14 Plus 128 GB Gece Yarısı Cep Telefonu (1 Yıl Garantili) B Kalite : 41.999 TL\n",
      "Yenilenmiş iPhone 7 Plus 128 GB Siyah Cep Telefonu (1 Yıl Garantili) C Kalite : 5.717 TL\n",
      "Yenilenmiş iPhone 11 64 GB Beyaz Cep Telefonu (1 Yıl Garantili) C Kalite : 15.869 TL\n"
     ]
    }
   ],
   "source": [
    "#sayfa3\n",
    "\n",
    "import requests\n",
    "from bs4 import BeautifulSoup\n",
    "\n",
    "excel = []\n",
    "\n",
    "url = \"https://www.teknosa.com/apple-yenilenmis-cep-telefonu-bc-124001001?gclsrc=aw.ds&gad_source=1&gclid=EAIaIQobChMI_-K11ZubhAMVVT8GAB0orQdwEAAYASAAEgIun_D_BwE&page=2\"\n",
    "\n",
    "headers = {\n",
    "    \"User-Agent\": \"Mozilla/5.0 (Windows NT 10.0; Win64; x64) AppleWebKit/537.36 (KHTML, like Gecko) Chrome/121.0.0.0 Safari/537.36\"\n",
    "}\n",
    "\n",
    "html = requests.get(url, headers=headers).content\n",
    "soup = BeautifulSoup(html, \"html.parser\")\n",
    "\n",
    "liste = soup.find_all(\"div\", {\"class\": \"prd-inner\"})\n",
    "\n",
    "for div in liste:\n",
    "    product_name = div.h3.text.strip()  \n",
    "    price_span = div.find(\"div\", {\"class\": \"prd-prices\"}).find(\"span\", {\"class\": \"prc-last\"})\n",
    "    price = price_span.text.strip() if price_span else \"Fiyat bulunamadı\"  # Eğer fiyat bilgisi yoksa \"Fiyat bulunamadı\" yazdır\n",
    "    \n",
    "    excel.append([product_name, price])\n",
    "\n",
    "    print(product_name, \":\", price)\n"
   ]
  },
  {
   "cell_type": "code",
   "execution_count": 10,
   "id": "6a6598b7",
   "metadata": {},
   "outputs": [
    {
     "name": "stdout",
     "output_type": "stream",
     "text": [
      "                                             URUN_ADI      FIYAT\n",
      "0   Yenilenmiş iPhone 13 Pro 128 GB Grafit Cep Tel...  42.399 TL\n",
      "1   Yenilenmiş iPhone 13 Pro 128 GB Gümüş Cep Tele...  42.399 TL\n",
      "2   Yenilenmiş iPhone 14 128 GB Mavi Cep Telefonu ...  40.999 TL\n",
      "3   Yenilenmiş iPhone 13 Pro Max 128 GB Gümüş Cep ...  45.799 TL\n",
      "4   Yenilenmiş iPhone 11 Pro Max 256 GB Altın Cep ...  26.799 TL\n",
      "5   Yenilenmiş iPhone 12 Mini 64 GB Siyah Cep Tele...  18.579 TL\n",
      "6   Yenilenmiş iPhone 13 128 GB Pembe Cep Telefonu...  31.749 TL\n",
      "7   Yenilenmiş iPhone 11 64 GB Beyaz Cep Telefonu ...  16.019 TL\n",
      "8   Yenilenmiş iPhone 12 128 GB Mavi Cep Telefonu ...  23.999 TL\n",
      "9   Yenilenmiş iPhone 13 Pro 256 GB Sierra Mavisi ...  44.899 TL\n",
      "10  Yenilenmiş iPhone 13 128 GB Mavi Cep Telefonu ...  30.119 TL\n",
      "11  Yenilenmiş iPhone X 64 GB Gümüş Cep Telefonu (...  11.899 TL\n",
      "12  Yenilenmiş iPhone 13 256 GB Yeşil Cep Telefonu...  37.999 TL\n",
      "13  Yenilenmiş iPhone 11 Pro 256 GB Uzay Grisi Cep...  24.889 TL\n",
      "14  Yenilenmiş iPhone 11 256 GB Beyaz Cep Telefonu...  18.849 TL\n",
      "15  Yenilenmiş iPhone 7 32 GB Siyah Cep Telefonu (...   4.149 TL\n",
      "16  Yenilenmiş iPhone 12 Mini 64 GB Siyah Cep Tele...  18.619 TL\n",
      "17  Yenilenmiş iPhone 14 Plus 128 GB Gece Yarısı C...  41.999 TL\n",
      "18  Yenilenmiş iPhone 7 Plus 128 GB Siyah Cep Tele...   5.717 TL\n",
      "19  Yenilenmiş iPhone 11 64 GB Beyaz Cep Telefonu ...  15.869 TL\n"
     ]
    }
   ],
   "source": [
    "df = pd.DataFrame(excel)\n",
    "\n",
    "df.columns = [\"URUN_ADI\",\"FIYAT\"]\n",
    "print(df)\n",
    "\n",
    "df.to_excel(\"tkenosa-page-3.xlsx\")"
   ]
  },
  {
   "cell_type": "code",
   "execution_count": 11,
   "id": "e608d69e",
   "metadata": {},
   "outputs": [
    {
     "name": "stdout",
     "output_type": "stream",
     "text": [
      "Yenilenmiş iPhone 13 Pro Max 256 GB Grafit Cep Telefonu (1 Yıl Garantili) B Kalite : 48.599 TL\n",
      "Yenilenmiş iPhone 13 256 GB Pembe Cep Telefonu (1 Yıl Garantili) B Kalite : 31.899 TL\n",
      "Yenilenmiş iPhone 11 64 GB Siyah Cep Telefonu (1 Yıl Garantili) B Kalite : 16.019 TL\n",
      "Yenilenmiş iPhone 13 Pro 128 GB Köknar Yeşili Cep Telefonu (1 Yıl Garantili) B Kalite : 42.399 TL\n",
      "Yenilenmiş iPhone XR 64 GB Beyaz Cep Telefonu (1 Yıl Garantili) C Kalite : 11.879 TL\n",
      "Yenilenmiş iPhone 8 Plus 128 GB Altın Cep Telefonu (1 Yıl Garantili) : 9.857 TL\n",
      "Yenilenmiş iPhone 12 Pro 128 GB Gümüş Cep Telefonu (1 Yıl Garantili) B Kalite : 31.219 TL\n",
      "Yenilenmiş iPhone 7 Plus 128 GB Siyah Cep Telefonu (1 Yıl Garantili) B Kalite : 5.929 TL\n",
      "Yenilenmiş iPhone 13 128 GB Gece Yarısı Cep Telefonu (1 Yıl Garantili) : 31.749 TL\n",
      "Yenilenmiş iPhone 11 Pro Max 256 GB Uzay Grisi Cep Telefonu (1 Yıl Garantili) B Kalite : 26.499 TL\n",
      "Yenilenmiş iPhone XS 64 GB Uzay Grisi Cep Telefonu (1 Yıl Garantili) B Kalite : 13.499 TL\n",
      "Yenilenmiş iPhone 12 128 GB Mavi Cep Telefonu (1 Yıl Garantili) : 27.999 TL\n",
      "Yenilenmiş iPhone X 64 GB Gümüş Cep Telefonu (1 Yıl Garantili) C Kalite : 10.959 TL\n",
      "Yenilenmiş iPhone 11 Pro Max 64 GB Uzay Grisi Cep Telefonu (1 Yıl Garantili) C Kalite : 22.999 TL\n",
      "Yenilenmiş iPhone 13 Pro 128 GB Grafit Cep Telefonu (1 Yıl Garantili) : 44.499 TL\n",
      "Yenilenmiş iPhone 12 Pro 128 GB Gri Cep Telefonu (1 Yıl Garantili) B Kalite : 31.219 TL\n",
      "Yenilenmiş iPhone XR 64 GB Siyah Cep Telefonu (1 Yıl Garantili) B Kalite : 12.199 TL\n",
      "Yenilenmiş iPhone 12 Pro Max 128 GB Beyaz Cep Telefonu (1 Yıl Garantili) B Kalite : 35.799 TL\n",
      "Yenilenmiş iPhone 12 64 GB Mavi Cep Telefonu (1 Yıl Garantili) B Kalite : 21.599 TL\n",
      "Yenilenmiş iPhone 11 Pro Max 256 GB Beyaz Cep Telefonu (1 Yıl Garantili) B Kalite : 26.799 TL\n"
     ]
    }
   ],
   "source": [
    "#sayfa4\n",
    "\n",
    "import requests\n",
    "from bs4 import BeautifulSoup\n",
    "\n",
    "excel = []\n",
    "\n",
    "url = \"https://www.teknosa.com/apple-yenilenmis-cep-telefonu-bc-124001001?gclsrc=aw.ds&gad_source=1&gclid=EAIaIQobChMI_-K11ZubhAMVVT8GAB0orQdwEAAYASAAEgIun_D_BwE&page=3\"\n",
    "\n",
    "headers = {\n",
    "    \"User-Agent\": \"Mozilla/5.0 (Windows NT 10.0; Win64; x64) AppleWebKit/537.36 (KHTML, like Gecko) Chrome/121.0.0.0 Safari/537.36\"\n",
    "}\n",
    "\n",
    "html = requests.get(url, headers=headers).content\n",
    "soup = BeautifulSoup(html, \"html.parser\")\n",
    "\n",
    "liste = soup.find_all(\"div\", {\"class\": \"prd-inner\"})\n",
    "\n",
    "for div in liste:\n",
    "    product_name = div.h3.text.strip()  \n",
    "    price_span = div.find(\"div\", {\"class\": \"prd-prices\"}).find(\"span\", {\"class\": \"prc-last\"})\n",
    "    price = price_span.text.strip() if price_span else \"Fiyat bulunamadı\"  # Eğer fiyat bilgisi yoksa \"Fiyat bulunamadı\" yazdır\n",
    "    \n",
    "    excel.append([product_name, price])\n",
    "\n",
    "    print(product_name, \":\", price)\n"
   ]
  },
  {
   "cell_type": "code",
   "execution_count": 12,
   "id": "858d240f",
   "metadata": {},
   "outputs": [
    {
     "name": "stdout",
     "output_type": "stream",
     "text": [
      "                                             URUN_ADI      FIYAT\n",
      "0   Yenilenmiş iPhone 13 Pro Max 256 GB Grafit Cep...  48.599 TL\n",
      "1   Yenilenmiş iPhone 13 256 GB Pembe Cep Telefonu...  31.899 TL\n",
      "2   Yenilenmiş iPhone 11 64 GB Siyah Cep Telefonu ...  16.019 TL\n",
      "3   Yenilenmiş iPhone 13 Pro 128 GB Köknar Yeşili ...  42.399 TL\n",
      "4   Yenilenmiş iPhone XR 64 GB Beyaz Cep Telefonu ...  11.879 TL\n",
      "5   Yenilenmiş iPhone 8 Plus 128 GB Altın Cep Tele...   9.857 TL\n",
      "6   Yenilenmiş iPhone 12 Pro 128 GB Gümüş Cep Tele...  31.219 TL\n",
      "7   Yenilenmiş iPhone 7 Plus 128 GB Siyah Cep Tele...   5.929 TL\n",
      "8   Yenilenmiş iPhone 13 128 GB Gece Yarısı Cep Te...  31.749 TL\n",
      "9   Yenilenmiş iPhone 11 Pro Max 256 GB Uzay Grisi...  26.499 TL\n",
      "10  Yenilenmiş iPhone XS 64 GB Uzay Grisi Cep Tele...  13.499 TL\n",
      "11  Yenilenmiş iPhone 12 128 GB Mavi Cep Telefonu ...  27.999 TL\n",
      "12  Yenilenmiş iPhone X 64 GB Gümüş Cep Telefonu (...  10.959 TL\n",
      "13  Yenilenmiş iPhone 11 Pro Max 64 GB Uzay Grisi ...  22.999 TL\n",
      "14  Yenilenmiş iPhone 13 Pro 128 GB Grafit Cep Tel...  44.499 TL\n",
      "15  Yenilenmiş iPhone 12 Pro 128 GB Gri Cep Telefo...  31.219 TL\n",
      "16  Yenilenmiş iPhone XR 64 GB Siyah Cep Telefonu ...  12.199 TL\n",
      "17  Yenilenmiş iPhone 12 Pro Max 128 GB Beyaz Cep ...  35.799 TL\n",
      "18  Yenilenmiş iPhone 12 64 GB Mavi Cep Telefonu (...  21.599 TL\n",
      "19  Yenilenmiş iPhone 11 Pro Max 256 GB Beyaz Cep ...  26.799 TL\n"
     ]
    }
   ],
   "source": [
    "df = pd.DataFrame(excel)\n",
    "\n",
    "df.columns = [\"URUN_ADI\",\"FIYAT\"]\n",
    "print(df)\n",
    "\n",
    "df.to_excel(\"tkenosa-page-4.xlsx\")"
   ]
  },
  {
   "cell_type": "code",
   "execution_count": 13,
   "id": "09e038dd",
   "metadata": {},
   "outputs": [
    {
     "name": "stdout",
     "output_type": "stream",
     "text": [
      "Yenilenmiş iPhone 12 Pro Max 128 GB Siyah Cep Telefonu (1 Yıl Garantili) B Kalite : 35.799 TL\n",
      "Yenilenmiş iPhone 13 256 GB Mavi Cep Telefonu (1 Yıl Garantili) B Kalite : 31.998 TL\n",
      "Yenilenmiş iPhone 11 Pro 64 GB Altın Cep Telefonu (1 Yıl Garantili) B Kalite : 21.499 TL\n",
      "Yenilenmiş iPhone 11 Pro Max 64 GB Yeşil Cep Telefonu (1 Yıl Garantili) C Kalite : 22.999 TL\n",
      "Yenilenmiş iPhone XS Max 256 GB Altın Cep Telefonu (1 Yıl Garantili) B Kalite : 15.499 TL\n",
      "Yenilenmiş iPhone SE 2020 64 GB Siyah Cep Telefonu (1 Yıl Garantili) B Kalite : 8.499 TL\n",
      "Yenilenmiş iPhone 8 Plus 128 GB Siyah Cep Telefonu (1 Yıl Garantili) C Kalite : 8.899 TL\n",
      "Yenilenmiş iPhone XS Max 64 GB Gümüş Cep Telefonu (1 Yıl Garantili) B Kalite : 13.499 TL\n",
      "Yenilenmiş iPhone 8 Plus 128 GB Altın Cep Telefonu (1 Yıl Garantili) C Kalite : 8.899 TL\n",
      "Yenilenmiş iPhone X 64 GB Uzay Grisi Cep Telefonu (1 Yıl Garantili) B Kalite : 9.999 TL\n",
      "Yenilenmiş iPhone XS Max 64 GB Altın Cep Telefonu (1 Yıl Garantili) : 15.799 TL\n",
      "Yenilenmiş iPhone 8 Plus 64 GB Beyaz Cep Telefonu (1 Yıl Garantili) C Kalite : 7.969 TL\n",
      "Yenilenmiş iPhone 12 Pro 128 GB Gri Cep Telefonu (1 Yıl Garantili) : 32.199 TL\n",
      "Yenilenmiş iPhone 13 Pro Max 256 GB Sierra Mavisi Cep Telefonu (1 Yıl Garantili) : 51.998 TL\n",
      "Yenilenmiş iPhone SE 2020 64 GB Siyah Cep Telefonu (1 Yıl Garantili) : 8.499 TL\n",
      "Yenilenmiş iPhone 11 Pro 64 GB Gümüş Cep Telefonu (1 Yıl Garantili) B Kalite : 21.499 TL\n",
      "Yenilenmiş iPhone 14 128 GB Gece Yarısı Cep Telefonu (1 Yıl Garantili) B Kalite : 40.999 TL\n",
      "Yenilenmiş iPhone 8 Plus 64 GB Altın Cep Telefonu (1 Yıl Garantili) : 8.108 TL\n",
      "Yenilenmiş iPhone 13 256 GB Yıldız Işığı Cep Telefonu (1 Yıl Garantili) B Kalite : 31.998 TL\n",
      "Yenilenmiş iPhone 11 128 GB Beyaz Cep Telefonu (1 Yıl Garantili) : 18.999 TL\n"
     ]
    }
   ],
   "source": [
    "#sayfa5\n",
    "\n",
    "import requests\n",
    "from bs4 import BeautifulSoup\n",
    "\n",
    "excel = []\n",
    "\n",
    "url = \"https://www.teknosa.com/apple-yenilenmis-cep-telefonu-bc-124001001?gclsrc=aw.ds&gad_source=1&gclid=EAIaIQobChMI_-K11ZubhAMVVT8GAB0orQdwEAAYASAAEgIun_D_BwE&page=4\"\n",
    "\n",
    "headers = {\n",
    "    \"User-Agent\": \"Mozilla/5.0 (Windows NT 10.0; Win64; x64) AppleWebKit/537.36 (KHTML, like Gecko) Chrome/121.0.0.0 Safari/537.36\"\n",
    "}\n",
    "\n",
    "html = requests.get(url, headers=headers).content\n",
    "soup = BeautifulSoup(html, \"html.parser\")\n",
    "\n",
    "liste = soup.find_all(\"div\", {\"class\": \"prd-inner\"})\n",
    "\n",
    "for div in liste:\n",
    "    product_name = div.h3.text.strip()  \n",
    "    price_span = div.find(\"div\", {\"class\": \"prd-prices\"}).find(\"span\", {\"class\": \"prc-last\"})\n",
    "    price = price_span.text.strip() if price_span else \"Fiyat bulunamadı\"  # Eğer fiyat bilgisi yoksa \"Fiyat bulunamadı\" yazdır\n",
    "    \n",
    "    excel.append([product_name, price])\n",
    "\n",
    "    print(product_name, \":\", price)\n"
   ]
  },
  {
   "cell_type": "code",
   "execution_count": 14,
   "id": "9f469a3f",
   "metadata": {},
   "outputs": [
    {
     "name": "stdout",
     "output_type": "stream",
     "text": [
      "                                             URUN_ADI      FIYAT\n",
      "0   Yenilenmiş iPhone 12 Pro Max 128 GB Siyah Cep ...  35.799 TL\n",
      "1   Yenilenmiş iPhone 13 256 GB Mavi Cep Telefonu ...  31.998 TL\n",
      "2   Yenilenmiş iPhone 11 Pro 64 GB Altın Cep Telef...  21.499 TL\n",
      "3   Yenilenmiş iPhone 11 Pro Max 64 GB Yeşil Cep T...  22.999 TL\n",
      "4   Yenilenmiş iPhone XS Max 256 GB Altın Cep Tele...  15.499 TL\n",
      "5   Yenilenmiş iPhone SE 2020 64 GB Siyah Cep Tele...   8.499 TL\n",
      "6   Yenilenmiş iPhone 8 Plus 128 GB Siyah Cep Tele...   8.899 TL\n",
      "7   Yenilenmiş iPhone XS Max 64 GB Gümüş Cep Telef...  13.499 TL\n",
      "8   Yenilenmiş iPhone 8 Plus 128 GB Altın Cep Tele...   8.899 TL\n",
      "9   Yenilenmiş iPhone X 64 GB Uzay Grisi Cep Telef...   9.999 TL\n",
      "10  Yenilenmiş iPhone XS Max 64 GB Altın Cep Telef...  15.799 TL\n",
      "11  Yenilenmiş iPhone 8 Plus 64 GB Beyaz Cep Telef...   7.969 TL\n",
      "12  Yenilenmiş iPhone 12 Pro 128 GB Gri Cep Telefo...  32.199 TL\n",
      "13  Yenilenmiş iPhone 13 Pro Max 256 GB Sierra Mav...  51.998 TL\n",
      "14  Yenilenmiş iPhone SE 2020 64 GB Siyah Cep Tele...   8.499 TL\n",
      "15  Yenilenmiş iPhone 11 Pro 64 GB Gümüş Cep Telef...  21.499 TL\n",
      "16  Yenilenmiş iPhone 14 128 GB Gece Yarısı Cep Te...  40.999 TL\n",
      "17  Yenilenmiş iPhone 8 Plus 64 GB Altın Cep Telef...   8.108 TL\n",
      "18  Yenilenmiş iPhone 13 256 GB Yıldız Işığı Cep T...  31.998 TL\n",
      "19  Yenilenmiş iPhone 11 128 GB Beyaz Cep Telefonu...  18.999 TL\n"
     ]
    }
   ],
   "source": [
    "df = pd.DataFrame(excel)\n",
    "\n",
    "df.columns = [\"URUN_ADI\",\"FIYAT\"]\n",
    "print(df)\n",
    "\n",
    "df.to_excel(\"tkenosa-page-5.xlsx\")"
   ]
  },
  {
   "cell_type": "code",
   "execution_count": 15,
   "id": "5dc5e686",
   "metadata": {},
   "outputs": [
    {
     "name": "stdout",
     "output_type": "stream",
     "text": [
      "Yenilenmiş iPhone 13 Pro Max 128 GB Sierra Mavisi Cep Telefonu (1 Yıl Garantili) : 47.999 TL\n",
      "Yenilenmiş iPhone X 256 GB Gümüş Cep Telefonu (1 Yıl Garantili) C Kalite : 12.799 TL\n",
      "Yenilenmiş iPhone 13 Pro Max 128 GB Köknar Yeşili Cep Telefonu (1 Yıl Garantili) B Kalite : 45.799 TL\n",
      "Yenilenmiş iPhone 13 128 GB Yeşil Cep Telefonu (1 Yıl Garantili) B Kalite : 30.119 TL\n",
      "Yenilenmiş iPhone 11 Pro 256 GB Yeşil Cep Telefonu (1 Yıl Garantili) B Kalite : 24.899 TL\n",
      "Yenilenmiş iPhone 13 Pro 128 GB Sierra Mavisi Cep Telefonu (1 Yıl Garantili) : 44.499 TL\n",
      "Yenilenmiş iPhone 7 Plus 128 GB Siyah Cep Telefonu (1 Yıl Garantili) : 6.199 TL\n",
      "Yenilenmiş iPhone XS Max 256 GB Gümüş Cep Telefonu (1 Yıl Garantili) B Kalite : 16.198 TL\n",
      "Yenilenmiş iPhone XR 64 GB Beyaz Cep Telefonu (1 Yıl Garantili) : 13.089 TL\n",
      "Yenilenmiş iPhone 7 32 GB Siyah Cep Telefonu (1 Yıl Garantili) C Kalite : 3.580 TL\n",
      "Yenilenmiş iPhone 12 Pro Max 256 GB Mavi Cep Telefonu (1 Yıl Garantili) : 38.798 TL\n",
      "Yenilenmiş iPhone 11 128 GB Beyaz Cep Telefonu (1 Yıl Garantili) C Kalite : 18.399 TL\n",
      "Yenilenmiş iPhone 12 128 GB Yeşil Cep Telefonu (1 Yıl Garantili) : 24.598 TL\n",
      "Yenilenmiş iPhone 13 128 GB Yıldız Işığı Cep Telefonu (1 Yıl Garantili) : 31.898 TL\n",
      "Yenilenmiş iPhone 11 Pro Max 64 GB Altın Cep Telefonu (1 Yıl Garantili) B Kalite : 23.799 TL\n",
      "Yenilenmiş iPhone XR 128 GB Beyaz Cep Telefonu (1 Yıl Garantili) B Kalite : 13.719 TL\n",
      "Yenilenmiş iPhone X 64 GB Uzay Grisi Cep Telefonu (1 Yıl Garantili) C Kalite : 10.959 TL\n",
      "Yenilenmiş iPhone 12 Pro 256 GB Gümüş Cep Telefonu (1 Yıl Garantili) B Kalite : 33.299 TL\n",
      "Yenilenmiş iPhone 13 Mini 128 GB Yıldız Işığı Cep Telefonu (1 Yıl Garantili) B Kalite : 28.999 TL\n",
      "Yenilenmiş iPhone 12 Mini 64 GB Yeşil Cep Telefonu (1 Yıl Garantili) B Kalite : 18.579 TL\n"
     ]
    }
   ],
   "source": [
    "#sayfa6\n",
    "\n",
    "import requests\n",
    "from bs4 import BeautifulSoup\n",
    "excel = []\n",
    "\n",
    "url = \"https://www.teknosa.com/apple-yenilenmis-cep-telefonu-bc-124001001?gclsrc=aw.ds&gad_source=1&gclid=EAIaIQobChMI_-K11ZubhAMVVT8GAB0orQdwEAAYASAAEgIun_D_BwE&page=5\"\n",
    "\n",
    "headers = {\n",
    "    \"User-Agent\": \"Mozilla/5.0 (Windows NT 10.0; Win64; x64) AppleWebKit/537.36 (KHTML, like Gecko) Chrome/121.0.0.0 Safari/537.36\"\n",
    "}\n",
    "\n",
    "html = requests.get(url, headers=headers).content\n",
    "soup = BeautifulSoup(html, \"html.parser\")\n",
    "\n",
    "liste = soup.find_all(\"div\", {\"class\": \"prd-inner\"})\n",
    "\n",
    "for div in liste:\n",
    "    product_name = div.h3.text.strip()  \n",
    "    price_span = div.find(\"div\", {\"class\": \"prd-prices\"}).find(\"span\", {\"class\": \"prc-last\"})\n",
    "    price = price_span.text.strip() if price_span else \"Fiyat bulunamadı\"  # Eğer fiyat bilgisi yoksa \"Fiyat bulunamadı\" yazdır\n",
    "    \n",
    "    excel.append([product_name, price])\n",
    "\n",
    "    print(product_name, \":\", price)\n"
   ]
  },
  {
   "cell_type": "code",
   "execution_count": 16,
   "id": "279c712d",
   "metadata": {},
   "outputs": [
    {
     "name": "stdout",
     "output_type": "stream",
     "text": [
      "                                             URUN_ADI      FIYAT\n",
      "0   Yenilenmiş iPhone 13 Pro Max 128 GB Sierra Mav...  47.999 TL\n",
      "1   Yenilenmiş iPhone X 256 GB Gümüş Cep Telefonu ...  12.799 TL\n",
      "2   Yenilenmiş iPhone 13 Pro Max 128 GB Köknar Yeş...  45.799 TL\n",
      "3   Yenilenmiş iPhone 13 128 GB Yeşil Cep Telefonu...  30.119 TL\n",
      "4   Yenilenmiş iPhone 11 Pro 256 GB Yeşil Cep Tele...  24.899 TL\n",
      "5   Yenilenmiş iPhone 13 Pro 128 GB Sierra Mavisi ...  44.499 TL\n",
      "6   Yenilenmiş iPhone 7 Plus 128 GB Siyah Cep Tele...   6.199 TL\n",
      "7   Yenilenmiş iPhone XS Max 256 GB Gümüş Cep Tele...  16.198 TL\n",
      "8   Yenilenmiş iPhone XR 64 GB Beyaz Cep Telefonu ...  13.089 TL\n",
      "9   Yenilenmiş iPhone 7 32 GB Siyah Cep Telefonu (...   3.580 TL\n",
      "10  Yenilenmiş iPhone 12 Pro Max 256 GB Mavi Cep T...  38.798 TL\n",
      "11  Yenilenmiş iPhone 11 128 GB Beyaz Cep Telefonu...  18.399 TL\n",
      "12  Yenilenmiş iPhone 12 128 GB Yeşil Cep Telefonu...  24.598 TL\n",
      "13  Yenilenmiş iPhone 13 128 GB Yıldız Işığı Cep T...  31.898 TL\n",
      "14  Yenilenmiş iPhone 11 Pro Max 64 GB Altın Cep T...  23.799 TL\n",
      "15  Yenilenmiş iPhone XR 128 GB Beyaz Cep Telefonu...  13.719 TL\n",
      "16  Yenilenmiş iPhone X 64 GB Uzay Grisi Cep Telef...  10.959 TL\n",
      "17  Yenilenmiş iPhone 12 Pro 256 GB Gümüş Cep Tele...  33.299 TL\n",
      "18  Yenilenmiş iPhone 13 Mini 128 GB Yıldız Işığı ...  28.999 TL\n",
      "19  Yenilenmiş iPhone 12 Mini 64 GB Yeşil Cep Tele...  18.579 TL\n"
     ]
    }
   ],
   "source": [
    "df = pd.DataFrame(excel)\n",
    "\n",
    "df.columns = [\"URUN_ADI\",\"FIYAT\"]\n",
    "print(df)\n",
    "\n",
    "df.to_excel(\"tkenosa-page-6.xlsx\")"
   ]
  },
  {
   "cell_type": "code",
   "execution_count": 17,
   "id": "8e8168ef",
   "metadata": {},
   "outputs": [
    {
     "name": "stdout",
     "output_type": "stream",
     "text": [
      "Yenilenmiş iPhone XR 64 GB Beyaz Cep Telefonu (1 Yıl Garantili) B Kalite : 12.199 TL\n",
      "Yenilenmiş iPhone 12 64 GB Siyah Cep Telefonu (1 Yıl Garantili) B Kalite : 21.599 TL\n",
      "Yenilenmiş iPhone 12 Mini 64 GB Beyaz Cep Telefonu (1 Yıl Garantili) B Kalite : 18.579 TL\n",
      "Yenilenmiş iPhone 12 128 GB Siyah Cep Telefonu (1 Yıl Garantili) B Kalite : 23.999 TL\n",
      "Yenilenmiş iPhone X 256 GB Gümüş Cep Telefonu (1 Yıl Garantili) B Kalite : 13.298 TL\n",
      "Yenilenmiş iPhone 12 Mini 64 GB Mavi Cep Telefonu (1 Yıl Garantili) : 19.879 TL\n",
      "Yenilenmiş iPhone 11 Pro 64 GB Yeşil Cep Telefonu (1 Yıl Garantili) : 23.949 TL\n",
      "Yenilenmiş iPhone 13 Pro Max 512 GB Gümüş Cep Telefonu (1 Yıl Garantili) B Kalite : 51.999 TL\n",
      "Yenilenmiş iPhone 12 128 GB Kırmızı Cep Telefonu (1 Yıl Garantili) B Kalite : 23.999 TL\n",
      "Yenilenmiş iPhone SE 2020 128 GB Siyah Cep Telefonu (1 Yıl Garantili) : 9.999 TL\n",
      "Yenilenmiş iPhone 11 256 GB Siyah Cep Telefonu (1 Yıl Garantili) B Kalite : 18.499 TL\n",
      "Yenilenmiş iPhone 13 Pro 256 GB Grafit Cep Telefonu (1 Yıl Garantili) B Kalite : 44.899 TL\n",
      "Yenilenmiş iPhone X 256 GB Uzay Grisi Cep Telefonu (1 Yıl Garantili) B Kalite : 13.298 TL\n",
      "Yenilenmiş iPhone 12 128 GB Mor Cep Telefonu (1 Yıl Garantili) B Kalite : 23.799 TL\n",
      "Yenilenmiş iPhone X 256 GB Uzay Grisi Cep Telefonu (1 Yıl Garantili) : 14.099 TL\n",
      "Yenilenmiş iPhone 12 Pro 128 GB Altın Cep Telefonu (1 Yıl Garantili) B Kalite : 30.999 TL\n",
      "Yenilenmiş iPhone 12 Pro Max 128 GB Mavi Cep Telefonu (1 Yıl Garantili) : 36.989 TL\n",
      "Yenilenmiş iPhone 13 128 GB Yeşil Cep Telefonu (1 Yıl Garantili) : 31.749 TL\n",
      "Yenilenmiş iPhone X 256 GB Gümüş Cep Telefonu (1 Yıl Garantili) : 14.199 TL\n",
      "Yenilenmiş iPhone 11 128 GB Mor Cep Telefonu (1 Yıl Garantili) B Kalite : 17.999 TL\n"
     ]
    }
   ],
   "source": [
    "#sayfa7\n",
    "\n",
    "import requests\n",
    "from bs4 import BeautifulSoup\n",
    "\n",
    "excel = []\n",
    "\n",
    "url = \"https://www.teknosa.com/apple-yenilenmis-cep-telefonu-bc-124001001?gclsrc=aw.ds&gad_source=1&gclid=EAIaIQobChMI_-K11ZubhAMVVT8GAB0orQdwEAAYASAAEgIun_D_BwE&page=6\"\n",
    "\n",
    "headers = {\n",
    "    \"User-Agent\": \"Mozilla/5.0 (Windows NT 10.0; Win64; x64) AppleWebKit/537.36 (KHTML, like Gecko) Chrome/121.0.0.0 Safari/537.36\"\n",
    "}\n",
    "\n",
    "html = requests.get(url, headers=headers).content\n",
    "soup = BeautifulSoup(html, \"html.parser\")\n",
    "\n",
    "liste = soup.find_all(\"div\", {\"class\": \"prd-inner\"})\n",
    "\n",
    "for div in liste:\n",
    "    product_name = div.h3.text.strip()  \n",
    "    price_span = div.find(\"div\", {\"class\": \"prd-prices\"}).find(\"span\", {\"class\": \"prc-last\"})\n",
    "    price = price_span.text.strip() if price_span else \"Fiyat bulunamadı\"  # Eğer fiyat bilgisi yoksa \"Fiyat bulunamadı\" yazdır\n",
    "    \n",
    "    excel.append([product_name, price])\n",
    "\n",
    "    print(product_name, \":\", price)\n"
   ]
  },
  {
   "cell_type": "code",
   "execution_count": 18,
   "id": "711234a1",
   "metadata": {},
   "outputs": [
    {
     "name": "stdout",
     "output_type": "stream",
     "text": [
      "                                             URUN_ADI      FIYAT\n",
      "0   Yenilenmiş iPhone XR 64 GB Beyaz Cep Telefonu ...  12.199 TL\n",
      "1   Yenilenmiş iPhone 12 64 GB Siyah Cep Telefonu ...  21.599 TL\n",
      "2   Yenilenmiş iPhone 12 Mini 64 GB Beyaz Cep Tele...  18.579 TL\n",
      "3   Yenilenmiş iPhone 12 128 GB Siyah Cep Telefonu...  23.999 TL\n",
      "4   Yenilenmiş iPhone X 256 GB Gümüş Cep Telefonu ...  13.298 TL\n",
      "5   Yenilenmiş iPhone 12 Mini 64 GB Mavi Cep Telef...  19.879 TL\n",
      "6   Yenilenmiş iPhone 11 Pro 64 GB Yeşil Cep Telef...  23.949 TL\n",
      "7   Yenilenmiş iPhone 13 Pro Max 512 GB Gümüş Cep ...  51.999 TL\n",
      "8   Yenilenmiş iPhone 12 128 GB Kırmızı Cep Telefo...  23.999 TL\n",
      "9   Yenilenmiş iPhone SE 2020 128 GB Siyah Cep Tel...   9.999 TL\n",
      "10  Yenilenmiş iPhone 11 256 GB Siyah Cep Telefonu...  18.499 TL\n",
      "11  Yenilenmiş iPhone 13 Pro 256 GB Grafit Cep Tel...  44.899 TL\n",
      "12  Yenilenmiş iPhone X 256 GB Uzay Grisi Cep Tele...  13.298 TL\n",
      "13  Yenilenmiş iPhone 12 128 GB Mor Cep Telefonu (...  23.799 TL\n",
      "14  Yenilenmiş iPhone X 256 GB Uzay Grisi Cep Tele...  14.099 TL\n",
      "15  Yenilenmiş iPhone 12 Pro 128 GB Altın Cep Tele...  30.999 TL\n",
      "16  Yenilenmiş iPhone 12 Pro Max 128 GB Mavi Cep T...  36.989 TL\n",
      "17  Yenilenmiş iPhone 13 128 GB Yeşil Cep Telefonu...  31.749 TL\n",
      "18  Yenilenmiş iPhone X 256 GB Gümüş Cep Telefonu ...  14.199 TL\n",
      "19  Yenilenmiş iPhone 11 128 GB Mor Cep Telefonu (...  17.999 TL\n"
     ]
    }
   ],
   "source": [
    "df = pd.DataFrame(excel)\n",
    "\n",
    "df.columns = [\"URUN_ADI\",\"FIYAT\"]\n",
    "print(df)\n",
    "\n",
    "df.to_excel(\"tkenosa-page-7.xlsx\")"
   ]
  },
  {
   "cell_type": "code",
   "execution_count": 19,
   "id": "ced7eb84",
   "metadata": {},
   "outputs": [
    {
     "name": "stdout",
     "output_type": "stream",
     "text": [
      "Yenilenmiş iPhone 13 Pro 256 GB Gümüş Cep Telefonu (1 Yıl Garantili) B Kalite : 44.899 TL\n",
      "Yenilenmiş iPhone 6S Plus 32 GB Gümüş Cep Telefonu (1 Yıl Garantili) B Kalite : 2.899 TL\n",
      "Yenilenmiş iPhone 13 Pro 512 GB Sierra Mavisi Cep Telefonu (1 Yıl Garantili) B Kalite : 47.999 TL\n",
      "Yenilenmiş iPhone 12 128 GB Siyah Cep Telefonu (1 Yıl Garantili) : 24.599 TL\n",
      "Yenilenmiş iPhone 11 64 GB Siyah Cep Telefonu (1 Yıl Garantili) C Kalite : 15.869 TL\n",
      "Yenilenmiş iPhone 11 Pro 64 GB Yeşil Cep Telefonu (1 Yıl Garantili) B Kalite : 21.399 TL\n",
      "Yenilenmiş iPhone 12 128 GB Mor Cep Telefonu (1 Yıl Garantili) : 24.598 TL\n",
      "Yenilenmiş iPhone 12 64 GB Mavi Cep Telefonu (1 Yıl Garantili) : 22.599 TL\n",
      "Yenilenmiş iPhone 7 128 GB Siyah Cep Telefonu (1 Yıl Garantili) : 4.999 TL\n",
      "Yenilenmiş iPhone 12 Pro 256 GB Gri Cep Telefonu (1 Yıl Garantili) B Kalite : 33.299 TL\n",
      "Yenilenmiş iPhone 12 Pro 256 GB Gümüş Cep Telefonu (1 Yıl Garantili) : 34.599 TL\n",
      "Yenilenmiş iPhone 8 Plus 64 GB Altın Cep Telefonu (1 Yıl Garantili) B Kalite : 8.108 TL\n",
      "Yenilenmiş iPhone 8 Plus 128 GB Siyah Cep Telefonu (1 Yıl Garantili) : 9.859 TL\n",
      "Yenilenmiş iPhone 7 Plus 32 GB Siyah Cep Telefonu (1 Yıl Garantili) : 4.988 TL\n",
      "Yenilenmiş iPhone 11 Pro Max 256 GB Beyaz Cep Telefonu (1 Yıl Garantili) : 28.999 TL\n",
      "Yenilenmiş iPhone 11 Pro Max 64 GB Gümüş Cep Telefonu (1 Yıl Garantili) B Kalite : 23.799 TL\n",
      "Yenilenmiş iPhone 13 Pro Max 256 GB Altın Cep Telefonu (1 Yıl Garantili) B Kalite : 48.599 TL\n",
      "Yenilenmiş iPhone XS Max 64 GB Uzay Grisi Cep Telefonu (1 Yıl Garantili) B Kalite : 14.799 TL\n",
      "Yenilenmiş iPhone 12 128 GB Beyaz Cep Telefonu (1 Yıl Garantili) : 24.598 TL\n",
      "Yenilenmiş iPhone 11 256 GB Siyah Cep Telefonu (1 Yıl Garantili) : 20.649 TL\n"
     ]
    }
   ],
   "source": [
    "#sayfa8\n",
    "\n",
    "import requests\n",
    "from bs4 import BeautifulSoup\n",
    "\n",
    "excel = []\n",
    "\n",
    "url = \"https://www.teknosa.com/apple-yenilenmis-cep-telefonu-bc-124001001?gclsrc=aw.ds&gad_source=1&gclid=EAIaIQobChMI_-K11ZubhAMVVT8GAB0orQdwEAAYASAAEgIun_D_BwE&page=7\"\n",
    "\n",
    "headers = {\n",
    "    \"User-Agent\": \"Mozilla/5.0 (Windows NT 10.0; Win64; x64) AppleWebKit/537.36 (KHTML, like Gecko) Chrome/121.0.0.0 Safari/537.36\"\n",
    "}\n",
    "\n",
    "html = requests.get(url, headers=headers).content\n",
    "soup = BeautifulSoup(html, \"html.parser\")\n",
    "\n",
    "liste = soup.find_all(\"div\", {\"class\": \"prd-inner\"})\n",
    "\n",
    "for div in liste:\n",
    "    product_name = div.h3.text.strip()  \n",
    "    price_span = div.find(\"div\", {\"class\": \"prd-prices\"}).find(\"span\", {\"class\": \"prc-last\"})\n",
    "    price = price_span.text.strip() if price_span else \"Fiyat bulunamadı\"  # Eğer fiyat bilgisi yoksa \"Fiyat bulunamadı\" yazdır\n",
    "    \n",
    "    excel.append([product_name, price])\n",
    "\n",
    "    print(product_name, \":\", price)\n"
   ]
  },
  {
   "cell_type": "code",
   "execution_count": 20,
   "id": "a371a8fc",
   "metadata": {},
   "outputs": [
    {
     "name": "stdout",
     "output_type": "stream",
     "text": [
      "                                             URUN_ADI      FIYAT\n",
      "0   Yenilenmiş iPhone 13 Pro 256 GB Gümüş Cep Tele...  44.899 TL\n",
      "1   Yenilenmiş iPhone 6S Plus 32 GB Gümüş Cep Tele...   2.899 TL\n",
      "2   Yenilenmiş iPhone 13 Pro 512 GB Sierra Mavisi ...  47.999 TL\n",
      "3   Yenilenmiş iPhone 12 128 GB Siyah Cep Telefonu...  24.599 TL\n",
      "4   Yenilenmiş iPhone 11 64 GB Siyah Cep Telefonu ...  15.869 TL\n",
      "5   Yenilenmiş iPhone 11 Pro 64 GB Yeşil Cep Telef...  21.399 TL\n",
      "6   Yenilenmiş iPhone 12 128 GB Mor Cep Telefonu (...  24.598 TL\n",
      "7   Yenilenmiş iPhone 12 64 GB Mavi Cep Telefonu (...  22.599 TL\n",
      "8   Yenilenmiş iPhone 7 128 GB Siyah Cep Telefonu ...   4.999 TL\n",
      "9   Yenilenmiş iPhone 12 Pro 256 GB Gri Cep Telefo...  33.299 TL\n",
      "10  Yenilenmiş iPhone 12 Pro 256 GB Gümüş Cep Tele...  34.599 TL\n",
      "11  Yenilenmiş iPhone 8 Plus 64 GB Altın Cep Telef...   8.108 TL\n",
      "12  Yenilenmiş iPhone 8 Plus 128 GB Siyah Cep Tele...   9.859 TL\n",
      "13  Yenilenmiş iPhone 7 Plus 32 GB Siyah Cep Telef...   4.988 TL\n",
      "14  Yenilenmiş iPhone 11 Pro Max 256 GB Beyaz Cep ...  28.999 TL\n",
      "15  Yenilenmiş iPhone 11 Pro Max 64 GB Gümüş Cep T...  23.799 TL\n",
      "16  Yenilenmiş iPhone 13 Pro Max 256 GB Altın Cep ...  48.599 TL\n",
      "17  Yenilenmiş iPhone XS Max 64 GB Uzay Grisi Cep ...  14.799 TL\n",
      "18  Yenilenmiş iPhone 12 128 GB Beyaz Cep Telefonu...  24.598 TL\n",
      "19  Yenilenmiş iPhone 11 256 GB Siyah Cep Telefonu...  20.649 TL\n"
     ]
    }
   ],
   "source": [
    "df = pd.DataFrame(excel)\n",
    "\n",
    "df.columns = [\"URUN_ADI\",\"FIYAT\"]\n",
    "print(df)\n",
    "\n",
    "df.to_excel(\"tkenosa-page-8.xlsx\")"
   ]
  },
  {
   "cell_type": "code",
   "execution_count": 21,
   "id": "27ba6a10",
   "metadata": {},
   "outputs": [
    {
     "name": "stdout",
     "output_type": "stream",
     "text": [
      "Yenilenmiş iPhone 12 Mini 128 GB Mavi Cep Telefonu (1 Yıl Garantili) B Kalite : 19.949 TL\n",
      "Yenilenmiş iPhone 12 Pro Max 512 GB Siyah Cep Telefonu (1 Yıl Garantili) B Kalite : 39.999 TL\n",
      "Yenilenmiş iPhone SE 2020 128 GB Siyah Cep Telefonu (1 Yıl Garantili) B Kalite : 9.658 TL\n",
      "Yenilenmiş iPhone 6S Plus 32 GB Altın Cep Telefonu (1 Yıl Garantili) B Kalite : 2.899 TL\n",
      "Yenilenmiş iPhone 12 Mini 64 GB Kırmızı Cep Telefonu (1 Yıl Garantili) B Kalite : 18.579 TL\n",
      "Yenilenmiş iPhone 7 128 GB Rose Gold Cep Telefonu (1 Yıl Garantili) B Kalite : 3.869 TL\n",
      "Yenilenmiş iPhone 12 Pro 128 GB Mavi Cep Telefonu (1 Yıl Garantili) : 32.199 TL\n",
      "Yenilenmiş iPhone 14 Plus 256 GB Mavi Cep Telefonu (1 Yıl Garantili) B Kalite : 41.999 TL\n",
      "Yenilenmiş iPhone 13 Pro Max 256 GB Köknar Yeşili Cep Telefonu (1 Yıl Garantili) : 51.999 TL\n",
      "Yenilenmiş iPhone 12 Mini 128 GB Beyaz Cep Telefonu (1 Yıl Garantili) : 20.799 TL\n",
      "Yenilenmiş iPhone 13 Pro Max 128 GB Grafit Cep Telefonu (1 Yıl Garantili) : 47.999 TL\n",
      "Yenilenmiş iPhone 13 Pro Max 256 GB Gümüş Cep Telefonu (1 Yıl Garantili) : 51.999 TL\n",
      "Yenilenmiş iPhone SE 2020 256 GB Siyah Cep Telefonu (1 Yıl Garantili) : 10.799 TL\n",
      "Yenilenmiş iPhone 13 128 GB Kırmızı Cep Telefonu (1 Yıl Garantili) B Kalite : 30.119 TL\n",
      "Yenilenmiş iPhone 12 Pro 256 GB Mavi Cep Telefonu (1 Yıl Garantili) B Kalite : 33.299 TL\n",
      "Yenilenmiş iPhone 12 64 GB Beyaz Cep Telefonu (1 Yıl Garantili) : 22.599 TL\n",
      "Yenilenmiş iPhone 12 64 GB Siyah Cep Telefonu (1 Yıl Garantili) : 22.599 TL\n",
      "Yenilenmiş iPhone 7 32 GB Altın Cep Telefonu (1 Yıl Garantili) : 3.398 TL\n",
      "Yenilenmiş iPhone 13 128 GB Mavi Cep Telefonu (1 Yıl Garantili) : 31.749 TL\n",
      "Yenilenmiş iPhone SE 2020 128 GB Kırmızı Cep Telefonu (1 Yıl Garantili) : 9.999 TL\n"
     ]
    }
   ],
   "source": [
    "#sayfa9\n",
    "\n",
    "import requests\n",
    "from bs4 import BeautifulSoup\n",
    "\n",
    "excel = []\n",
    "\n",
    "url = \"https://www.teknosa.com/apple-yenilenmis-cep-telefonu-bc-124001001?gclsrc=aw.ds&gad_source=1&gclid=EAIaIQobChMI_-K11ZubhAMVVT8GAB0orQdwEAAYASAAEgIun_D_BwE&page=8\"\n",
    "\n",
    "headers = {\n",
    "    \"User-Agent\": \"Mozilla/5.0 (Windows NT 10.0; Win64; x64) AppleWebKit/537.36 (KHTML, like Gecko) Chrome/121.0.0.0 Safari/537.36\"\n",
    "}\n",
    "\n",
    "html = requests.get(url, headers=headers).content\n",
    "soup = BeautifulSoup(html, \"html.parser\")\n",
    "\n",
    "liste = soup.find_all(\"div\", {\"class\": \"prd-inner\"})\n",
    "\n",
    "for div in liste:\n",
    "    product_name = div.h3.text.strip()  \n",
    "    price_span = div.find(\"div\", {\"class\": \"prd-prices\"}).find(\"span\", {\"class\": \"prc-last\"})\n",
    "    price = price_span.text.strip() if price_span else \"Fiyat bulunamadı\"  # Eğer fiyat bilgisi yoksa \"Fiyat bulunamadı\" yazdır\n",
    "    \n",
    "    excel.append([product_name, price])\n",
    "\n",
    "    print(product_name, \":\", price)\n"
   ]
  },
  {
   "cell_type": "code",
   "execution_count": 22,
   "id": "e0b2d32b",
   "metadata": {},
   "outputs": [
    {
     "name": "stdout",
     "output_type": "stream",
     "text": [
      "                                             URUN_ADI      FIYAT\n",
      "0   Yenilenmiş iPhone 12 Mini 128 GB Mavi Cep Tele...  19.949 TL\n",
      "1   Yenilenmiş iPhone 12 Pro Max 512 GB Siyah Cep ...  39.999 TL\n",
      "2   Yenilenmiş iPhone SE 2020 128 GB Siyah Cep Tel...   9.658 TL\n",
      "3   Yenilenmiş iPhone 6S Plus 32 GB Altın Cep Tele...   2.899 TL\n",
      "4   Yenilenmiş iPhone 12 Mini 64 GB Kırmızı Cep Te...  18.579 TL\n",
      "5   Yenilenmiş iPhone 7 128 GB Rose Gold Cep Telef...   3.869 TL\n",
      "6   Yenilenmiş iPhone 12 Pro 128 GB Mavi Cep Telef...  32.199 TL\n",
      "7   Yenilenmiş iPhone 14 Plus 256 GB Mavi Cep Tele...  41.999 TL\n",
      "8   Yenilenmiş iPhone 13 Pro Max 256 GB Köknar Yeş...  51.999 TL\n",
      "9   Yenilenmiş iPhone 12 Mini 128 GB Beyaz Cep Tel...  20.799 TL\n",
      "10  Yenilenmiş iPhone 13 Pro Max 128 GB Grafit Cep...  47.999 TL\n",
      "11  Yenilenmiş iPhone 13 Pro Max 256 GB Gümüş Cep ...  51.999 TL\n",
      "12  Yenilenmiş iPhone SE 2020 256 GB Siyah Cep Tel...  10.799 TL\n",
      "13  Yenilenmiş iPhone 13 128 GB Kırmızı Cep Telefo...  30.119 TL\n",
      "14  Yenilenmiş iPhone 12 Pro 256 GB Mavi Cep Telef...  33.299 TL\n",
      "15  Yenilenmiş iPhone 12 64 GB Beyaz Cep Telefonu ...  22.599 TL\n",
      "16  Yenilenmiş iPhone 12 64 GB Siyah Cep Telefonu ...  22.599 TL\n",
      "17  Yenilenmiş iPhone 7 32 GB Altın Cep Telefonu (...   3.398 TL\n",
      "18  Yenilenmiş iPhone 13 128 GB Mavi Cep Telefonu ...  31.749 TL\n",
      "19  Yenilenmiş iPhone SE 2020 128 GB Kırmızı Cep T...   9.999 TL\n"
     ]
    }
   ],
   "source": [
    "df = pd.DataFrame(excel)\n",
    "\n",
    "df.columns = [\"URUN_ADI\",\"FIYAT\"]\n",
    "print(df)\n",
    "\n",
    "df.to_excel(\"tkenosa-page-9.xlsx\")"
   ]
  },
  {
   "cell_type": "code",
   "execution_count": 23,
   "id": "80ec7cb1",
   "metadata": {},
   "outputs": [
    {
     "name": "stdout",
     "output_type": "stream",
     "text": [
      "Yenilenmiş iPhone 13 Pro Max 256 GB Gümüş Cep Telefonu (1 Yıl Garantili) B Kalite : 48.599 TL\n",
      "Yenilenmiş iPhone 13 Pro Max 128 GB Gümüş Cep Telefonu (1 Yıl Garantili) : 47.999 TL\n",
      "Yenilenmiş iPhone 8 64 GB Gümüş Cep Telefonu (1 Yıl Garantili) : 6.199 TL\n",
      "Yenilenmiş iPhone SE 2020 64 GB Siyah Cep Telefonu (1 Yıl Garantili) C Kalite : 7.949 TL\n",
      "Yenilenmiş iPhone SE 2020 64 GB Beyaz Cep Telefonu (1 Yıl Garantili) B Kalite : 7.979 TL\n",
      "Yenilenmiş iPhone 11 Pro Max 64 GB Yeşil Cep Telefonu (1 Yıl Garantili) B Kalite : 23.799 TL\n",
      "Yenilenmiş iPhone SE 2020 128 GB Beyaz Cep Telefonu (1 Yıl Garantili) : 9.599 TL\n",
      "Yenilenmiş iPhone 13 Pro Max 128 GB Altın Cep Telefonu (1 Yıl Garantili) : 47.999 TL\n",
      "Yenilenmiş iPhone XR 128 GB Siyah Cep Telefonu (1 Yıl Garantili) B Kalite : 13.718 TL\n",
      "Yenilenmiş iPhone 12 Pro Max 128 GB Gold Cep Telefonu (1 Yıl Garantili) B Kalite : 35.799 TL\n",
      "Yenilenmiş iPhone 12 Mini 128 GB Siyah Cep Telefonu (1 Yıl Garantili) : 29.999 TL\n",
      "Yenilenmiş iPhone 8 Plus 64 GB Beyaz Cep Telefonu (1 Yıl Garantili) B Kalite : 8.119 TL\n",
      "Yenilenmiş iPhone 11 256 GB Mor Cep Telefonu (1 Yıl Garantili) B Kalite : 18.849 TL\n",
      "Yenilenmiş iPhone 8 Plus 128 GB Beyaz Cep Telefonu (1 Yıl Garantili) : 9.859 TL\n",
      "Yenilenmiş iPhone 8 Plus 64 GB Uzay Grisi Cep Telefonu (1 Yıl Garantili) C Kalite : 7.679 TL\n",
      "Yenilenmiş iPhone XS 64 GB Altın Cep Telefonu (1 Yıl Garantili) B Kalite : 13.599 TL\n",
      "Yenilenmiş iPhone 7 Plus 32 GB Rose Gold Cep Telefonu (1 Yıl Garantili) B Kalite : 4.779 TL\n",
      "Yenilenmiş iPhone 12 Pro 256 GB Mavi Cep Telefonu (1 Yıl Garantili) : 34.599 TL\n",
      "Yenilenmiş iPhone 7 Plus 128 GB Rose Gold Cep Telefonu (1 Yıl Garantili) C Kalite : 5.717 TL\n",
      "Yenilenmiş iPhone 8 Plus 256 GB Altın Cep Telefonu (1 Yıl Garantili) : 10.799 TL\n"
     ]
    }
   ],
   "source": [
    "#sayfa10\n",
    "\n",
    "import requests\n",
    "from bs4 import BeautifulSoup\n",
    "\n",
    "excel = []\n",
    "\n",
    "url = \"https://www.teknosa.com/apple-yenilenmis-cep-telefonu-bc-124001001?gclsrc=aw.ds&gad_source=1&gclid=EAIaIQobChMI_-K11ZubhAMVVT8GAB0orQdwEAAYASAAEgIun_D_BwE&page=9\"\n",
    "\n",
    "headers = {\n",
    "    \"User-Agent\": \"Mozilla/5.0 (Windows NT 10.0; Win64; x64) AppleWebKit/537.36 (KHTML, like Gecko) Chrome/121.0.0.0 Safari/537.36\"\n",
    "}\n",
    "\n",
    "html = requests.get(url, headers=headers).content\n",
    "soup = BeautifulSoup(html, \"html.parser\")\n",
    "\n",
    "liste = soup.find_all(\"div\", {\"class\": \"prd-inner\"})\n",
    "\n",
    "for div in liste:\n",
    "    product_name = div.h3.text.strip()  \n",
    "    price_span = div.find(\"div\", {\"class\": \"prd-prices\"}).find(\"span\", {\"class\": \"prc-last\"})\n",
    "    price = price_span.text.strip() if price_span else \"Fiyat bulunamadı\"  # Eğer fiyat bilgisi yoksa \"Fiyat bulunamadı\" yazdır\n",
    "    \n",
    "    excel.append([product_name, price])\n",
    "\n",
    "    print(product_name, \":\", price)\n"
   ]
  },
  {
   "cell_type": "code",
   "execution_count": 24,
   "id": "c793055e",
   "metadata": {},
   "outputs": [
    {
     "name": "stdout",
     "output_type": "stream",
     "text": [
      "                                             URUN_ADI      FIYAT\n",
      "0   Yenilenmiş iPhone 13 Pro Max 256 GB Gümüş Cep ...  48.599 TL\n",
      "1   Yenilenmiş iPhone 13 Pro Max 128 GB Gümüş Cep ...  47.999 TL\n",
      "2   Yenilenmiş iPhone 8 64 GB Gümüş Cep Telefonu (...   6.199 TL\n",
      "3   Yenilenmiş iPhone SE 2020 64 GB Siyah Cep Tele...   7.949 TL\n",
      "4   Yenilenmiş iPhone SE 2020 64 GB Beyaz Cep Tele...   7.979 TL\n",
      "5   Yenilenmiş iPhone 11 Pro Max 64 GB Yeşil Cep T...  23.799 TL\n",
      "6   Yenilenmiş iPhone SE 2020 128 GB Beyaz Cep Tel...   9.599 TL\n",
      "7   Yenilenmiş iPhone 13 Pro Max 128 GB Altın Cep ...  47.999 TL\n",
      "8   Yenilenmiş iPhone XR 128 GB Siyah Cep Telefonu...  13.718 TL\n",
      "9   Yenilenmiş iPhone 12 Pro Max 128 GB Gold Cep T...  35.799 TL\n",
      "10  Yenilenmiş iPhone 12 Mini 128 GB Siyah Cep Tel...  29.999 TL\n",
      "11  Yenilenmiş iPhone 8 Plus 64 GB Beyaz Cep Telef...   8.119 TL\n",
      "12  Yenilenmiş iPhone 11 256 GB Mor Cep Telefonu (...  18.849 TL\n",
      "13  Yenilenmiş iPhone 8 Plus 128 GB Beyaz Cep Tele...   9.859 TL\n",
      "14  Yenilenmiş iPhone 8 Plus 64 GB Uzay Grisi Cep ...   7.679 TL\n",
      "15  Yenilenmiş iPhone XS 64 GB Altın Cep Telefonu ...  13.599 TL\n",
      "16  Yenilenmiş iPhone 7 Plus 32 GB Rose Gold Cep T...   4.779 TL\n",
      "17  Yenilenmiş iPhone 12 Pro 256 GB Mavi Cep Telef...  34.599 TL\n",
      "18  Yenilenmiş iPhone 7 Plus 128 GB Rose Gold Cep ...   5.717 TL\n",
      "19  Yenilenmiş iPhone 8 Plus 256 GB Altın Cep Tele...  10.799 TL\n"
     ]
    }
   ],
   "source": [
    "df = pd.DataFrame(excel)\n",
    "\n",
    "df.columns = [\"URUN_ADI\",\"FIYAT\"]\n",
    "print(df)\n",
    "\n",
    "df.to_excel(\"tkenosa-page-10.xlsx\")"
   ]
  },
  {
   "cell_type": "code",
   "execution_count": 25,
   "id": "c84d6a9d",
   "metadata": {},
   "outputs": [
    {
     "name": "stdout",
     "output_type": "stream",
     "text": [
      "Yenilenmiş iPhone XS 64 GB Gümüş Cep Telefonu (1 Yıl Garantili) B Kalite : 13.499 TL\n",
      "Yenilenmiş Apple iPhone SE 3 64 GB Beyaz Cep Telefonu (1 Yıl Garantili) B Kalite : 14.789 TL\n",
      "Yenilenmiş iPhone XS Max 256 GB Altın Cep Telefonu (1 Yıl Garantili) : 17.199 TL\n",
      "Yenilenmiş iPhone 13 Pro Max 1 TB Grafit Cep Telefonu (1 Yıl Garantili) B Kalite : 53.999 TL\n",
      "Yenilenmiş iPhone 7 Plus 128 GB Gümüş Cep Telefonu (1 Yıl Garantili) : 6.298 TL\n",
      "Yenilenmiş iPhone 12 Pro Max 256 GB Gold Cep Telefonu (1 Yıl Garantili) B Kalite : 37.599 TL\n",
      "Yenilenmiş iPhone SE 2020 64 GB Beyaz Cep Telefonu (1 Yıl Garantili) : 8.599 TL\n",
      "Yenilenmiş iPhone 11 Pro 256 GB Altın Cep Telefonu (1 Yıl Garantili) B Kalite : 24.889 TL\n",
      "Yenilenmiş iPhone 11 Pro 64 GB Altın Cep Telefonu (1 Yıl Garantili) : 23.999 TL\n",
      "Yenilenmiş iPhone 12 Pro 128 GB Gümüş Cep Telefonu (1 Yıl Garantili) : 32.199 TL\n",
      "Yenilenmiş iPhone 8 64 GB Kırmızı Cep Telefonu (1 Yıl Garantili) : 6.999 TL\n",
      "Yenilenmiş iPhone 11 128 GB Mor Cep Telefonu (1 Yıl Garantili) : 18.999 TL\n",
      "Yenilenmiş iPhone 12 64 GB Beyaz Cep Telefonu (1 Yıl Garantili) B Kalite : 21.599 TL\n",
      "Yenilenmiş iPhone 12 Mini 64 GB Yeşil Cep Telefonu (1 Yıl Garantili) : 19.799 TL\n",
      "Yenilenmiş iPhone  8 128 GB Uzay Grisi Cep Telefonu (1 Yıl Garantili) : 7.169 TL\n",
      "Yenilenmiş iPhone 7 256 GB Siyah Cep Telefonu (1 Yıl Garantili) B Kalite : 4.579 TL\n",
      "Yenilenmiş iPhone XS Max 256 GB Uzay Grisi Cep Telefonu (1 Yıl Garantili) B Kalite : 16.199 TL\n",
      "Yenilenmiş iPhone XR 64 GB Kırmızı Cep Telefonu (1 Yıl Garantili) B Kalite : 12.199 TL\n",
      "Yenilenmiş iPhone 11 Pro Max 256 GB Yeşil Cep Telefonu (1 Yıl Garantili) : 28.879 TL\n",
      "Yenilenmiş iPhone 12 Mini 64 GB Kırmızı Cep Telefonu (1 Yıl Garantili) : 19.799 TL\n"
     ]
    }
   ],
   "source": [
    "#sayfa11\n",
    "\n",
    "import requests\n",
    "from bs4 import BeautifulSoup\n",
    "\n",
    "excel = []\n",
    "\n",
    "url = \"https://www.teknosa.com/apple-yenilenmis-cep-telefonu-bc-124001001?gclsrc=aw.ds&gad_source=1&gclid=EAIaIQobChMI_-K11ZubhAMVVT8GAB0orQdwEAAYASAAEgIun_D_BwE&page=10\"\n",
    "\n",
    "headers = {\n",
    "    \"User-Agent\": \"Mozilla/5.0 (Windows NT 10.0; Win64; x64) AppleWebKit/537.36 (KHTML, like Gecko) Chrome/121.0.0.0 Safari/537.36\"\n",
    "}\n",
    "\n",
    "html = requests.get(url, headers=headers).content\n",
    "soup = BeautifulSoup(html, \"html.parser\")\n",
    "\n",
    "liste = soup.find_all(\"div\", {\"class\": \"prd-inner\"})\n",
    "\n",
    "for div in liste:\n",
    "    product_name = div.h3.text.strip()  \n",
    "    price_span = div.find(\"div\", {\"class\": \"prd-prices\"}).find(\"span\", {\"class\": \"prc-last\"})\n",
    "    price = price_span.text.strip() if price_span else \"Fiyat bulunamadı\"  # Eğer fiyat bilgisi yoksa \"Fiyat bulunamadı\" yazdır\n",
    "    \n",
    "    excel.append([product_name, price])\n",
    "\n",
    "    print(product_name, \":\", price)"
   ]
  },
  {
   "cell_type": "code",
   "execution_count": 26,
   "id": "67314f79",
   "metadata": {},
   "outputs": [
    {
     "name": "stdout",
     "output_type": "stream",
     "text": [
      "                                             URUN_ADI      FIYAT\n",
      "0   Yenilenmiş iPhone XS 64 GB Gümüş Cep Telefonu ...  13.499 TL\n",
      "1   Yenilenmiş Apple iPhone SE 3 64 GB Beyaz Cep T...  14.789 TL\n",
      "2   Yenilenmiş iPhone XS Max 256 GB Altın Cep Tele...  17.199 TL\n",
      "3   Yenilenmiş iPhone 13 Pro Max 1 TB Grafit Cep T...  53.999 TL\n",
      "4   Yenilenmiş iPhone 7 Plus 128 GB Gümüş Cep Tele...   6.298 TL\n",
      "5   Yenilenmiş iPhone 12 Pro Max 256 GB Gold Cep T...  37.599 TL\n",
      "6   Yenilenmiş iPhone SE 2020 64 GB Beyaz Cep Tele...   8.599 TL\n",
      "7   Yenilenmiş iPhone 11 Pro 256 GB Altın Cep Tele...  24.889 TL\n",
      "8   Yenilenmiş iPhone 11 Pro 64 GB Altın Cep Telef...  23.999 TL\n",
      "9   Yenilenmiş iPhone 12 Pro 128 GB Gümüş Cep Tele...  32.199 TL\n",
      "10  Yenilenmiş iPhone 8 64 GB Kırmızı Cep Telefonu...   6.999 TL\n",
      "11  Yenilenmiş iPhone 11 128 GB Mor Cep Telefonu (...  18.999 TL\n",
      "12  Yenilenmiş iPhone 12 64 GB Beyaz Cep Telefonu ...  21.599 TL\n",
      "13  Yenilenmiş iPhone 12 Mini 64 GB Yeşil Cep Tele...  19.799 TL\n",
      "14  Yenilenmiş iPhone  8 128 GB Uzay Grisi Cep Tel...   7.169 TL\n",
      "15  Yenilenmiş iPhone 7 256 GB Siyah Cep Telefonu ...   4.579 TL\n",
      "16  Yenilenmiş iPhone XS Max 256 GB Uzay Grisi Cep...  16.199 TL\n",
      "17  Yenilenmiş iPhone XR 64 GB Kırmızı Cep Telefon...  12.199 TL\n",
      "18  Yenilenmiş iPhone 11 Pro Max 256 GB Yeşil Cep ...  28.879 TL\n",
      "19  Yenilenmiş iPhone 12 Mini 64 GB Kırmızı Cep Te...  19.799 TL\n"
     ]
    }
   ],
   "source": [
    "df = pd.DataFrame(excel)\n",
    "\n",
    "df.columns = [\"URUN_ADI\",\"FIYAT\"]\n",
    "print(df)\n",
    "\n",
    "df.to_excel(\"tkenosa-page-11.xlsx\")"
   ]
  },
  {
   "cell_type": "code",
   "execution_count": 27,
   "id": "a5bf3b97",
   "metadata": {},
   "outputs": [
    {
     "name": "stdout",
     "output_type": "stream",
     "text": [
      "Yenilenmiş iPhone 8 Plus 256 GB Beyaz Cep Telefonu (1 Yıl Garantili) : 10.799 TL\n",
      "Yenilenmiş iPhone 13 Pro 256 GB Altın Cep Telefonu (1 Yıl Garantili) B Kalite : 44.899 TL\n",
      "Yenilenmiş iPhone 12 64 GB Yeşil Cep Telefonu (1 Yıl Garantili) B Kalite : 21.599 TL\n",
      "Yenilenmiş iPhone XS 256 GB Uzay Grisi Cep Telefonu (1 Yıl Garantili) B Kalite : 14.898 TL\n",
      "Yenilenmiş iPhone 12 64 GB Mor Cep Telefonu (1 Yıl Garantili) : 22.599 TL\n",
      "Yenilenmiş iPhone 8 Plus 128 GB Altın Cep Telefonu (1 Yıl Garantili) B Kalite : 9.099 TL\n",
      "Yenilenmiş iPhone 13 256 GB Mavi Cep Telefonu (1 Yıl Garantili) : 37.999 TL\n",
      "Yenilenmiş iPhone 7 128 GB Altın Cep Telefonu (1 Yıl Garantili) : 4.999 TL\n",
      "Yenilenmiş iPhone 7 32 GB Rose Gold Cep Telefonu (1 Yıl Garantili) : 3.349 TL\n",
      "Yenilenmiş iPhone 8 Plus 256 GB Altın Cep Telefonu (1 Yıl Garantili) B Kalite : 9.799 TL\n",
      "Yenilenmiş iPhone 12 Mini 64 GB Mor Cep Telefonu (1 Yıl Garantili) : 19.879 TL\n",
      "Yenilenmiş iPhone 7 Plus 32 GB Rose Gold Cep Telefonu (1 Yıl Garantili) : 4.988 TL\n",
      "Yenilenmiş iPhone 12 Pro Max 256 GB Siyah Cep Telefonu (1 Yıl Garantili) B Kalite : 37.599 TL\n",
      "Yenilenmiş iPhone 12 Mini 64 GB Beyaz Cep Telefonu (1 Yıl Garantili) : 19.848 TL\n",
      "Yenilenmiş iPhone 12 Mini 256 GB Mor Cep Telefonu (1 Yıl Garantili) B Kalite : 21.999 TL\n",
      "Yenilenmiş iPhone XS Max 256 GB Gümüş Cep Telefonu (1 Yıl Garantili) : 17.199 TL\n",
      "Yenilenmiş iPhone 11 Pro Max 256 GB Uzay Grisi Cep Telefonu (1 Yıl Garantili) : 28.888 TL\n",
      "Yenilenmiş iPhone 12 Mini 64 GB Siyah Cep Telefonu (1 Yıl Garantili) : 19.879 TL\n",
      "Yenilenmiş iPhone 8 64 GB Uzay Grisi Cep Telefonu (1 Yıl Garantili) B Kalite : 5.799 TL\n",
      "Yenilenmiş iPhone 11 256 GB Beyaz Cep Telefonu (1 Yıl Garantili) : 20.649 TL\n"
     ]
    }
   ],
   "source": [
    "#sayfa12\n",
    "\n",
    "import requests\n",
    "from bs4 import BeautifulSoup\n",
    "excel = []\n",
    "\n",
    "url = \"https://www.teknosa.com/apple-yenilenmis-cep-telefonu-bc-124001001?gclsrc=aw.ds&gad_source=1&gclid=EAIaIQobChMI_-K11ZubhAMVVT8GAB0orQdwEAAYASAAEgIun_D_BwE&page=11\"\n",
    "\n",
    "headers = {\n",
    "    \"User-Agent\": \"Mozilla/5.0 (Windows NT 10.0; Win64; x64) AppleWebKit/537.36 (KHTML, like Gecko) Chrome/121.0.0.0 Safari/537.36\"\n",
    "}\n",
    "\n",
    "html = requests.get(url, headers=headers).content\n",
    "soup = BeautifulSoup(html, \"html.parser\")\n",
    "\n",
    "liste = soup.find_all(\"div\", {\"class\": \"prd-inner\"})\n",
    "\n",
    "for div in liste:\n",
    "    product_name = div.h3.text.strip()  \n",
    "    price_span = div.find(\"div\", {\"class\": \"prd-prices\"}).find(\"span\", {\"class\": \"prc-last\"})\n",
    "    price = price_span.text.strip() if price_span else \"Fiyat bulunamadı\"  # Eğer fiyat bilgisi yoksa \"Fiyat bulunamadı\" yazdır\n",
    "    \n",
    "    excel.append([product_name, price])\n",
    "\n",
    "    print(product_name, \":\", price)"
   ]
  },
  {
   "cell_type": "code",
   "execution_count": 28,
   "id": "f6ed2a46",
   "metadata": {},
   "outputs": [
    {
     "name": "stdout",
     "output_type": "stream",
     "text": [
      "                                             URUN_ADI      FIYAT\n",
      "0   Yenilenmiş iPhone 8 Plus 256 GB Beyaz Cep Tele...  10.799 TL\n",
      "1   Yenilenmiş iPhone 13 Pro 256 GB Altın Cep Tele...  44.899 TL\n",
      "2   Yenilenmiş iPhone 12 64 GB Yeşil Cep Telefonu ...  21.599 TL\n",
      "3   Yenilenmiş iPhone XS 256 GB Uzay Grisi Cep Tel...  14.898 TL\n",
      "4   Yenilenmiş iPhone 12 64 GB Mor Cep Telefonu (1...  22.599 TL\n",
      "5   Yenilenmiş iPhone 8 Plus 128 GB Altın Cep Tele...   9.099 TL\n",
      "6   Yenilenmiş iPhone 13 256 GB Mavi Cep Telefonu ...  37.999 TL\n",
      "7   Yenilenmiş iPhone 7 128 GB Altın Cep Telefonu ...   4.999 TL\n",
      "8   Yenilenmiş iPhone 7 32 GB Rose Gold Cep Telefo...   3.349 TL\n",
      "9   Yenilenmiş iPhone 8 Plus 256 GB Altın Cep Tele...   9.799 TL\n",
      "10  Yenilenmiş iPhone 12 Mini 64 GB Mor Cep Telefo...  19.879 TL\n",
      "11  Yenilenmiş iPhone 7 Plus 32 GB Rose Gold Cep T...   4.988 TL\n",
      "12  Yenilenmiş iPhone 12 Pro Max 256 GB Siyah Cep ...  37.599 TL\n",
      "13  Yenilenmiş iPhone 12 Mini 64 GB Beyaz Cep Tele...  19.848 TL\n",
      "14  Yenilenmiş iPhone 12 Mini 256 GB Mor Cep Telef...  21.999 TL\n",
      "15  Yenilenmiş iPhone XS Max 256 GB Gümüş Cep Tele...  17.199 TL\n",
      "16  Yenilenmiş iPhone 11 Pro Max 256 GB Uzay Grisi...  28.888 TL\n",
      "17  Yenilenmiş iPhone 12 Mini 64 GB Siyah Cep Tele...  19.879 TL\n",
      "18  Yenilenmiş iPhone 8 64 GB Uzay Grisi Cep Telef...   5.799 TL\n",
      "19  Yenilenmiş iPhone 11 256 GB Beyaz Cep Telefonu...  20.649 TL\n"
     ]
    }
   ],
   "source": [
    "df = pd.DataFrame(excel)\n",
    "\n",
    "df.columns = [\"URUN_ADI\",\"FIYAT\"]\n",
    "print(df)\n",
    "\n",
    "df.to_excel(\"tkenosa-page-12.xlsx\")"
   ]
  },
  {
   "cell_type": "code",
   "execution_count": 29,
   "id": "1aa8fa48",
   "metadata": {},
   "outputs": [
    {
     "name": "stdout",
     "output_type": "stream",
     "text": [
      "Yenilenmiş iPhone 14 256 GB Kırmızı Cep Telefonu (1 Yıl Garantili) : 46.999 TL\n",
      "Yenilenmiş iPhone XR 64 GB Kırmızı Cep Telefonu (1 Yıl Garantili) : 12.999 TL\n",
      "Yenilenmiş iPhone XS 256 GB Altın Cep Telefonu (1 Yıl Garantili) B Kalite : 14.898 TL\n",
      "Yenilenmiş iPhone XR 64 GB Mercan Cep Telefonu (1 Yıl Garantili) : 12.999 TL\n",
      "Yenilenmiş iPhone 7 128 GB Rose Gold Cep Telefonu (1 Yıl Garantili) : 4.400 TL\n",
      "Yenilenmiş iPhone 7 Plus 32 GB Altın Cep Telefonu (1 Yıl Garantili) : 4.988 TL\n",
      "Yenilenmiş iPhone 12 Pro Max 256 GB Beyaz Cep Telefonu (1 Yıl Garantili) B Kalite : 37.599 TL\n",
      "Yenilenmiş iPhone 11 Pro Max 256 GB Altın Cep Telefonu (1 Yıl Garantili) : 28.999 TL\n",
      "Yenilenmiş iPhone 12 Pro Max 128 GB Siyah Cep Telefonu (1 Yıl Garantili) : 36.999 TL\n",
      "Yenilenmiş iPhone 12 256 GB Mavi Cep Telefonu (1 Yıl Garantili) B Kalite : 26.998 TL\n",
      "Yenilenmiş iPhone 11 Pro 256 GB Uzay Grisi Cep Telefonu (1 Yıl Garantili) : 27.979 TL\n",
      "Yenilenmiş iPhone 13 Pro Max 512 GB Sierra Mavisi Cep Telefonu (1 Yıl Garantili) B Kalite : 51.999 TL\n",
      "Yenilenmiş iPhone XS Max 64 GB Gümüş Cep Telefonu (1 Yıl Garantili) : 15.799 TL\n",
      "Yenilenmiş iPhone 8 128 GB Uzay Grisi Cep Telefonu (1 Yıl Garantili) B Kalite : 6.898 TL\n",
      "Yenilenmiş iPhone 7 Plus 128 GB Rose Gold Cep Telefonu (1 Yıl Garantili) : 6.298 TL\n",
      "Yenilenmiş iPhone 12 Pro Max 128 GB Gold Cep Telefonu (1 Yıl Garantili) : 36.999 TL\n",
      "Yenilenmiş iPhone 7 32 GB Gümüş Cep Telefonu (1 Yıl Garantili) : 3.398 TL\n",
      "Yenilenmiş iPhone 11 Pro Max 64 GB Uzay Grisi Cep Telefonu (1 Yıl Garantili) : 25.999 TL\n",
      "Yenilenmiş iPhone 8 Plus 64 GB Uzay Grisi Cep Telefonu (1 Yıl Garantili) : 8.809 TL\n",
      "Yenilenmiş iPhone 8 64 GB Gümüş Cep Telefonu (1 Yıl Garantili) B Kalite : 5.899 TL\n"
     ]
    }
   ],
   "source": [
    "#sayfa13\n",
    "\n",
    "import requests\n",
    "from bs4 import BeautifulSoup\n",
    "\n",
    "excel = []\n",
    "\n",
    "url = \"https://www.teknosa.com/apple-yenilenmis-cep-telefonu-bc-124001001?gclsrc=aw.ds&gad_source=1&gclid=EAIaIQobChMI_-K11ZubhAMVVT8GAB0orQdwEAAYASAAEgIun_D_BwE&page=12\"\n",
    "\n",
    "headers = {\n",
    "    \"User-Agent\": \"Mozilla/5.0 (Windows NT 10.0; Win64; x64) AppleWebKit/537.36 (KHTML, like Gecko) Chrome/121.0.0.0 Safari/537.36\"\n",
    "}\n",
    "\n",
    "html = requests.get(url, headers=headers).content\n",
    "soup = BeautifulSoup(html, \"html.parser\")\n",
    "\n",
    "liste = soup.find_all(\"div\", {\"class\": \"prd-inner\"})\n",
    "\n",
    "for div in liste:\n",
    "    product_name = div.h3.text.strip()  \n",
    "    price_span = div.find(\"div\", {\"class\": \"prd-prices\"}).find(\"span\", {\"class\": \"prc-last\"})\n",
    "    price = price_span.text.strip() if price_span else \"Fiyat bulunamadı\"  # Eğer fiyat bilgisi yoksa \"Fiyat bulunamadı\" yazdır\n",
    "    \n",
    "    excel.append([product_name, price])\n",
    "\n",
    "    print(product_name, \":\", price)"
   ]
  },
  {
   "cell_type": "code",
   "execution_count": 30,
   "id": "ec1cad45",
   "metadata": {},
   "outputs": [
    {
     "name": "stdout",
     "output_type": "stream",
     "text": [
      "                                             URUN_ADI      FIYAT\n",
      "0   Yenilenmiş iPhone 14 256 GB Kırmızı Cep Telefo...  46.999 TL\n",
      "1   Yenilenmiş iPhone XR 64 GB Kırmızı Cep Telefon...  12.999 TL\n",
      "2   Yenilenmiş iPhone XS 256 GB Altın Cep Telefonu...  14.898 TL\n",
      "3   Yenilenmiş iPhone XR 64 GB Mercan Cep Telefonu...  12.999 TL\n",
      "4   Yenilenmiş iPhone 7 128 GB Rose Gold Cep Telef...   4.400 TL\n",
      "5   Yenilenmiş iPhone 7 Plus 32 GB Altın Cep Telef...   4.988 TL\n",
      "6   Yenilenmiş iPhone 12 Pro Max 256 GB Beyaz Cep ...  37.599 TL\n",
      "7   Yenilenmiş iPhone 11 Pro Max 256 GB Altın Cep ...  28.999 TL\n",
      "8   Yenilenmiş iPhone 12 Pro Max 128 GB Siyah Cep ...  36.999 TL\n",
      "9   Yenilenmiş iPhone 12 256 GB Mavi Cep Telefonu ...  26.998 TL\n",
      "10  Yenilenmiş iPhone 11 Pro 256 GB Uzay Grisi Cep...  27.979 TL\n",
      "11  Yenilenmiş iPhone 13 Pro Max 512 GB Sierra Mav...  51.999 TL\n",
      "12  Yenilenmiş iPhone XS Max 64 GB Gümüş Cep Telef...  15.799 TL\n",
      "13  Yenilenmiş iPhone 8 128 GB Uzay Grisi Cep Tele...   6.898 TL\n",
      "14  Yenilenmiş iPhone 7 Plus 128 GB Rose Gold Cep ...   6.298 TL\n",
      "15  Yenilenmiş iPhone 12 Pro Max 128 GB Gold Cep T...  36.999 TL\n",
      "16  Yenilenmiş iPhone 7 32 GB Gümüş Cep Telefonu (...   3.398 TL\n",
      "17  Yenilenmiş iPhone 11 Pro Max 64 GB Uzay Grisi ...  25.999 TL\n",
      "18  Yenilenmiş iPhone 8 Plus 64 GB Uzay Grisi Cep ...   8.809 TL\n",
      "19  Yenilenmiş iPhone 8 64 GB Gümüş Cep Telefonu (...   5.899 TL\n"
     ]
    }
   ],
   "source": [
    "df = pd.DataFrame(excel)\n",
    "\n",
    "df.columns = [\"URUN_ADI\",\"FIYAT\"]\n",
    "print(df)\n",
    "\n",
    "df.to_excel(\"tkenosa-page-13.xlsx\")"
   ]
  },
  {
   "cell_type": "code",
   "execution_count": 31,
   "id": "91e84b9f",
   "metadata": {},
   "outputs": [
    {
     "name": "stdout",
     "output_type": "stream",
     "text": [
      "Yenilenmiş iPhone SE 2020 64 GB Kırmızı Cep Telefonu (1 Yıl Garantili) : 8.599 TL\n",
      "Yenilenmiş iPhone 7 Plus 32 GB Siyah Cep Telefonu (1 Yıl Garantili) B Kalite : 4.779 TL\n",
      "Yenilenmiş iPhone 6S Plus 32 GB Rose Gold Cep Telefonu (1 Yıl Garantili) B Kalite : 2.899 TL\n",
      "Yenilenmiş iPhone 12 Mini 128 GB Kırmızı Cep Telefonu (1 Yıl Garantili) B Kalite : 19.919 TL\n",
      "Yenilenmiş iPhone 12 Pro Max 128 GB Beyaz Cep Telefonu (1 Yıl Garantili) : 36.999 TL\n",
      "Yenilenmiş iPhone 13 Pro Max 256 GB Köknar Yeşili Cep Telefonu (1 Yıl Garantili) B Kalite : 48.599 TL\n",
      "Yenilenmiş iPhone 8 Plus 64 GB Uzay Grisi Cep Telefonu (1 Yıl Garantili) B Kalite : 8.119 TL\n",
      "Yenilenmiş iPhone 11 Pro Max 512 GB Uzay Grisi Cep Telefonu (1 Yıl Garantili) B Kalite : 31.699 TL\n",
      "Yenilenmiş iPhone 11 Pro 64 GB Gümüş Cep Telefonu (1 Yıl Garantili) : 23.999 TL\n",
      "Yenilenmiş iPhone 6S 32 GB Uzay Grisi Cep Telefonu (1 Yıl Garantili) : 2.600 TL\n",
      "Yenilenmiş iPhone 8 64 GB Uzay Grisi Cep Telefonu (1 Yıl Garantili) C Kalite : 5.599 TL\n",
      "Yenilenmiş iPhone 8 64 GB Altın Cep Telefonu (1 Yıl Garantili) : 6.199 TL\n",
      "Yenilenmiş iPhone 13 256 GB Gece Yarısı Cep Telefonu (1 Yıl Garantili) : 37.999 TL\n",
      "Yenilenmiş iPhone 12 64 GB Kırmızı Cep Telefonu (1 Yıl Garantili) B Kalite : 21.599 TL\n",
      "Yenilenmiş iPhone SE 2020 256 GB Beyaz Cep Telefonu (1 Yıl Garantili) : 10.799 TL\n",
      "Yenilenmiş iPhone 8 Plus 256 GB Siyah Cep Telefonu (1 Yıl Garantili) : 10.599 TL\n",
      "Yenilenmiş iPhone SE 2020 64 GB Kırmızı Cep Telefonu (1 Yıl Garantili) B Kalite : 8.599 TL\n",
      "Yenilenmiş iPhone 8 Plus 128 GB Gümüş Cep Telefonu (1 Yıl Garantili) B Kalite : 9.099 TL\n",
      "Yenilenmiş iPhone 6S Plus 16 GB Uzay Grisi Cep Telefonu (1 Yıl Garantili) : 2.899 TL\n",
      "Yenilenmiş iPhone 13 256 GB Yıldız Işığı Cep Telefonu (1 Yıl Garantili) : 37.999 TL\n"
     ]
    }
   ],
   "source": [
    "#sayfa14\n",
    "\n",
    "import requests\n",
    "from bs4 import BeautifulSoup\n",
    "\n",
    "excel = []\n",
    "\n",
    "url = \"https://www.teknosa.com/apple-yenilenmis-cep-telefonu-bc-124001001?gclsrc=aw.ds&gad_source=1&gclid=EAIaIQobChMI_-K11ZubhAMVVT8GAB0orQdwEAAYASAAEgIun_D_BwE&page=13\"\n",
    "\n",
    "headers = {\n",
    "    \"User-Agent\": \"Mozilla/5.0 (Windows NT 10.0; Win64; x64) AppleWebKit/537.36 (KHTML, like Gecko) Chrome/121.0.0.0 Safari/537.36\"\n",
    "}\n",
    "\n",
    "html = requests.get(url, headers=headers).content\n",
    "soup = BeautifulSoup(html, \"html.parser\")\n",
    "\n",
    "liste = soup.find_all(\"div\", {\"class\": \"prd-inner\"})\n",
    "\n",
    "for div in liste:\n",
    "    product_name = div.h3.text.strip()  \n",
    "    price_span = div.find(\"div\", {\"class\": \"prd-prices\"}).find(\"span\", {\"class\": \"prc-last\"})\n",
    "    price = price_span.text.strip() if price_span else \"Fiyat bulunamadı\"  # Eğer fiyat bilgisi yoksa \"Fiyat bulunamadı\" yazdır\n",
    "    \n",
    "    excel.append([product_name, price])\n",
    "\n",
    "    print(product_name, \":\", price)"
   ]
  },
  {
   "cell_type": "code",
   "execution_count": 32,
   "id": "60af4f9c",
   "metadata": {},
   "outputs": [
    {
     "name": "stdout",
     "output_type": "stream",
     "text": [
      "                                             URUN_ADI      FIYAT\n",
      "0   Yenilenmiş iPhone SE 2020 64 GB Kırmızı Cep Te...   8.599 TL\n",
      "1   Yenilenmiş iPhone 7 Plus 32 GB Siyah Cep Telef...   4.779 TL\n",
      "2   Yenilenmiş iPhone 6S Plus 32 GB Rose Gold Cep ...   2.899 TL\n",
      "3   Yenilenmiş iPhone 12 Mini 128 GB Kırmızı Cep T...  19.919 TL\n",
      "4   Yenilenmiş iPhone 12 Pro Max 128 GB Beyaz Cep ...  36.999 TL\n",
      "5   Yenilenmiş iPhone 13 Pro Max 256 GB Köknar Yeş...  48.599 TL\n",
      "6   Yenilenmiş iPhone 8 Plus 64 GB Uzay Grisi Cep ...   8.119 TL\n",
      "7   Yenilenmiş iPhone 11 Pro Max 512 GB Uzay Grisi...  31.699 TL\n",
      "8   Yenilenmiş iPhone 11 Pro 64 GB Gümüş Cep Telef...  23.999 TL\n",
      "9   Yenilenmiş iPhone 6S 32 GB Uzay Grisi Cep Tele...   2.600 TL\n",
      "10  Yenilenmiş iPhone 8 64 GB Uzay Grisi Cep Telef...   5.599 TL\n",
      "11  Yenilenmiş iPhone 8 64 GB Altın Cep Telefonu (...   6.199 TL\n",
      "12  Yenilenmiş iPhone 13 256 GB Gece Yarısı Cep Te...  37.999 TL\n",
      "13  Yenilenmiş iPhone 12 64 GB Kırmızı Cep Telefon...  21.599 TL\n",
      "14  Yenilenmiş iPhone SE 2020 256 GB Beyaz Cep Tel...  10.799 TL\n",
      "15  Yenilenmiş iPhone 8 Plus 256 GB Siyah Cep Tele...  10.599 TL\n",
      "16  Yenilenmiş iPhone SE 2020 64 GB Kırmızı Cep Te...   8.599 TL\n",
      "17  Yenilenmiş iPhone 8 Plus 128 GB Gümüş Cep Tele...   9.099 TL\n",
      "18  Yenilenmiş iPhone 6S Plus 16 GB Uzay Grisi Cep...   2.899 TL\n",
      "19  Yenilenmiş iPhone 13 256 GB Yıldız Işığı Cep T...  37.999 TL\n"
     ]
    }
   ],
   "source": [
    "df = pd.DataFrame(excel)\n",
    "\n",
    "df.columns = [\"URUN_ADI\",\"FIYAT\"]\n",
    "print(df)\n",
    "\n",
    "df.to_excel(\"tkenosa-page-14.xlsx\")"
   ]
  },
  {
   "cell_type": "code",
   "execution_count": 33,
   "id": "2a3f3a07",
   "metadata": {},
   "outputs": [
    {
     "name": "stdout",
     "output_type": "stream",
     "text": [
      "Yenilenmiş iPhone 12 256 GB Siyah Cep Telefonu (1 Yıl Garantili) B Kalite : 24.999 TL\n",
      "Yenilenmiş iPhone 7 Plus 128 GB Altın Cep Telefonu (1 Yıl Garantili) B Kalite : 5.949 TL\n",
      "Yenilenmiş iPhone 8 Plus 256 GB Kırmızı Cep Telefonu (1 Yıl Garantili) : 10.799 TL\n",
      "Yenilenmiş iPhone 13 Pro Max 512 GB Köknar Yeşili Cep Telefonu (1 Yıl Garantili) : 52.999 TL\n",
      "Yenilenmiş iPhone 12 256 GB Kırmızı Cep Telefonu (1 Yıl Garantili) : 25.999 TL\n",
      "Yenilenmiş iPhone 11 64 GB Kırmızı Cep Telefonu (1 Yıl Garantili) B Kalite : 16.019 TL\n",
      "Yenilenmiş iPhone SE 2020 128 GB Beyaz Cep Telefonu (1 Yıl Garantili) B Kalite : 9.658 TL\n",
      "Yenilenmiş iPhone XS 256 GB Altın Cep Telefonu (1 Yıl Garantili) : 15.999 TL\n",
      "Yenilenmiş iPhone 11 Pro Max 64 GB Altın Cep Telefonu (1 Yıl Garantili) : 25.949 TL\n",
      "Yenilenmiş iPhone 12 Mini 256 GB Mavi Cep Telefonu (1 Yıl Garantili) B Kalite : 21.999 TL\n",
      "Yenilenmiş iPhone 13 256 GB Kırmızı Cep Telefonu (1 Yıl Garantili) B Kalite : 31.899 TL\n",
      "Yenilenmiş iPhone 13 Pro 256 GB Sierra Mavisi Cep Telefonu (1 Yıl Garantili) : 47.999 TL\n",
      "Yenilenmiş iPhone XS Max 512 GB Altın Cep Telefonu (1 Yıl Garantili) B Kalite : 17.199 TL\n",
      "Yenilenmiş iPhone 8 256 GB Uzay Grisi Cep Telefonu (1 Yıl Garantili) : 7.889 TL\n",
      "Yenilenmiş iPhone 12 Pro 128 GB Altın Cep Telefonu (1 Yıl Garantili) : 32.199 TL\n",
      "Yenilenmiş iPhone 12 Mini 128 GB Kırmızı Cep Telefonu (1 Yıl Garantili) : 20.799 TL\n",
      "Yenilenmiş iPhone 8 Plus 64 GB Kırmızı Cep Telefonu (1 Yıl Garantili) B Kalite : 8.399 TL\n",
      "Yenilenmiş iPhone XS Max 64 GB Uzay Grisi Cep Telefonu (1 Yıl Garantili) : 15.799 TL\n",
      "Yenilenmiş iPhone 12 Pro Max 512 GB Mavi Cep Telefonu (1 Yıl Garantili) B Kalite : 39.999 TL\n",
      "Yenilenmiş iPhone XS 256 GB Gümüş Cep Telefonu (1 Yıl Garantili) B Kalite : 14.898 TL\n"
     ]
    }
   ],
   "source": [
    "#sayfa15\n",
    "\n",
    "import requests\n",
    "from bs4 import BeautifulSoup\n",
    "excel = []\n",
    "\n",
    "url = \"https://www.teknosa.com/apple-yenilenmis-cep-telefonu-bc-124001001?gclsrc=aw.ds&gad_source=1&gclid=EAIaIQobChMI_-K11ZubhAMVVT8GAB0orQdwEAAYASAAEgIun_D_BwE&page=14\"\n",
    "\n",
    "headers = {\n",
    "    \"User-Agent\": \"Mozilla/5.0 (Windows NT 10.0; Win64; x64) AppleWebKit/537.36 (KHTML, like Gecko) Chrome/121.0.0.0 Safari/537.36\"\n",
    "}\n",
    "\n",
    "html = requests.get(url, headers=headers).content\n",
    "soup = BeautifulSoup(html, \"html.parser\")\n",
    "\n",
    "liste = soup.find_all(\"div\", {\"class\": \"prd-inner\"})\n",
    "\n",
    "for div in liste:\n",
    "    product_name = div.h3.text.strip()  \n",
    "    price_span = div.find(\"div\", {\"class\": \"prd-prices\"}).find(\"span\", {\"class\": \"prc-last\"})\n",
    "    price = price_span.text.strip() if price_span else \"Fiyat bulunamadı\"  # Eğer fiyat bilgisi yoksa \"Fiyat bulunamadı\" yazdır\n",
    "    \n",
    "    excel.append([product_name, price])\n",
    "\n",
    "    print(product_name, \":\", price)"
   ]
  },
  {
   "cell_type": "code",
   "execution_count": 34,
   "id": "0e64525b",
   "metadata": {},
   "outputs": [
    {
     "name": "stdout",
     "output_type": "stream",
     "text": [
      "                                             URUN_ADI      FIYAT\n",
      "0   Yenilenmiş iPhone 12 256 GB Siyah Cep Telefonu...  24.999 TL\n",
      "1   Yenilenmiş iPhone 7 Plus 128 GB Altın Cep Tele...   5.949 TL\n",
      "2   Yenilenmiş iPhone 8 Plus 256 GB Kırmızı Cep Te...  10.799 TL\n",
      "3   Yenilenmiş iPhone 13 Pro Max 512 GB Köknar Yeş...  52.999 TL\n",
      "4   Yenilenmiş iPhone 12 256 GB Kırmızı Cep Telefo...  25.999 TL\n",
      "5   Yenilenmiş iPhone 11 64 GB Kırmızı Cep Telefon...  16.019 TL\n",
      "6   Yenilenmiş iPhone SE 2020 128 GB Beyaz Cep Tel...   9.658 TL\n",
      "7   Yenilenmiş iPhone XS 256 GB Altın Cep Telefonu...  15.999 TL\n",
      "8   Yenilenmiş iPhone 11 Pro Max 64 GB Altın Cep T...  25.949 TL\n",
      "9   Yenilenmiş iPhone 12 Mini 256 GB Mavi Cep Tele...  21.999 TL\n",
      "10  Yenilenmiş iPhone 13 256 GB Kırmızı Cep Telefo...  31.899 TL\n",
      "11  Yenilenmiş iPhone 13 Pro 256 GB Sierra Mavisi ...  47.999 TL\n",
      "12  Yenilenmiş iPhone XS Max 512 GB Altın Cep Tele...  17.199 TL\n",
      "13  Yenilenmiş iPhone 8 256 GB Uzay Grisi Cep Tele...   7.889 TL\n",
      "14  Yenilenmiş iPhone 12 Pro 128 GB Altın Cep Tele...  32.199 TL\n",
      "15  Yenilenmiş iPhone 12 Mini 128 GB Kırmızı Cep T...  20.799 TL\n",
      "16  Yenilenmiş iPhone 8 Plus 64 GB Kırmızı Cep Tel...   8.399 TL\n",
      "17  Yenilenmiş iPhone XS Max 64 GB Uzay Grisi Cep ...  15.799 TL\n",
      "18  Yenilenmiş iPhone 12 Pro Max 512 GB Mavi Cep T...  39.999 TL\n",
      "19  Yenilenmiş iPhone XS 256 GB Gümüş Cep Telefonu...  14.898 TL\n"
     ]
    }
   ],
   "source": [
    "df = pd.DataFrame(excel)\n",
    "\n",
    "df.columns = [\"URUN_ADI\",\"FIYAT\"]\n",
    "print(df)\n",
    "\n",
    "df.to_excel(\"tkenosa-page-15.xlsx\")"
   ]
  },
  {
   "cell_type": "code",
   "execution_count": 35,
   "id": "d2db5122",
   "metadata": {},
   "outputs": [
    {
     "name": "stdout",
     "output_type": "stream",
     "text": [
      "Yenilenmiş iPhone XR 64 GB Siyah Cep Telefonu (1 Yıl Garantili) : 12.999 TL\n",
      "Yenilenmiş iPhone 11 128 GB Kırmızı Cep Telefonu (1 Yıl Garantili) B Kalite : 17.999 TL\n",
      "Yenilenmiş iPhone 11 128 GB Yeşil Cep Telefonu (1 Yıl Garantili) : 18.999 TL\n",
      "Yenilenmiş iPhone XS 64 GB Altın Cep Telefonu (1 Yıl Garantili) : 15.559 TL\n",
      "Yenilenmiş iPhone 11 Pro 64 GB Uzay Grisi Cep Telefonu (1 Yıl Garantili) : 23.949 TL\n",
      "Yenilenmiş iPhone 13 Pro 256 GB Altın Cep Telefonu (1 Yıl Garantili) : 51.939 TL\n",
      "Yenilenmiş iPhone 7 256 GB Altın Cep Telefonu (1 Yıl Garantili) : 4.899 TL\n",
      "Yenilenmiş iPhone 13 Mini 512 GB Yıldız Işığı Cep Telefonu (1 Yıl Garantili) B Kalite : 31.599 TL\n",
      "Yenilenmiş iPhone 12 Pro Max 512 GB Beyaz Cep Telefonu (1 Yıl Garantili) B Kalite : 39.999 TL\n",
      "Yenilenmiş iPhone 11 Pro Max 64 GB Yeşil Cep Telefonu (1 Yıl Garantili) : 25.899 TL\n",
      "Yenilenmiş iPhone 7 Plus 256 GB Siyah Cep Telefonu (1 Yıl Garantili) : 7.199 TL\n",
      "Yenilenmiş iPhone 12 64 GB Yeşil Cep Telefonu (1 Yıl Garantili) : 22.299 TL\n",
      "Yenilenmiş iPhone 11 128 GB Sarı Cep Telefonu (1 Yıl Garantili) B Kalite : 18.419 TL\n",
      "Yenilenmiş iPhone SE 2020 256 GB Siyah Cep Telefonu (1 Yıl Garantili) B Kalite : 10.398 TL\n",
      "Yenilenmiş iPhone 12 256 GB Kırmızı Cep Telefonu (1 Yıl Garantili) B Kalite : 24.999 TL\n",
      "Yenilenmiş iPhone 12 256 GB Beyaz Cep Telefonu (1 Yıl Garantili) : 26.949 TL\n",
      "Yenilenmiş iPhone SE 2020 256 GB Kırmızı Cep Telefonu (1 Yıl Garantili) : 10.799 TL\n",
      "Yenilenmiş iPhone XS 256 GB Uzay Grisi Cep Telefonu (1 Yıl Garantili) : 15.999 TL\n",
      "Yenilenmiş iPhone 12 Pro 256 GB Altın Cep Telefonu (1 Yıl Garantili) : 34.598 TL\n",
      "Yenilenmiş iPhone 7 Plus 128 GB Gümüş Cep Telefonu (1 Yıl Garantili) B Kalite : 5.949 TL\n"
     ]
    }
   ],
   "source": [
    "#sayfa16\n",
    "\n",
    "import requests\n",
    "from bs4 import BeautifulSoup\n",
    "\n",
    "excel = []\n",
    "\n",
    "url = \"https://www.teknosa.com/apple-yenilenmis-cep-telefonu-bc-124001001?gclsrc=aw.ds&gad_source=1&gclid=EAIaIQobChMI_-K11ZubhAMVVT8GAB0orQdwEAAYASAAEgIun_D_BwE&page=15\"\n",
    "\n",
    "headers = {\n",
    "    \"User-Agent\": \"Mozilla/5.0 (Windows NT 10.0; Win64; x64) AppleWebKit/537.36 (KHTML, like Gecko) Chrome/121.0.0.0 Safari/537.36\"\n",
    "}\n",
    "\n",
    "html = requests.get(url, headers=headers).content\n",
    "soup = BeautifulSoup(html, \"html.parser\")\n",
    "\n",
    "liste = soup.find_all(\"div\", {\"class\": \"prd-inner\"})\n",
    "\n",
    "for div in liste:\n",
    "    product_name = div.h3.text.strip()  \n",
    "    price_span = div.find(\"div\", {\"class\": \"prd-prices\"}).find(\"span\", {\"class\": \"prc-last\"})\n",
    "    price = price_span.text.strip() if price_span else \"Fiyat bulunamadı\"  # Eğer fiyat bilgisi yoksa \"Fiyat bulunamadı\" yazdır\n",
    "    \n",
    "    excel.append([product_name, price])\n",
    "\n",
    "    print(product_name, \":\", price)"
   ]
  },
  {
   "cell_type": "code",
   "execution_count": 36,
   "id": "4636a5b6",
   "metadata": {},
   "outputs": [
    {
     "name": "stdout",
     "output_type": "stream",
     "text": [
      "                                             URUN_ADI      FIYAT\n",
      "0   Yenilenmiş iPhone XR 64 GB Siyah Cep Telefonu ...  12.999 TL\n",
      "1   Yenilenmiş iPhone 11 128 GB Kırmızı Cep Telefo...  17.999 TL\n",
      "2   Yenilenmiş iPhone 11 128 GB Yeşil Cep Telefonu...  18.999 TL\n",
      "3   Yenilenmiş iPhone XS 64 GB Altın Cep Telefonu ...  15.559 TL\n",
      "4   Yenilenmiş iPhone 11 Pro 64 GB Uzay Grisi Cep ...  23.949 TL\n",
      "5   Yenilenmiş iPhone 13 Pro 256 GB Altın Cep Tele...  51.939 TL\n",
      "6   Yenilenmiş iPhone 7 256 GB Altın Cep Telefonu ...   4.899 TL\n",
      "7   Yenilenmiş iPhone 13 Mini 512 GB Yıldız Işığı ...  31.599 TL\n",
      "8   Yenilenmiş iPhone 12 Pro Max 512 GB Beyaz Cep ...  39.999 TL\n",
      "9   Yenilenmiş iPhone 11 Pro Max 64 GB Yeşil Cep T...  25.899 TL\n",
      "10  Yenilenmiş iPhone 7 Plus 256 GB Siyah Cep Tele...   7.199 TL\n",
      "11  Yenilenmiş iPhone 12 64 GB Yeşil Cep Telefonu ...  22.299 TL\n",
      "12  Yenilenmiş iPhone 11 128 GB Sarı Cep Telefonu ...  18.419 TL\n",
      "13  Yenilenmiş iPhone SE 2020 256 GB Siyah Cep Tel...  10.398 TL\n",
      "14  Yenilenmiş iPhone 12 256 GB Kırmızı Cep Telefo...  24.999 TL\n",
      "15  Yenilenmiş iPhone 12 256 GB Beyaz Cep Telefonu...  26.949 TL\n",
      "16  Yenilenmiş iPhone SE 2020 256 GB Kırmızı Cep T...  10.799 TL\n",
      "17  Yenilenmiş iPhone XS 256 GB Uzay Grisi Cep Tel...  15.999 TL\n",
      "18  Yenilenmiş iPhone 12 Pro 256 GB Altın Cep Tele...  34.598 TL\n",
      "19  Yenilenmiş iPhone 7 Plus 128 GB Gümüş Cep Tele...   5.949 TL\n"
     ]
    }
   ],
   "source": [
    "df = pd.DataFrame(excel)\n",
    "\n",
    "df.columns = [\"URUN_ADI\",\"FIYAT\"]\n",
    "print(df)\n",
    "\n",
    "df.to_excel(\"tkenosa-page-16.xlsx\")"
   ]
  },
  {
   "cell_type": "code",
   "execution_count": 37,
   "id": "bdc3b3af",
   "metadata": {},
   "outputs": [
    {
     "name": "stdout",
     "output_type": "stream",
     "text": [
      "Yenilenmiş iPhone 8 Plus 128 GB Kırmızı Cep Telefonu (1 Yıl Garantili) : 9.999 TL\n",
      "Yenilenmiş iPhone 8 Plus 256 GB Siyah Cep Telefonu (1 Yıl Garantili) B Kalite : 9.799 TL\n",
      "Yenilenmiş iPhone 7 Plus 128 GB Kırmızı Cep Telefonu (1 Yıl Garantili) : 6.698 TL\n",
      "Yenilenmiş iPhone 7 Plus 32 GB Gümüş Cep Telefonu (1 Yıl Garantili) : 4.988 TL\n",
      "Yenilenmiş iPhone 7 Plus 32 GB Jet Black Cep Telefonu (1 Yıl Garantili) : 5.299 TL\n",
      "Yenilenmiş iPhone 13 Pro 512 GB Grafit Cep Telefonu (1 Yıl Garantili) : 53.999 TL\n",
      "Yenilenmiş iPhone 13 256 GB Pembe Cep Telefonu (1 Yıl Garantili) : 37.999 TL\n",
      "Yenilenmiş iPhone XS 64 GB Gümüş Cep Telefonu (1 Yıl Garantili) C Kalite : 13.199 TL\n",
      "Yenilenmiş iPhone 7 32 GB Gümüş Cep Telefonu (1 Yıl Garantili) B Kalite : 3.399 TL\n",
      "Yenilenmiş iPhone 11 256 GB Sarı Cep Telefonu (1 Yıl Garantili) : 20.699 TL\n",
      "Yenilenmiş iPhone 12 Pro 256 GB Gri Cep Telefonu (1 Yıl Garantili) : 34.598 TL\n",
      "Yenilenmiş iPhone XS Max 512 GB Gümüş Cep Telefonu (1 Yıl Garantili) : 17.999 TL\n",
      "Yenilenmiş iPhone 12 64 GB Kırmızı Cep Telefonu (1 Yıl Garantili) : 22.599 TL\n",
      "Yenilenmiş iPhone 11 Pro Max 64 GB Beyaz Cep Telefonu (1 Yıl Garantili) : 25.999 TL\n",
      "Yenilenmiş iPhone 8 64 GB Altın Cep Telefonu (1 Yıl Garantili) B Kalite : 5.899 TL\n",
      "Yenilenmiş iPhone 8 Plus 64 GB Kırmızı Cep Telefonu (1 Yıl Garantili) : 9.199 TL\n",
      "Yenilenmiş iPhone 12 64 GB Mor Cep Telefonu (1 Yıl Garantili) B Kalite : 21.599 TL\n",
      "Yenilenmiş iPhone 11 128 GB Kırmızı Cep Telefonu (1 Yıl Garantili) : 18.999 TL\n",
      "Yenilenmiş iPhone 13 Pro Max 128 GB Köknar Yeşili Cep Telefonu (1 Yıl Garantili) : 47.999 TL\n",
      "Yenilenmiş iPhone 11 256 GB Kırmızı Cep Telefonu (1 Yıl Garantili) B Kalite : 18.849 TL\n"
     ]
    }
   ],
   "source": [
    "#sayfa17\n",
    "\n",
    "import requests\n",
    "from bs4 import BeautifulSoup\n",
    "\n",
    "excel = []\n",
    "\n",
    "url = \"https://www.teknosa.com/apple-yenilenmis-cep-telefonu-bc-124001001?gclsrc=aw.ds&gad_source=1&gclid=EAIaIQobChMI_-K11ZubhAMVVT8GAB0orQdwEAAYASAAEgIun_D_BwE&page=16\"\n",
    "\n",
    "headers = {\n",
    "    \"User-Agent\": \"Mozilla/5.0 (Windows NT 10.0; Win64; x64) AppleWebKit/537.36 (KHTML, like Gecko) Chrome/121.0.0.0 Safari/537.36\"\n",
    "}\n",
    "\n",
    "html = requests.get(url, headers=headers).content\n",
    "soup = BeautifulSoup(html, \"html.parser\")\n",
    "\n",
    "liste = soup.find_all(\"div\", {\"class\": \"prd-inner\"})\n",
    "\n",
    "for div in liste:\n",
    "    product_name = div.h3.text.strip()  \n",
    "    price_span = div.find(\"div\", {\"class\": \"prd-prices\"}).find(\"span\", {\"class\": \"prc-last\"})\n",
    "    price = price_span.text.strip() if price_span else \"Fiyat bulunamadı\"  # Eğer fiyat bilgisi yoksa \"Fiyat bulunamadı\" yazdır\n",
    "    \n",
    "    excel.append([product_name, price])\n",
    "\n",
    "    print(product_name, \":\", price)"
   ]
  },
  {
   "cell_type": "code",
   "execution_count": 38,
   "id": "e7147189",
   "metadata": {},
   "outputs": [
    {
     "name": "stdout",
     "output_type": "stream",
     "text": [
      "                                             URUN_ADI      FIYAT\n",
      "0   Yenilenmiş iPhone 8 Plus 128 GB Kırmızı Cep Te...   9.999 TL\n",
      "1   Yenilenmiş iPhone 8 Plus 256 GB Siyah Cep Tele...   9.799 TL\n",
      "2   Yenilenmiş iPhone 7 Plus 128 GB Kırmızı Cep Te...   6.698 TL\n",
      "3   Yenilenmiş iPhone 7 Plus 32 GB Gümüş Cep Telef...   4.988 TL\n",
      "4   Yenilenmiş iPhone 7 Plus 32 GB Jet Black Cep T...   5.299 TL\n",
      "5   Yenilenmiş iPhone 13 Pro 512 GB Grafit Cep Tel...  53.999 TL\n",
      "6   Yenilenmiş iPhone 13 256 GB Pembe Cep Telefonu...  37.999 TL\n",
      "7   Yenilenmiş iPhone XS 64 GB Gümüş Cep Telefonu ...  13.199 TL\n",
      "8   Yenilenmiş iPhone 7 32 GB Gümüş Cep Telefonu (...   3.399 TL\n",
      "9   Yenilenmiş iPhone 11 256 GB Sarı Cep Telefonu ...  20.699 TL\n",
      "10  Yenilenmiş iPhone 12 Pro 256 GB Gri Cep Telefo...  34.598 TL\n",
      "11  Yenilenmiş iPhone XS Max 512 GB Gümüş Cep Tele...  17.999 TL\n",
      "12  Yenilenmiş iPhone 12 64 GB Kırmızı Cep Telefon...  22.599 TL\n",
      "13  Yenilenmiş iPhone 11 Pro Max 64 GB Beyaz Cep T...  25.999 TL\n",
      "14  Yenilenmiş iPhone 8 64 GB Altın Cep Telefonu (...   5.899 TL\n",
      "15  Yenilenmiş iPhone 8 Plus 64 GB Kırmızı Cep Tel...   9.199 TL\n",
      "16  Yenilenmiş iPhone 12 64 GB Mor Cep Telefonu (1...  21.599 TL\n",
      "17  Yenilenmiş iPhone 11 128 GB Kırmızı Cep Telefo...  18.999 TL\n",
      "18  Yenilenmiş iPhone 13 Pro Max 128 GB Köknar Yeş...  47.999 TL\n",
      "19  Yenilenmiş iPhone 11 256 GB Kırmızı Cep Telefo...  18.849 TL\n"
     ]
    }
   ],
   "source": [
    "df = pd.DataFrame(excel)\n",
    "\n",
    "df.columns = [\"URUN_ADI\",\"FIYAT\"]\n",
    "print(df)\n",
    "\n",
    "df.to_excel(\"tkenosa-page-17.xlsx\")"
   ]
  },
  {
   "cell_type": "code",
   "execution_count": 39,
   "id": "e765ba94",
   "metadata": {},
   "outputs": [
    {
     "name": "stdout",
     "output_type": "stream",
     "text": [
      "Yenilenmiş iPhone 11 128 GB Sarı Cep Telefonu (1 Yıl Garantili) : 18.999 TL\n",
      "Yenilenmiş iPhone 12 256 GB Beyaz Cep Telefonu (1 Yıl Garantili) B Kalite : 26.998 TL\n",
      "Yenilenmiş iPhone 13 Pro Max 256 GB Grafit Cep Telefonu (1 Yıl Garantili) : 51.998 TL\n",
      "Yenilenmiş iPhone XS 64 GB Gümüş Cep Telefonu (1 Yıl Garantili) : 15.499 TL\n",
      "Yenilenmiş iPhone 11 256 GB Mor Cep Telefonu (1 Yıl Garantili) : 20.599 TL\n",
      "Yenilenmiş iPhone 12 128 GB Kırmızı Cep Telefonu (1 Yıl Garantili) : 24.598 TL\n",
      "Yenilenmiş iPhone 11 128 GB Mor Cep Telefonu (1 Yıl Garantili) C Kalite : 18.399 TL\n",
      "Yenilenmiş iPhone 8 Plus 128 GB Siyah Cep Telefonu (1 Yıl Garantili) B Kalite : 9.099 TL\n",
      "Yenilenmiş iPhone 8 128 GB Gümüş Cep Telefonu (1 Yıl Garantili) : 7.165 TL\n",
      "Yenilenmiş iPhone 12 Pro 256 GB Altın Cep Telefonu (1 Yıl Garantili) B Kalite : 33.299 TL\n",
      "Yenilenmiş iPhone 8 256 GB Gümüş Cep Telefonu (1 Yıl Garantili) : 7.898 TL\n",
      "Yenilenmiş iPhone 12 Mini 128 GB Mor Cep Telefonu (1 Yıl Garantili) : 20.799 TL\n",
      "Yenilenmiş iPhone 13 Pro Max 512 GB Grafit Cep Telefonu (1 Yıl Garantili) B Kalite : 51.999 TL\n",
      "Yenilenmiş iPhone XS 64 GB Uzay Grisi Cep Telefonu (1 Yıl Garantili) : 15.499 TL\n",
      "Yenilenmiş iPhone XR 64 GB Mavi Cep Telefonu (1 Yıl Garantili) : 12.999 TL\n",
      "Yenilenmiş iPhone 7 Plus 128 GB Kırmızı Cep Telefonu (1 Yıl Garantili) B Kalite : 6.099 TL\n",
      "Yenilenmiş iPhone 11 Pro 256 GB Altın Cep Telefonu (1 Yıl Garantili) : 27.979 TL\n",
      "Yenilenmiş iPhone 12 Mini 256 GB Kırmızı Cep Telefonu (1 Yıl Garantili) B Kalite : 21.999 TL\n",
      "Yenilenmiş iPhone 12 Pro Max 512 GB Gold Cep Telefonu (1 Yıl Garantili) B Kalite : 39.999 TL\n",
      "Yenilenmiş iPhone SE 2020 128 GB Kırmızı Cep Telefonu (1 Yıl Garantili) B Kalite : 9.658 TL\n"
     ]
    }
   ],
   "source": [
    "#sayfa18\n",
    "\n",
    "import requests\n",
    "from bs4 import BeautifulSoup\n",
    "\n",
    "excel = []\n",
    "\n",
    "url = \"https://www.teknosa.com/apple-yenilenmis-cep-telefonu-bc-124001001?gclsrc=aw.ds&gad_source=1&gclid=EAIaIQobChMI_-K11ZubhAMVVT8GAB0orQdwEAAYASAAEgIun_D_BwE&page=17\"\n",
    "\n",
    "headers = {\n",
    "    \"User-Agent\": \"Mozilla/5.0 (Windows NT 10.0; Win64; x64) AppleWebKit/537.36 (KHTML, like Gecko) Chrome/121.0.0.0 Safari/537.36\"\n",
    "}\n",
    "\n",
    "html = requests.get(url, headers=headers).content\n",
    "soup = BeautifulSoup(html, \"html.parser\")\n",
    "\n",
    "liste = soup.find_all(\"div\", {\"class\": \"prd-inner\"})\n",
    "\n",
    "for div in liste:\n",
    "    product_name = div.h3.text.strip()  \n",
    "    price_span = div.find(\"div\", {\"class\": \"prd-prices\"}).find(\"span\", {\"class\": \"prc-last\"})\n",
    "    price = price_span.text.strip() if price_span else \"Fiyat bulunamadı\"  # Eğer fiyat bilgisi yoksa \"Fiyat bulunamadı\" yazdır\n",
    "    \n",
    "    excel.append([product_name, price])\n",
    "\n",
    "    print(product_name, \":\", price)"
   ]
  },
  {
   "cell_type": "code",
   "execution_count": 40,
   "id": "02ce664f",
   "metadata": {},
   "outputs": [
    {
     "name": "stdout",
     "output_type": "stream",
     "text": [
      "                                             URUN_ADI      FIYAT\n",
      "0   Yenilenmiş iPhone 11 128 GB Sarı Cep Telefonu ...  18.999 TL\n",
      "1   Yenilenmiş iPhone 12 256 GB Beyaz Cep Telefonu...  26.998 TL\n",
      "2   Yenilenmiş iPhone 13 Pro Max 256 GB Grafit Cep...  51.998 TL\n",
      "3   Yenilenmiş iPhone XS 64 GB Gümüş Cep Telefonu ...  15.499 TL\n",
      "4   Yenilenmiş iPhone 11 256 GB Mor Cep Telefonu (...  20.599 TL\n",
      "5   Yenilenmiş iPhone 12 128 GB Kırmızı Cep Telefo...  24.598 TL\n",
      "6   Yenilenmiş iPhone 11 128 GB Mor Cep Telefonu (...  18.399 TL\n",
      "7   Yenilenmiş iPhone 8 Plus 128 GB Siyah Cep Tele...   9.099 TL\n",
      "8   Yenilenmiş iPhone 8 128 GB Gümüş Cep Telefonu ...   7.165 TL\n",
      "9   Yenilenmiş iPhone 12 Pro 256 GB Altın Cep Tele...  33.299 TL\n",
      "10  Yenilenmiş iPhone 8 256 GB Gümüş Cep Telefonu ...   7.898 TL\n",
      "11  Yenilenmiş iPhone 12 Mini 128 GB Mor Cep Telef...  20.799 TL\n",
      "12  Yenilenmiş iPhone 13 Pro Max 512 GB Grafit Cep...  51.999 TL\n",
      "13  Yenilenmiş iPhone XS 64 GB Uzay Grisi Cep Tele...  15.499 TL\n",
      "14  Yenilenmiş iPhone XR 64 GB Mavi Cep Telefonu (...  12.999 TL\n",
      "15  Yenilenmiş iPhone 7 Plus 128 GB Kırmızı Cep Te...   6.099 TL\n",
      "16  Yenilenmiş iPhone 11 Pro 256 GB Altın Cep Tele...  27.979 TL\n",
      "17  Yenilenmiş iPhone 12 Mini 256 GB Kırmızı Cep T...  21.999 TL\n",
      "18  Yenilenmiş iPhone 12 Pro Max 512 GB Gold Cep T...  39.999 TL\n",
      "19  Yenilenmiş iPhone SE 2020 128 GB Kırmızı Cep T...   9.658 TL\n"
     ]
    }
   ],
   "source": [
    "df = pd.DataFrame(excel)\n",
    "\n",
    "df.columns = [\"URUN_ADI\",\"FIYAT\"]\n",
    "print(df)\n",
    "\n",
    "df.to_excel(\"tkenosa-page-18.xlsx\")"
   ]
  },
  {
   "cell_type": "code",
   "execution_count": 41,
   "id": "e212b4c6",
   "metadata": {},
   "outputs": [
    {
     "name": "stdout",
     "output_type": "stream",
     "text": [
      "Yenilenmiş iPhone 7 32 GB Rose Gold Cep Telefonu (1 Yıl Garantili) B Kalite : 3.300 TL\n",
      "Yenilenmiş iPhone 12 Pro 512 GB Mavi Cep Telefonu (1 Yıl Garantili) : 41.399 TL\n",
      "Yenilenmiş iPhone 7 Plus 32 GB Altın Cep Telefonu (1 Yıl Garantili) B Kalite : 4.779 TL\n",
      "Yenilenmiş iPhone XS Max 256 GB Uzay Grisi Cep Telefonu (1 Yıl Garantili) : 17.199 TL\n",
      "Yenilenmiş iPhone 11 Pro 64 GB Yeşil Cep Telefonu (1 Yıl Garantili) C Kalite : 20.999 TL\n",
      "Yenilenmiş iPhone 11 128 GB Yeşil Cep Telefonu (1 Yıl Garantili) B Kalite : 17.999 TL\n",
      "Yenilenmiş iPhone 12 256 GB Mor Cep Telefonu (1 Yıl Garantili) B Kalite : 26.499 TL\n",
      "Yenilenmiş iPhone 13 Pro Max 512 GB Altın Cep Telefonu (1 Yıl Garantili) B Kalite : 51.999 TL\n",
      "Yenilenmiş iPhone XR 256 GB Mavi Cep Telefonu (1 Yıl Garantili) : 16.599 TL\n",
      "Yenilenmiş iPhone 12 Mini 256 GB Siyah Cep Telefonu (1 Yıl Garantili) B Kalite : 25.999 TL\n",
      "Yenilenmiş iPhone XR 64 GB Sarı Cep Telefonu (1 Yıl Garantili) B Kalite : 12.199 TL\n",
      "Yenilenmiş iPhone 7 Plus 128 GB Rose Gold Cep Telefonu (1 Yıl Garantili) B Kalite : 5.949 TL\n",
      "Yenilenmiş iPhone 8 128 GB Kırmızı Cep Telefonu (1 Yıl Garantili) B Kalite : 7.399 TL\n",
      "Yenilenmiş iPhone 13 512 GB Mavi Cep Telefonu (1 Yıl Garantili) B Kalite : 35.589 TL\n",
      "Yenilenmiş iPhone 13 Pro Max 1 TB Sierra Mavisi Cep Telefonu (1 Yıl Garantili) B Kalite : 55.879 TL\n",
      "Yenilenmiş iPhone 7 256 GB Gümüş Cep Telefonu (1 Yıl Garantili) : 4.899 TL\n",
      "Yenilenmiş iPhone XR 128 GB Kırmızı Cep Telefonu (1 Yıl Garantili) : 14.399 TL\n",
      "Yenilenmiş iPhone 8 128 GB Kırmızı Cep Telefonu (1 Yıl Garantili) : 7.799 TL\n",
      "Yenilenmiş iPhone 6S 16 GB Uzay Grisi Cep Telefonu (1 Yıl Garantili) : 2.299 TL\n",
      "Yenilenmiş iPhone 7 128 GB Siyah Cep Telefonu (1 Yıl Garantili) B Kalite : 4.349 TL\n"
     ]
    }
   ],
   "source": [
    "#sayfa19\n",
    "\n",
    "import requests\n",
    "from bs4 import BeautifulSoup\n",
    "\n",
    "excel = []\n",
    "\n",
    "url = \"https://www.teknosa.com/apple-yenilenmis-cep-telefonu-bc-124001001?gclsrc=aw.ds&gad_source=1&gclid=EAIaIQobChMI_-K11ZubhAMVVT8GAB0orQdwEAAYASAAEgIun_D_BwE&page=18\"\n",
    "\n",
    "headers = {\n",
    "    \"User-Agent\": \"Mozilla/5.0 (Windows NT 10.0; Win64; x64) AppleWebKit/537.36 (KHTML, like Gecko) Chrome/121.0.0.0 Safari/537.36\"\n",
    "}\n",
    "\n",
    "html = requests.get(url, headers=headers).content\n",
    "soup = BeautifulSoup(html, \"html.parser\")\n",
    "\n",
    "liste = soup.find_all(\"div\", {\"class\": \"prd-inner\"})\n",
    "\n",
    "for div in liste:\n",
    "    product_name = div.h3.text.strip()  \n",
    "    price_span = div.find(\"div\", {\"class\": \"prd-prices\"}).find(\"span\", {\"class\": \"prc-last\"})\n",
    "    price = price_span.text.strip() if price_span else \"Fiyat bulunamadı\"  # Eğer fiyat bilgisi yoksa \"Fiyat bulunamadı\" yazdır\n",
    "    \n",
    "    excel.append([product_name, price])\n",
    "\n",
    "    print(product_name, \":\", price)"
   ]
  },
  {
   "cell_type": "code",
   "execution_count": 42,
   "id": "cf230497",
   "metadata": {},
   "outputs": [
    {
     "name": "stdout",
     "output_type": "stream",
     "text": [
      "                                             URUN_ADI      FIYAT\n",
      "0   Yenilenmiş iPhone 7 32 GB Rose Gold Cep Telefo...   3.300 TL\n",
      "1   Yenilenmiş iPhone 12 Pro 512 GB Mavi Cep Telef...  41.399 TL\n",
      "2   Yenilenmiş iPhone 7 Plus 32 GB Altın Cep Telef...   4.779 TL\n",
      "3   Yenilenmiş iPhone XS Max 256 GB Uzay Grisi Cep...  17.199 TL\n",
      "4   Yenilenmiş iPhone 11 Pro 64 GB Yeşil Cep Telef...  20.999 TL\n",
      "5   Yenilenmiş iPhone 11 128 GB Yeşil Cep Telefonu...  17.999 TL\n",
      "6   Yenilenmiş iPhone 12 256 GB Mor Cep Telefonu (...  26.499 TL\n",
      "7   Yenilenmiş iPhone 13 Pro Max 512 GB Altın Cep ...  51.999 TL\n",
      "8   Yenilenmiş iPhone XR 256 GB Mavi Cep Telefonu ...  16.599 TL\n",
      "9   Yenilenmiş iPhone 12 Mini 256 GB Siyah Cep Tel...  25.999 TL\n",
      "10  Yenilenmiş iPhone XR 64 GB Sarı Cep Telefonu (...  12.199 TL\n",
      "11  Yenilenmiş iPhone 7 Plus 128 GB Rose Gold Cep ...   5.949 TL\n",
      "12  Yenilenmiş iPhone 8 128 GB Kırmızı Cep Telefon...   7.399 TL\n",
      "13  Yenilenmiş iPhone 13 512 GB Mavi Cep Telefonu ...  35.589 TL\n",
      "14  Yenilenmiş iPhone 13 Pro Max 1 TB Sierra Mavis...  55.879 TL\n",
      "15  Yenilenmiş iPhone 7 256 GB Gümüş Cep Telefonu ...   4.899 TL\n",
      "16  Yenilenmiş iPhone XR 128 GB Kırmızı Cep Telefo...  14.399 TL\n",
      "17  Yenilenmiş iPhone 8 128 GB Kırmızı Cep Telefon...   7.799 TL\n",
      "18  Yenilenmiş iPhone 6S 16 GB Uzay Grisi Cep Tele...   2.299 TL\n",
      "19  Yenilenmiş iPhone 7 128 GB Siyah Cep Telefonu ...   4.349 TL\n"
     ]
    }
   ],
   "source": [
    "df = pd.DataFrame(excel)\n",
    "\n",
    "df.columns = [\"URUN_ADI\",\"FIYAT\"]\n",
    "print(df)\n",
    "\n",
    "df.to_excel(\"tkenosa-page-19.xlsx\")"
   ]
  },
  {
   "cell_type": "code",
   "execution_count": 43,
   "id": "5f400005",
   "metadata": {},
   "outputs": [
    {
     "name": "stdout",
     "output_type": "stream",
     "text": [
      "Yenilenmiş iPhone XR 64 GB Mavi Cep Telefonu (1 Yıl Garantili) B Kalite : 12.199 TL\n",
      "Yenilenmiş iPhone XR 128 GB Mercan Cep Telefonu (1 Yıl Garantili) B Kalite : 13.717 TL\n",
      "Yenilenmiş iPhone 12 64 GB Mavi Cep Telefonu (1 Yıl Garantili) C Kalite : 21.999 TL\n",
      "Yenilenmiş iPhone XR 64 GB Sarı Cep Telefonu (1 Yıl Garantili) : 12.999 TL\n",
      "Yenilenmiş iPhone XS 256 GB Gümüş Cep Telefonu (1 Yıl Garantili) : 16.199 TL\n",
      "Yenilenmiş iPhone 8 128 GB Altın Cep Telefonu (1 Yıl Garantili) : 7.165 TL\n",
      "Yenilenmiş iPhone 7 256 GB Rose Gold Cep Telefonu (1 Yıl Garantili) : 4.899 TL\n",
      "Yenilenmiş iPhone 11 256 GB Sarı Cep Telefonu (1 Yıl Garantili) B Kalite : 18.849 TL\n",
      "Yenilenmiş iPhone 11 256 GB Yeşil Cep Telefonu (1 Yıl Garantili) B Kalite : 18.849 TL\n",
      "Yenilenmiş iPhone 12 Pro Max 256 GB Siyah Cep Telefonu (1 Yıl Garantili) : 38.798 TL\n",
      "Yenilenmiş iPhone 6S Plus 16 GB Rose Gold Cep Telefonu (1 Yıl Garantili) B Kalite : 2.699 TL\n",
      "Yenilenmiş iPhone 8 256 GB Kırmızı Cep Telefonu (1 Yıl Garantili) B Kalite : 7.699 TL\n",
      "Yenilenmiş iPhone XS Max 512 GB Uzay Grisi Cep Telefonu (1 Yıl Garantili) : 17.999 TL\n",
      "Yenilenmiş iPhone 11 Pro Max 512 GB Beyaz Cep Telefonu (1 Yıl Garantili) : 36.649 TL\n",
      "Yenilenmiş iPhone 6S Plus 16 GB Altın Cep Telefonu (1 Yıl Garantili) : 2.899 TL\n",
      "Yenilenmiş iPhone 11 Pro Max 64 GB Gümüş Cep Telefonu (1 Yıl Garantili) C Kalite : 22.999 TL\n",
      "Yenilenmiş iPhone 8 64 GB Altın Cep Telefonu (1 Yıl Garantili) C Kalite : 5.599 TL\n",
      "Yenilenmiş iPhone 12 Mini 256 GB Beyaz Cep Telefonu (1 Yıl Garantili) : 27.499 TL\n",
      "Yenilenmiş iPhone 8 Plus 256 GB Beyaz Cep Telefonu (1 Yıl Garantili) B Kalite : 9.799 TL\n",
      "Yenilenmiş iPhone 7 Plus 32 GB Kırmızı Cep Telefonu (1 Yıl Garantili) : 5.299 TL\n"
     ]
    }
   ],
   "source": [
    "#sayfa20\n",
    "\n",
    "import requests\n",
    "from bs4 import BeautifulSoup\n",
    "\n",
    "excel = []\n",
    "\n",
    "url = \"https://www.teknosa.com/apple-yenilenmis-cep-telefonu-bc-124001001?gclsrc=aw.ds&gad_source=1&gclid=EAIaIQobChMI_-K11ZubhAMVVT8GAB0orQdwEAAYASAAEgIun_D_BwE&page=19\"\n",
    "\n",
    "headers = {\n",
    "    \"User-Agent\": \"Mozilla/5.0 (Windows NT 10.0; Win64; x64) AppleWebKit/537.36 (KHTML, like Gecko) Chrome/121.0.0.0 Safari/537.36\"\n",
    "}\n",
    "\n",
    "html = requests.get(url, headers=headers).content\n",
    "soup = BeautifulSoup(html, \"html.parser\")\n",
    "\n",
    "liste = soup.find_all(\"div\", {\"class\": \"prd-inner\"})\n",
    "\n",
    "for div in liste:\n",
    "    product_name = div.h3.text.strip()  \n",
    "    price_span = div.find(\"div\", {\"class\": \"prd-prices\"}).find(\"span\", {\"class\": \"prc-last\"})\n",
    "    price = price_span.text.strip() if price_span else \"Fiyat bulunamadı\"  # Eğer fiyat bilgisi yoksa \"Fiyat bulunamadı\" yazdır\n",
    "    \n",
    "    excel.append([product_name, price])\n",
    "\n",
    "    print(product_name, \":\", price)"
   ]
  },
  {
   "cell_type": "code",
   "execution_count": 44,
   "id": "5207b0e7",
   "metadata": {},
   "outputs": [
    {
     "name": "stdout",
     "output_type": "stream",
     "text": [
      "                                             URUN_ADI      FIYAT\n",
      "0   Yenilenmiş iPhone XR 64 GB Mavi Cep Telefonu (...  12.199 TL\n",
      "1   Yenilenmiş iPhone XR 128 GB Mercan Cep Telefon...  13.717 TL\n",
      "2   Yenilenmiş iPhone 12 64 GB Mavi Cep Telefonu (...  21.999 TL\n",
      "3   Yenilenmiş iPhone XR 64 GB Sarı Cep Telefonu (...  12.999 TL\n",
      "4   Yenilenmiş iPhone XS 256 GB Gümüş Cep Telefonu...  16.199 TL\n",
      "5   Yenilenmiş iPhone 8 128 GB Altın Cep Telefonu ...   7.165 TL\n",
      "6   Yenilenmiş iPhone 7 256 GB Rose Gold Cep Telef...   4.899 TL\n",
      "7   Yenilenmiş iPhone 11 256 GB Sarı Cep Telefonu ...  18.849 TL\n",
      "8   Yenilenmiş iPhone 11 256 GB Yeşil Cep Telefonu...  18.849 TL\n",
      "9   Yenilenmiş iPhone 12 Pro Max 256 GB Siyah Cep ...  38.798 TL\n",
      "10  Yenilenmiş iPhone 6S Plus 16 GB Rose Gold Cep ...   2.699 TL\n",
      "11  Yenilenmiş iPhone 8 256 GB Kırmızı Cep Telefon...   7.699 TL\n",
      "12  Yenilenmiş iPhone XS Max 512 GB Uzay Grisi Cep...  17.999 TL\n",
      "13  Yenilenmiş iPhone 11 Pro Max 512 GB Beyaz Cep ...  36.649 TL\n",
      "14  Yenilenmiş iPhone 6S Plus 16 GB Altın Cep Tele...   2.899 TL\n",
      "15  Yenilenmiş iPhone 11 Pro Max 64 GB Gümüş Cep T...  22.999 TL\n",
      "16  Yenilenmiş iPhone 8 64 GB Altın Cep Telefonu (...   5.599 TL\n",
      "17  Yenilenmiş iPhone 12 Mini 256 GB Beyaz Cep Tel...  27.499 TL\n",
      "18  Yenilenmiş iPhone 8 Plus 256 GB Beyaz Cep Tele...   9.799 TL\n",
      "19  Yenilenmiş iPhone 7 Plus 32 GB Kırmızı Cep Tel...   5.299 TL\n"
     ]
    }
   ],
   "source": [
    "df = pd.DataFrame(excel)\n",
    "\n",
    "df.columns = [\"URUN_ADI\",\"FIYAT\"]\n",
    "print(df)\n",
    "\n",
    "df.to_excel(\"tkenosa-page-20.xlsx\")"
   ]
  },
  {
   "cell_type": "code",
   "execution_count": 45,
   "id": "efae79cb",
   "metadata": {},
   "outputs": [
    {
     "name": "stdout",
     "output_type": "stream",
     "text": [
      "Yenilenmiş iPhone 6S Plus 16 GB Rose Gold Cep Telefonu (1 Yıl Garantili) : 2.899 TL\n",
      "Yenilenmiş iPhone 13 512 GB Gece Yarısı Cep Telefonu (1 Yıl Garantili) B Kalite : 37.599 TL\n",
      "Yenilenmiş iPhone XS Max 512 GB Altın Cep Telefonu (1 Yıl Garantili) : 17.999 TL\n",
      "Yenilenmiş iPhone 8 256 GB Uzay Grisi Cep Telefonu (1 Yıl Garantili) B Kalite : 7.498 TL\n",
      "Yenilenmiş iPhone 11 64 GB Sarı Cep Telefonu (1 Yıl Garantili) B Kalite : 16.019 TL\n",
      "Yenilenmiş iPhone XR 128 GB Mavi Cep Telefonu (1 Yıl Garantili) B Kalite : 13.718 TL\n",
      "Yenilenmiş iPhone 7 256 GB Altın Cep Telefonu (1 Yıl Garantili) B Kalite : 4.579 TL\n",
      "Yenilenmiş iPhone 12 Pro Max 512 GB Gold Cep Telefonu (1 Yıl Garantili) : 48.999 TL\n",
      "Yenilenmiş iPhone XR 128 GB Mercan Cep Telefonu (1 Yıl Garantili) : 14.399 TL\n",
      "Yenilenmiş iPhone 8 256 GB Altın Cep Telefonu (1 Yıl Garantili) : 7.889 TL\n",
      "Yenilenmiş iPhone XR 64 GB Mercan Cep Telefonu (1 Yıl Garantili) B Kalite : 12.199 TL\n",
      "Yenilenmiş iPhone XS Max 512 GB Uzay Grisi Cep Telefonu (1 Yıl Garantili) B Kalite : 17.199 TL\n",
      "Yenilenmiş iPhone 12 Pro 512 GB Altın Cep Telefonu (1 Yıl Garantili) B Kalite : 35.799 TL\n",
      "Yenilenmiş iPhone 12 Pro 512 GB Gri Cep Telefonu (1 Yıl Garantili) B Kalite : 35.799 TL\n",
      "Yenilenmiş iPhone 8 Plus 128 GB Kırmızı Cep Telefonu (1 Yıl Garantili) B Kalite : 9.499 TL\n",
      "Yenilenmiş iPhone 8 128 GB Altın Cep Telefonu (1 Yıl Garantili) B Kalite : 6.898 TL\n",
      "Yenilenmiş iPhone 7 Plus 32 GB Gümüş Cep Telefonu (1 Yıl Garantili) B Kalite : 4.779 TL\n",
      "Yenilenmiş iPhone SE 2020 256 GB Kırmızı Cep Telefonu (1 Yıl Garantili) B Kalite : 10.398 TL\n",
      "Yenilenmiş iPhone 7 Plus 256 GB Gümüş Cep Telefonu (1 Yıl Garantili) : 7.279 TL\n",
      "Yenilenmiş iPhone 12 256 GB Yeşil Cep Telefonu (1 Yıl Garantili) : 26.949 TL\n"
     ]
    }
   ],
   "source": [
    "#sayfa21\n",
    "\n",
    "import requests\n",
    "from bs4 import BeautifulSoup\n",
    "\n",
    "excel = []\n",
    "\n",
    "url = \"https://www.teknosa.com/apple-yenilenmis-cep-telefonu-bc-124001001?gclsrc=aw.ds&gad_source=1&gclid=EAIaIQobChMI_-K11ZubhAMVVT8GAB0orQdwEAAYASAAEgIun_D_BwE&page=20\"\n",
    "\n",
    "headers = {\n",
    "    \"User-Agent\": \"Mozilla/5.0 (Windows NT 10.0; Win64; x64) AppleWebKit/537.36 (KHTML, like Gecko) Chrome/121.0.0.0 Safari/537.36\"\n",
    "}\n",
    "\n",
    "html = requests.get(url, headers=headers).content\n",
    "soup = BeautifulSoup(html, \"html.parser\")\n",
    "\n",
    "liste = soup.find_all(\"div\", {\"class\": \"prd-inner\"})\n",
    "\n",
    "for div in liste:\n",
    "    product_name = div.h3.text.strip()  \n",
    "    price_span = div.find(\"div\", {\"class\": \"prd-prices\"}).find(\"span\", {\"class\": \"prc-last\"})\n",
    "    price = price_span.text.strip() if price_span else \"Fiyat bulunamadı\"  # Eğer fiyat bilgisi yoksa \"Fiyat bulunamadı\" yazdır\n",
    "    \n",
    "    excel.append([product_name, price])\n",
    "\n",
    "    print(product_name, \":\", price)"
   ]
  },
  {
   "cell_type": "code",
   "execution_count": 46,
   "id": "d7a032bb",
   "metadata": {},
   "outputs": [
    {
     "name": "stdout",
     "output_type": "stream",
     "text": [
      "                                             URUN_ADI      FIYAT\n",
      "0   Yenilenmiş iPhone 6S Plus 16 GB Rose Gold Cep ...   2.899 TL\n",
      "1   Yenilenmiş iPhone 13 512 GB Gece Yarısı Cep Te...  37.599 TL\n",
      "2   Yenilenmiş iPhone XS Max 512 GB Altın Cep Tele...  17.999 TL\n",
      "3   Yenilenmiş iPhone 8 256 GB Uzay Grisi Cep Tele...   7.498 TL\n",
      "4   Yenilenmiş iPhone 11 64 GB Sarı Cep Telefonu (...  16.019 TL\n",
      "5   Yenilenmiş iPhone XR 128 GB Mavi Cep Telefonu ...  13.718 TL\n",
      "6   Yenilenmiş iPhone 7 256 GB Altın Cep Telefonu ...   4.579 TL\n",
      "7   Yenilenmiş iPhone 12 Pro Max 512 GB Gold Cep T...  48.999 TL\n",
      "8   Yenilenmiş iPhone XR 128 GB Mercan Cep Telefon...  14.399 TL\n",
      "9   Yenilenmiş iPhone 8 256 GB Altın Cep Telefonu ...   7.889 TL\n",
      "10  Yenilenmiş iPhone XR 64 GB Mercan Cep Telefonu...  12.199 TL\n",
      "11  Yenilenmiş iPhone XS Max 512 GB Uzay Grisi Cep...  17.199 TL\n",
      "12  Yenilenmiş iPhone 12 Pro 512 GB Altın Cep Tele...  35.799 TL\n",
      "13  Yenilenmiş iPhone 12 Pro 512 GB Gri Cep Telefo...  35.799 TL\n",
      "14  Yenilenmiş iPhone 8 Plus 128 GB Kırmızı Cep Te...   9.499 TL\n",
      "15  Yenilenmiş iPhone 8 128 GB Altın Cep Telefonu ...   6.898 TL\n",
      "16  Yenilenmiş iPhone 7 Plus 32 GB Gümüş Cep Telef...   4.779 TL\n",
      "17  Yenilenmiş iPhone SE 2020 256 GB Kırmızı Cep T...  10.398 TL\n",
      "18  Yenilenmiş iPhone 7 Plus 256 GB Gümüş Cep Tele...   7.279 TL\n",
      "19  Yenilenmiş iPhone 12 256 GB Yeşil Cep Telefonu...  26.949 TL\n"
     ]
    }
   ],
   "source": [
    "df = pd.DataFrame(excel)\n",
    "\n",
    "df.columns = [\"URUN_ADI\",\"FIYAT\"]\n",
    "print(df)\n",
    "\n",
    "df.to_excel(\"tkenosa-page-21.xlsx\")"
   ]
  },
  {
   "cell_type": "code",
   "execution_count": 47,
   "id": "29d86066",
   "metadata": {},
   "outputs": [
    {
     "name": "stdout",
     "output_type": "stream",
     "text": [
      "Yenilenmiş iPhone 12 Mini 256 GB Kırmızı Cep Telefonu (1 Yıl Garantili) : 27.499 TL\n",
      "Yenilenmiş iPhone 12 256 GB Yeşil Cep Telefonu (1 Yıl Garantili) : 26.949 TL\n",
      "Yenilenmiş iPhone XR 128 GB Kırmızı Cep Telefonu (1 Yıl Garantili) B Kalite : 13.717 TL\n",
      "Yenilenmiş iPhone XR 128 GB Siyah Cep Telefonu (1 Yıl Garantili) : 14.399 TL\n",
      "Yenilenmiş iPhone 12 Pro 512 GB Mavi Cep Telefonu (1 Yıl Garantili) B Kalite : 35.799 TL\n",
      "Yenilenmiş iPhone 8 Plus 256 GB Kırmızı Cep Telefonu (1 Yıl Garantili) B Kalite : 10.299 TL\n",
      "Yenilenmiş iPhone 13 Pro 128 GB Gümüş Cep Telefonu (1 Yıl Garantili) : 44.499 TL\n",
      "Yenilenmiş iPhone 6S Plus 16 GB Gümüş Cep Telefonu (1 Yıl Garantili) B Kalite : 2.699 TL\n",
      "Yenilenmiş iPhone 8 256 GB Kırmızı Cep Telefonu (1 Yıl Garantili) : 7.889 TL\n",
      "Yenilenmiş iPhone 7 Plus 256 GB Rose Gold Cep Telefonu (1 Yıl Garantili) : 7.279 TL\n",
      "Yenilenmiş iPhone 7 128 GB Gümüş Cep Telefonu (1 Yıl Garantili) : 4.999 TL\n",
      "Yenilenmiş iPhone 14 Plus 256 GB Yıldız Işığı Cep Telefonu (1 Yıl Garantili) : 47.999 TL\n",
      "Yenilenmiş iPhone 6S 64 GB Altın Cep Telefonu (1 Yıl Garantili) : 3.750 TL\n",
      "Yenilenmiş iPhone 11 256 GB Yeşil Cep Telefonu (1 Yıl Garantili) : 20.699 TL\n",
      "Yenilenmiş iPhone 14 Pro Max 128 GB Derin Mor Cep Telefonu (1 Yıl Garantili) : 69.999 TL\n",
      "Yenilenmiş iPhone 14 Plus 256 GB Kırmızı Cep Telefonu (1 Yıl Garantili) : 47.999 TL\n",
      "Yenilenmiş iPhone 11 256 GB Kırmızı Cep Telefonu (1 Yıl Garantili) : 20.649 TL\n",
      "Yenilenmiş iPhone 11 Pro 512 GB Uzay Grisi Cep Telefonu (1 Yıl Garantili) B Kalite : 26.799 TL\n",
      "Yenilenmiş iPhone 8 64 GB Kırmızı Cep Telefonu (1 Yıl Garantili) B Kalite : 6.599 TL\n",
      "Yenilenmiş iPhone 13 Pro 512 GB Grafit Cep Telefonu (1 Yıl Garantili) B Kalite : 52.999 TL\n"
     ]
    }
   ],
   "source": [
    "#sayfa22\n",
    "\n",
    "import requests\n",
    "from bs4 import BeautifulSoup\n",
    "\n",
    "excel = []\n",
    "\n",
    "url = \"https://www.teknosa.com/apple-yenilenmis-cep-telefonu-bc-124001001?gclsrc=aw.ds&gad_source=1&gclid=EAIaIQobChMI_-K11ZubhAMVVT8GAB0orQdwEAAYASAAEgIun_D_BwE&page=21\"\n",
    "\n",
    "headers = {\n",
    "    \"User-Agent\": \"Mozilla/5.0 (Windows NT 10.0; Win64; x64) AppleWebKit/537.36 (KHTML, like Gecko) Chrome/121.0.0.0 Safari/537.36\"\n",
    "}\n",
    "\n",
    "html = requests.get(url, headers=headers).content\n",
    "soup = BeautifulSoup(html, \"html.parser\")\n",
    "\n",
    "liste = soup.find_all(\"div\", {\"class\": \"prd-inner\"})\n",
    "\n",
    "for div in liste:\n",
    "    product_name = div.h3.text.strip()  \n",
    "    price_span = div.find(\"div\", {\"class\": \"prd-prices\"}).find(\"span\", {\"class\": \"prc-last\"})\n",
    "    price = price_span.text.strip() if price_span else \"Fiyat bulunamadı\"  # Eğer fiyat bilgisi yoksa \"Fiyat bulunamadı\" yazdır\n",
    "    \n",
    "    excel.append([product_name, price])\n",
    "\n",
    "    print(product_name, \":\", price)"
   ]
  },
  {
   "cell_type": "code",
   "execution_count": 48,
   "id": "1f800b7a",
   "metadata": {},
   "outputs": [
    {
     "name": "stdout",
     "output_type": "stream",
     "text": [
      "                                             URUN_ADI      FIYAT\n",
      "0   Yenilenmiş iPhone 12 Mini 256 GB Kırmızı Cep T...  27.499 TL\n",
      "1   Yenilenmiş iPhone 12 256 GB Yeşil Cep Telefonu...  26.949 TL\n",
      "2   Yenilenmiş iPhone XR 128 GB Kırmızı Cep Telefo...  13.717 TL\n",
      "3   Yenilenmiş iPhone XR 128 GB Siyah Cep Telefonu...  14.399 TL\n",
      "4   Yenilenmiş iPhone 12 Pro 512 GB Mavi Cep Telef...  35.799 TL\n",
      "5   Yenilenmiş iPhone 8 Plus 256 GB Kırmızı Cep Te...  10.299 TL\n",
      "6   Yenilenmiş iPhone 13 Pro 128 GB Gümüş Cep Tele...  44.499 TL\n",
      "7   Yenilenmiş iPhone 6S Plus 16 GB Gümüş Cep Tele...   2.699 TL\n",
      "8   Yenilenmiş iPhone 8 256 GB Kırmızı Cep Telefon...   7.889 TL\n",
      "9   Yenilenmiş iPhone 7 Plus 256 GB Rose Gold Cep ...   7.279 TL\n",
      "10  Yenilenmiş iPhone 7 128 GB Gümüş Cep Telefonu ...   4.999 TL\n",
      "11  Yenilenmiş iPhone 14 Plus 256 GB Yıldız Işığı ...  47.999 TL\n",
      "12  Yenilenmiş iPhone 6S 64 GB Altın Cep Telefonu ...   3.750 TL\n",
      "13  Yenilenmiş iPhone 11 256 GB Yeşil Cep Telefonu...  20.699 TL\n",
      "14  Yenilenmiş iPhone 14 Pro Max 128 GB Derin Mor ...  69.999 TL\n",
      "15  Yenilenmiş iPhone 14 Plus 256 GB Kırmızı Cep T...  47.999 TL\n",
      "16  Yenilenmiş iPhone 11 256 GB Kırmızı Cep Telefo...  20.649 TL\n",
      "17  Yenilenmiş iPhone 11 Pro 512 GB Uzay Grisi Cep...  26.799 TL\n",
      "18  Yenilenmiş iPhone 8 64 GB Kırmızı Cep Telefonu...   6.599 TL\n",
      "19  Yenilenmiş iPhone 13 Pro 512 GB Grafit Cep Tel...  52.999 TL\n"
     ]
    }
   ],
   "source": [
    "df = pd.DataFrame(excel)\n",
    "\n",
    "df.columns = [\"URUN_ADI\",\"FIYAT\"]\n",
    "print(df)\n",
    "\n",
    "df.to_excel(\"tkenosa-page-22.xlsx\")"
   ]
  },
  {
   "cell_type": "code",
   "execution_count": 49,
   "id": "15fc07e6",
   "metadata": {},
   "outputs": [
    {
     "name": "stdout",
     "output_type": "stream",
     "text": [
      "Yenilenmiş iPhone 13 Pro 128 GB Köknar Yeşili Cep Telefonu (1 Yıl Garantili) : 43.949 TL\n",
      "Yenilenmiş iPhone 12 256 GB Yeşil Cep Telefonu (1 Yıl Garantili) B Kalite : 26.998 TL\n",
      "Yenilenmiş iPhone 7 256 GB Siyah Cep Telefonu (1 Yıl Garantili) C Kalite : 4.299 TL\n",
      "Yenilenmiş iPhone 6S Plus 16 GB Gümüş Cep Telefonu (1 Yıl Garantili) : 2.899 TL\n",
      "Yenilenmiş iPhone XR 128 GB Sarı Cep Telefonu (1 Yıl Garantili) B Kalite : 13.719 TL\n",
      "Yenilenmiş iPhone 11 Pro 512 GB Altın Cep Telefonu (1 Yıl Garantili) : 31.999 TL\n",
      "Yenilenmiş iPhone XR 256 GB Kırmızı Cep Telefonu (1 Yıl Garantili) B Kalite : 15.428 TL\n",
      "Yenilenmiş iPhone 11 128 GB Siyah Cep Telefonu (1 Yıl Garantili) C Kalite : 18.399 TL\n",
      "Yenilenmiş iPhone 7 Plus 256 GB Altın Cep Telefonu (1 Yıl Garantili) : 7.279 TL\n",
      "Yenilenmiş iPhone 12 Mini 256 GB Yeşil Cep Telefonu (1 Yıl Garantili) B Kalite : 21.999 TL\n",
      "Yenilenmiş iPhone 7 Plus 256 GB Gümüş Cep Telefonu (1 Yıl Garantili) B Kalite : 6.959 TL\n",
      "Yenilenmiş iPhone 12 Mini 256 GB Mavi Cep Telefonu (1 Yıl Garantili) : 27.499 TL\n",
      "Yenilenmiş iPhone 8 128 GB Gümüş Cep Telefonu (1 Yıl Garantili) B Kalite : 6.898 TL\n",
      "Yenilenmiş iPhone SE 2020 256 GB Beyaz Cep Telefonu (1 Yıl Garantili) B Kalite : 10.398 TL\n",
      "Yenilenmiş iPhone 11 Pro 512 GB Yeşil Cep Telefonu (1 Yıl Garantili) : 31.999 TL\n",
      "Yenilenmiş iPhone 7 256 GB Gümüş Cep Telefonu (1 Yıl Garantili) B Kalite : 4.579 TL\n",
      "Yenilenmiş iPhone 11 Pro Max 512 GB Altın Cep Telefonu (1 Yıl Garantili) B Kalite : 31.699 TL\n",
      "Yenilenmiş iPhone XS Max 512 GB Gümüş Cep Telefonu (1 Yıl Garantili) B Kalite : 17.199 TL\n",
      "Yenilenmiş iPhone 7 Plus 256 GB Siyah Cep Telefonu (1 Yıl Garantili) B Kalite : 6.958 TL\n",
      "Yenilenmiş iPhone 7 Plus 256 GB Kırmızı Cep Telefonu (1 Yıl Garantili) : 7.499 TL\n"
     ]
    }
   ],
   "source": [
    "#sayfa23\n",
    "\n",
    "import requests\n",
    "from bs4 import BeautifulSoup\n",
    "\n",
    "excel = []\n",
    "\n",
    "url = \"https://www.teknosa.com/apple-yenilenmis-cep-telefonu-bc-124001001?gclsrc=aw.ds&gad_source=1&gclid=EAIaIQobChMI_-K11ZubhAMVVT8GAB0orQdwEAAYASAAEgIun_D_BwE&page=22\"\n",
    "\n",
    "headers = {\n",
    "    \"User-Agent\": \"Mozilla/5.0 (Windows NT 10.0; Win64; x64) AppleWebKit/537.36 (KHTML, like Gecko) Chrome/121.0.0.0 Safari/537.36\"\n",
    "}\n",
    "\n",
    "html = requests.get(url, headers=headers).content\n",
    "soup = BeautifulSoup(html, \"html.parser\")\n",
    "\n",
    "liste = soup.find_all(\"div\", {\"class\": \"prd-inner\"})\n",
    "\n",
    "for div in liste:\n",
    "    product_name = div.h3.text.strip()  \n",
    "    price_span = div.find(\"div\", {\"class\": \"prd-prices\"}).find(\"span\", {\"class\": \"prc-last\"})\n",
    "    price = price_span.text.strip() if price_span else \"Fiyat bulunamadı\"  # Eğer fiyat bilgisi yoksa \"Fiyat bulunamadı\" yazdır\n",
    "    \n",
    "    excel.append([product_name, price])\n",
    "\n",
    "    print(product_name, \":\", price)"
   ]
  },
  {
   "cell_type": "code",
   "execution_count": 50,
   "id": "cd99c244",
   "metadata": {},
   "outputs": [
    {
     "name": "stdout",
     "output_type": "stream",
     "text": [
      "                                             URUN_ADI      FIYAT\n",
      "0   Yenilenmiş iPhone 13 Pro 128 GB Köknar Yeşili ...  43.949 TL\n",
      "1   Yenilenmiş iPhone 12 256 GB Yeşil Cep Telefonu...  26.998 TL\n",
      "2   Yenilenmiş iPhone 7 256 GB Siyah Cep Telefonu ...   4.299 TL\n",
      "3   Yenilenmiş iPhone 6S Plus 16 GB Gümüş Cep Tele...   2.899 TL\n",
      "4   Yenilenmiş iPhone XR 128 GB Sarı Cep Telefonu ...  13.719 TL\n",
      "5   Yenilenmiş iPhone 11 Pro 512 GB Altın Cep Tele...  31.999 TL\n",
      "6   Yenilenmiş iPhone XR 256 GB Kırmızı Cep Telefo...  15.428 TL\n",
      "7   Yenilenmiş iPhone 11 128 GB Siyah Cep Telefonu...  18.399 TL\n",
      "8   Yenilenmiş iPhone 7 Plus 256 GB Altın Cep Tele...   7.279 TL\n",
      "9   Yenilenmiş iPhone 12 Mini 256 GB Yeşil Cep Tel...  21.999 TL\n",
      "10  Yenilenmiş iPhone 7 Plus 256 GB Gümüş Cep Tele...   6.959 TL\n",
      "11  Yenilenmiş iPhone 12 Mini 256 GB Mavi Cep Tele...  27.499 TL\n",
      "12  Yenilenmiş iPhone 8 128 GB Gümüş Cep Telefonu ...   6.898 TL\n",
      "13  Yenilenmiş iPhone SE 2020 256 GB Beyaz Cep Tel...  10.398 TL\n",
      "14  Yenilenmiş iPhone 11 Pro 512 GB Yeşil Cep Tele...  31.999 TL\n",
      "15  Yenilenmiş iPhone 7 256 GB Gümüş Cep Telefonu ...   4.579 TL\n",
      "16  Yenilenmiş iPhone 11 Pro Max 512 GB Altın Cep ...  31.699 TL\n",
      "17  Yenilenmiş iPhone XS Max 512 GB Gümüş Cep Tele...  17.199 TL\n",
      "18  Yenilenmiş iPhone 7 Plus 256 GB Siyah Cep Tele...   6.958 TL\n",
      "19  Yenilenmiş iPhone 7 Plus 256 GB Kırmızı Cep Te...   7.499 TL\n"
     ]
    }
   ],
   "source": [
    "df = pd.DataFrame(excel)\n",
    "\n",
    "df.columns = [\"URUN_ADI\",\"FIYAT\"]\n",
    "print(df)\n",
    "\n",
    "df.to_excel(\"tkenosa-page-23.xlsx\")"
   ]
  },
  {
   "cell_type": "code",
   "execution_count": 51,
   "id": "fa77b6e8",
   "metadata": {},
   "outputs": [
    {
     "name": "stdout",
     "output_type": "stream",
     "text": [
      "Yenilenmiş iPhone XR 256 GB Siyah Cep Telefonu (1 Yıl Garantili) B Kalite : 15.428 TL\n",
      "Yenilenmiş iPhone 7 Plus 256 GB Kırmızı Cep Telefonu (1 Yıl Garantili) B Kalite : 7.299 TL\n",
      "Yenilenmiş iPhone 8 128 GB Uzay Grisi Cep Telefonu (1 Yıl Garantili) C Kalite : 6.399 TL\n",
      "Yenilenmiş iPhone 12 Pro 512 GB Gümüş Cep Telefonu (1 Yıl Garantili) : 46.269 TL\n",
      "Yenilenmiş iPhone 8 256 GB Altın Cep Telefonu (1 Yıl Garantili) B Kalite : 7.498 TL\n",
      "Yenilenmiş iPhone 7 Plus 256 GB Jet Black Cep Telefonu (1 Yıl Garantili) B Kalite : 7.399 TL\n",
      "Yenilenmiş iPhone 8 Plus 128 GB Gümüş Cep Telefonu (1 Yıl Garantili) C Kalite : 8.899 TL\n",
      "Yenilenmiş iPhone XS 512 G Gümüş Cep Telefonu (1 Yıl Garantili) B Kalite : 18.199 TL\n",
      "Yenilenmiş iPhone 13 Pro Max 1 TB Altın Cep Telefonu (1 Yıl Garantili) : 59.999 TL\n",
      "Yenilenmiş iPhone 7 Plus 256 GB Rose Gold Cep Telefonu (1 Yıl Garantili) B Kalite : 6.959 TL\n",
      "Yenilenmiş iPhone 8 256 GB Gümüş Cep Telefonu (1 Yıl Garantili) B Kalite : 7.399 TL\n",
      "Yenilenmiş iPhone 11 Pro Max 512 GB Gümüş Cep Telefonu (1 Yıl Garantili) B Kalite : 28.399 TL\n",
      "Yenilenmiş iPhone XS 512 GB Uzay Grisi Cep Telefonu (1 Yıl Garantili) B Kalite : 18.199 TL\n",
      "Yenilenmiş iPhone 12 256 GB Siyah Cep Telefonu (1 Yıl Garantili) : 26.949 TL\n",
      "Yenilenmiş iPhone 7 Plus 256 GB Altın Cep Telefonu (1 Yıl Garantili) B Kalite : 6.958 TL\n",
      "Yenilenmiş iPhone 7 256 GB Rose Gold Cep Telefonu (1 Yıl Garantili) B Kalite : 4.579 TL\n",
      "Yenilenmiş iPhone 13 Pro Max 1 TB Gümüş Cep Telefonu (1 Yıl Garantili) : 59.999 TL\n",
      "Yenilenmiş iPhone 12 Pro Max 256 GB Beyaz Cep Telefonu (1 Yıl Garantili) : 38.799 TL\n",
      "Yenilenmiş iPhone 11 Pro 256 GB Yeşil Cep Telefonu (1 Yıl Garantili) : 27.988 TL\n",
      "Yenilenmiş iPhone 12 Pro Max 512 GB Mavi Cep Telefonu (1 Yıl Garantili) : 44.599 TL\n"
     ]
    }
   ],
   "source": [
    "#sayfa24\n",
    "\n",
    "import requests\n",
    "from bs4 import BeautifulSoup\n",
    "\n",
    "excel = []\n",
    "\n",
    "url = \"https://www.teknosa.com/apple-yenilenmis-cep-telefonu-bc-124001001?gclsrc=aw.ds&gad_source=1&gclid=EAIaIQobChMI_-K11ZubhAMVVT8GAB0orQdwEAAYASAAEgIun_D_BwE&page=23\"\n",
    "\n",
    "headers = {\n",
    "    \"User-Agent\": \"Mozilla/5.0 (Windows NT 10.0; Win64; x64) AppleWebKit/537.36 (KHTML, like Gecko) Chrome/121.0.0.0 Safari/537.36\"\n",
    "}\n",
    "\n",
    "html = requests.get(url, headers=headers).content\n",
    "soup = BeautifulSoup(html, \"html.parser\")\n",
    "\n",
    "liste = soup.find_all(\"div\", {\"class\": \"prd-inner\"})\n",
    "\n",
    "for div in liste:\n",
    "    product_name = div.h3.text.strip()  \n",
    "    price_span = div.find(\"div\", {\"class\": \"prd-prices\"}).find(\"span\", {\"class\": \"prc-last\"})\n",
    "    price = price_span.text.strip() if price_span else \"Fiyat bulunamadı\"  # Eğer fiyat bilgisi yoksa \"Fiyat bulunamadı\" yazdır\n",
    "    \n",
    "    excel.append([product_name, price])\n",
    "\n",
    "    print(product_name, \":\", price)"
   ]
  },
  {
   "cell_type": "code",
   "execution_count": 52,
   "id": "4cc72950",
   "metadata": {},
   "outputs": [
    {
     "name": "stdout",
     "output_type": "stream",
     "text": [
      "                                             URUN_ADI      FIYAT\n",
      "0   Yenilenmiş iPhone XR 256 GB Siyah Cep Telefonu...  15.428 TL\n",
      "1   Yenilenmiş iPhone 7 Plus 256 GB Kırmızı Cep Te...   7.299 TL\n",
      "2   Yenilenmiş iPhone 8 128 GB Uzay Grisi Cep Tele...   6.399 TL\n",
      "3   Yenilenmiş iPhone 12 Pro 512 GB Gümüş Cep Tele...  46.269 TL\n",
      "4   Yenilenmiş iPhone 8 256 GB Altın Cep Telefonu ...   7.498 TL\n",
      "5   Yenilenmiş iPhone 7 Plus 256 GB Jet Black Cep ...   7.399 TL\n",
      "6   Yenilenmiş iPhone 8 Plus 128 GB Gümüş Cep Tele...   8.899 TL\n",
      "7   Yenilenmiş iPhone XS 512 G Gümüş Cep Telefonu ...  18.199 TL\n",
      "8   Yenilenmiş iPhone 13 Pro Max 1 TB Altın Cep Te...  59.999 TL\n",
      "9   Yenilenmiş iPhone 7 Plus 256 GB Rose Gold Cep ...   6.959 TL\n",
      "10  Yenilenmiş iPhone 8 256 GB Gümüş Cep Telefonu ...   7.399 TL\n",
      "11  Yenilenmiş iPhone 11 Pro Max 512 GB Gümüş Cep ...  28.399 TL\n",
      "12  Yenilenmiş iPhone XS 512 GB Uzay Grisi Cep Tel...  18.199 TL\n",
      "13  Yenilenmiş iPhone 12 256 GB Siyah Cep Telefonu...  26.949 TL\n",
      "14  Yenilenmiş iPhone 7 Plus 256 GB Altın Cep Tele...   6.958 TL\n",
      "15  Yenilenmiş iPhone 7 256 GB Rose Gold Cep Telef...   4.579 TL\n",
      "16  Yenilenmiş iPhone 13 Pro Max 1 TB Gümüş Cep Te...  59.999 TL\n",
      "17  Yenilenmiş iPhone 12 Pro Max 256 GB Beyaz Cep ...  38.799 TL\n",
      "18  Yenilenmiş iPhone 11 Pro 256 GB Yeşil Cep Tele...  27.988 TL\n",
      "19  Yenilenmiş iPhone 12 Pro Max 512 GB Mavi Cep T...  44.599 TL\n"
     ]
    }
   ],
   "source": [
    "df = pd.DataFrame(excel)\n",
    "\n",
    "df.columns = [\"URUN_ADI\",\"FIYAT\"]\n",
    "print(df)\n",
    "\n",
    "df.to_excel(\"tkenosa-page-24.xlsx\")"
   ]
  },
  {
   "cell_type": "code",
   "execution_count": 53,
   "id": "4398a449",
   "metadata": {},
   "outputs": [
    {
     "name": "stdout",
     "output_type": "stream",
     "text": [
      "Yenilenmiş iPhone 11 Pro 512 GB Yeşil Cep Telefonu (1 Yıl Garantili) B Kalite : 29.909 TL\n",
      "Yenilenmiş iPhone 12 Pro 512 GB Altın Cep Telefonu (1 Yıl Garantili) : 45.999 TL\n",
      "Yenilenmiş iPhone 6S 32 GB Gümüş Cep Telefonu (1 Yıl Garantili) : 2.600 TL\n",
      "Yenilenmiş iPhone 7 128 GB Kırmızı Cep Telefonu (1 Yıl Garantili) : 4.798 TL\n",
      "Yenilenmiş iPhone 11 64 GB Kırmızı Cep Telefonu (1 Yıl Garantili) C Kalite : 15.999 TL\n",
      "Yenilenmiş iPhone 12 256 GB Mavi Cep Telefonu (1 Yıl Garantili) : 26.499 TL\n",
      "Yenilenmiş iPhone 13 Pro 512 GB Köknar Yeşili Cep Telefonu (1 Yıl Garantili) B Kalite : 52.999 TL\n",
      "Yenilenmiş iPhone 13 512 GB Kırmızı Cep Telefonu (1 Yıl Garantili) : 38.999 TL\n",
      "Yenilenmiş iPhone 8 Plus 256 GB Altın Cep Telefonu (1 Yıl Garantili) C Kalite : 9.699 TL\n",
      "Yenilenmiş iPhone 6S 32 GB Rose Gold Cep Telefonu (1 Yıl Garantili) : 2.600 TL\n",
      "Yenilenmiş iPhone 12 Pro 512 GB Gümüş Cep Telefonu (1 Yıl Garantili) B Kalite : 35.799 TL\n",
      "Yenilenmiş iPhone 12 256 GB Mor Cep Telefonu (1 Yıl Garantili) : 25.999 TL\n",
      "Yenilenmiş iPhone 11 64 GB Mor Cep Telefonu (1 Yıl Garantili) C Kalite : 15.865 TL\n",
      "Yenilenmiş iPhone 13 Pro 256 GB Köknar Yeşili Cep Telefonu (1 Yıl Garantili) : 47.999 TL\n",
      "Yenilenmiş iPhone 13 Mini 128 GB Kırmızı Cep Telefonu (1 Yıl Garantili) B Kalite : 23.999 TL\n",
      "Yenilenmiş iPhone 13 Pro Max 512 GB Grafit Cep Telefonu (1 Yıl Garantili) : 53.999 TL\n",
      "Yenilenmiş iPhone 6S 64 GB Rose Gold Cep Telefonu (1 Yıl Garantili) : 3.200 TL\n",
      "Yenilenmiş iPhone 6S 16 GB Rose Gold Cep Telefonu (1 Yıl Garantili) : 2.299 TL\n",
      "Yenilenmiş iPhone 6S 16 GB Altın Cep Telefonu (1 Yıl Garantili) : 2.299 TL\n",
      "Yenilenmiş iPhone 14 Plus 512 GB Mavi Cep Telefonu (1 Yıl Garantili) : 51.999 TL\n"
     ]
    }
   ],
   "source": [
    "#sayfa25\n",
    "\n",
    "import requests\n",
    "from bs4 import BeautifulSoup\n",
    "\n",
    "excel = []\n",
    "\n",
    "url = \"https://www.teknosa.com/apple-yenilenmis-cep-telefonu-bc-124001001?gclsrc=aw.ds&gad_source=1&gclid=EAIaIQobChMI_-K11ZubhAMVVT8GAB0orQdwEAAYASAAEgIun_D_BwE&page=24\"\n",
    "\n",
    "headers = {\n",
    "    \"User-Agent\": \"Mozilla/5.0 (Windows NT 10.0; Win64; x64) AppleWebKit/537.36 (KHTML, like Gecko) Chrome/121.0.0.0 Safari/537.36\"\n",
    "}\n",
    "\n",
    "html = requests.get(url, headers=headers).content\n",
    "soup = BeautifulSoup(html, \"html.parser\")\n",
    "\n",
    "liste = soup.find_all(\"div\", {\"class\": \"prd-inner\"})\n",
    "\n",
    "for div in liste:\n",
    "    product_name = div.h3.text.strip()  \n",
    "    price_span = div.find(\"div\", {\"class\": \"prd-prices\"}).find(\"span\", {\"class\": \"prc-last\"})\n",
    "    price = price_span.text.strip() if price_span else \"Fiyat bulunamadı\"  # Eğer fiyat bilgisi yoksa \"Fiyat bulunamadı\" yazdır\n",
    "    \n",
    "    excel.append([product_name, price])\n",
    "\n",
    "    print(product_name, \":\", price)"
   ]
  },
  {
   "cell_type": "code",
   "execution_count": 54,
   "id": "cf20ff87",
   "metadata": {},
   "outputs": [
    {
     "name": "stdout",
     "output_type": "stream",
     "text": [
      "                                             URUN_ADI      FIYAT\n",
      "0   Yenilenmiş iPhone 11 Pro 512 GB Yeşil Cep Tele...  29.909 TL\n",
      "1   Yenilenmiş iPhone 12 Pro 512 GB Altın Cep Tele...  45.999 TL\n",
      "2   Yenilenmiş iPhone 6S 32 GB Gümüş Cep Telefonu ...   2.600 TL\n",
      "3   Yenilenmiş iPhone 7 128 GB Kırmızı Cep Telefon...   4.798 TL\n",
      "4   Yenilenmiş iPhone 11 64 GB Kırmızı Cep Telefon...  15.999 TL\n",
      "5   Yenilenmiş iPhone 12 256 GB Mavi Cep Telefonu ...  26.499 TL\n",
      "6   Yenilenmiş iPhone 13 Pro 512 GB Köknar Yeşili ...  52.999 TL\n",
      "7   Yenilenmiş iPhone 13 512 GB Kırmızı Cep Telefo...  38.999 TL\n",
      "8   Yenilenmiş iPhone 8 Plus 256 GB Altın Cep Tele...   9.699 TL\n",
      "9   Yenilenmiş iPhone 6S 32 GB Rose Gold Cep Telef...   2.600 TL\n",
      "10  Yenilenmiş iPhone 12 Pro 512 GB Gümüş Cep Tele...  35.799 TL\n",
      "11  Yenilenmiş iPhone 12 256 GB Mor Cep Telefonu (...  25.999 TL\n",
      "12  Yenilenmiş iPhone 11 64 GB Mor Cep Telefonu (1...  15.865 TL\n",
      "13  Yenilenmiş iPhone 13 Pro 256 GB Köknar Yeşili ...  47.999 TL\n",
      "14  Yenilenmiş iPhone 13 Mini 128 GB Kırmızı Cep T...  23.999 TL\n",
      "15  Yenilenmiş iPhone 13 Pro Max 512 GB Grafit Cep...  53.999 TL\n",
      "16  Yenilenmiş iPhone 6S 64 GB Rose Gold Cep Telef...   3.200 TL\n",
      "17  Yenilenmiş iPhone 6S 16 GB Rose Gold Cep Telef...   2.299 TL\n",
      "18  Yenilenmiş iPhone 6S 16 GB Altın Cep Telefonu ...   2.299 TL\n",
      "19  Yenilenmiş iPhone 14 Plus 512 GB Mavi Cep Tele...  51.999 TL\n"
     ]
    }
   ],
   "source": [
    "df = pd.DataFrame(excel)\n",
    "\n",
    "df.columns = [\"URUN_ADI\",\"FIYAT\"]\n",
    "print(df)\n",
    "\n",
    "df.to_excel(\"tkenosa-page-25.xlsx\")"
   ]
  },
  {
   "cell_type": "code",
   "execution_count": 55,
   "id": "00f0ced4",
   "metadata": {},
   "outputs": [
    {
     "name": "stdout",
     "output_type": "stream",
     "text": [
      "Yenilenmiş iPhone 14 Plus 512 GB Mavi Cep Telefonu (1 Yıl Garantili) : 51.999 TL\n",
      "Yenilenmiş iPhone 11 Pro Max 512 GB Yeşil Cep Telefonu (1 Yıl Garantili) B Kalite : 28.399 TL\n",
      "Yenilenmiş iPhone 11 Pro 512 GB Gümüş Cep Telefonu (1 Yıl Garantili) B Kalite : 26.999 TL\n",
      "Yenilenmiş iPhone 13 Pro Max 1 TB Altın Cep Telefonu (1 Yıl Garantili) B Kalite : 55.879 TL\n",
      "Yenilenmiş iPhone 6S 16 GB Gümüş Cep Telefonu (1 Yıl Garantili) : 2.299 TL\n",
      "Yenilenmiş iPhone 13 Pro Max 1 TB Gümüş Cep Telefonu (1 Yıl Garantili) B Kalite : 55.879 TL\n",
      "Yenilenmiş iPhone 13 Pro Max 512 GB Köknar Yeşili Cep Telefonu (1 Yıl Garantili) B Kalite : 51.999 TL\n",
      "Yenilenmiş iPhone 7 Plus 128 GB Gümüş Cep Telefonu (1 Yıl Garantili) C Kalite : 5.717 TL\n",
      "Yenilenmiş Apple iPhone SE 3 64 GB Siyah Cep Telefonu (1 Yıl Garantili) B Kalite : 15.798 TL\n",
      "Yenilenmiş iPhone 12 64 GB Siyah Cep Telefonu (1 Yıl Garantili) C Kalite : 21.999 TL\n",
      "Yenilenmiş iPhone 7 Plus 128 GB Altın Cep Telefonu (1 Yıl Garantili) C Kalite : 5.717 TL\n",
      "Yenilenmiş iPhone 8 Plus 256 GB Beyaz Cep Telefonu (1 Yıl Garantili) C Kalite : 9.699 TL\n",
      "Yenilenmiş iPhone 8 Plus 256 GB Siyah Cep Telefonu (1 Yıl Garantili) C Kalite : 9.699 TL\n",
      "Yenilenmiş iPhone 11 64 GB Yeşil Cep Telefonu (1 Yıl Garantili) C Kalite : 15.865 TL\n",
      "Yenilenmiş iPhone XR 128 GB Siyah Cep Telefonu (1 Yıl Garantili) C Kalite : 13.499 TL\n",
      "Yenilenmiş iPhone SE 2020 64 GB Kırmızı Cep Telefonu (1 Yıl Garantili) C Kalite : 7.949 TL\n",
      "Yenilenmiş iPhone 12 128 GB Mavi Cep Telefonu (1 Yıl Garantili) C Kalite : 25.999 TL\n",
      "Yenilenmiş iPhone 11 64 GB Siyah Cep Telefonu (1 Yıl Garantili) C Kalite : 15.865 TL\n",
      "Yenilenmiş iPhone 8 Plus 64 GB Altın Cep Telefonu (1 Yıl Garantili) C Kalite : 7.969 TL\n",
      "Yenilenmiş iPhone 8 64 GB Gümüş Cep Telefonu (1 Yıl Garantili) C Kalite : 5.599 TL\n"
     ]
    }
   ],
   "source": [
    "#sayfa26\n",
    "\n",
    "import requests\n",
    "from bs4 import BeautifulSoup\n",
    "\n",
    "excel = []\n",
    "\n",
    "url = \"https://www.teknosa.com/apple-yenilenmis-cep-telefonu-bc-124001001?gclsrc=aw.ds&gad_source=1&gclid=EAIaIQobChMI_-K11ZubhAMVVT8GAB0orQdwEAAYASAAEgIun_D_BwE&page=25\"\n",
    "\n",
    "headers = {\n",
    "    \"User-Agent\": \"Mozilla/5.0 (Windows NT 10.0; Win64; x64) AppleWebKit/537.36 (KHTML, like Gecko) Chrome/121.0.0.0 Safari/537.36\"\n",
    "}\n",
    "\n",
    "html = requests.get(url, headers=headers).content\n",
    "soup = BeautifulSoup(html, \"html.parser\")\n",
    "\n",
    "liste = soup.find_all(\"div\", {\"class\": \"prd-inner\"})\n",
    "\n",
    "for div in liste:\n",
    "    product_name = div.h3.text.strip()  \n",
    "    price_span = div.find(\"div\", {\"class\": \"prd-prices\"}).find(\"span\", {\"class\": \"prc-last\"})\n",
    "    price = price_span.text.strip() if price_span else \"Fiyat bulunamadı\"  # Eğer fiyat bilgisi yoksa \"Fiyat bulunamadı\" yazdır\n",
    "    \n",
    "    excel.append([product_name, price])\n",
    "\n",
    "    print(product_name, \":\", price)"
   ]
  },
  {
   "cell_type": "code",
   "execution_count": 56,
   "id": "61647eeb",
   "metadata": {},
   "outputs": [
    {
     "name": "stdout",
     "output_type": "stream",
     "text": [
      "                                             URUN_ADI      FIYAT\n",
      "0   Yenilenmiş iPhone 14 Plus 512 GB Mavi Cep Tele...  51.999 TL\n",
      "1   Yenilenmiş iPhone 11 Pro Max 512 GB Yeşil Cep ...  28.399 TL\n",
      "2   Yenilenmiş iPhone 11 Pro 512 GB Gümüş Cep Tele...  26.999 TL\n",
      "3   Yenilenmiş iPhone 13 Pro Max 1 TB Altın Cep Te...  55.879 TL\n",
      "4   Yenilenmiş iPhone 6S 16 GB Gümüş Cep Telefonu ...   2.299 TL\n",
      "5   Yenilenmiş iPhone 13 Pro Max 1 TB Gümüş Cep Te...  55.879 TL\n",
      "6   Yenilenmiş iPhone 13 Pro Max 512 GB Köknar Yeş...  51.999 TL\n",
      "7   Yenilenmiş iPhone 7 Plus 128 GB Gümüş Cep Tele...   5.717 TL\n",
      "8   Yenilenmiş Apple iPhone SE 3 64 GB Siyah Cep T...  15.798 TL\n",
      "9   Yenilenmiş iPhone 12 64 GB Siyah Cep Telefonu ...  21.999 TL\n",
      "10  Yenilenmiş iPhone 7 Plus 128 GB Altın Cep Tele...   5.717 TL\n",
      "11  Yenilenmiş iPhone 8 Plus 256 GB Beyaz Cep Tele...   9.699 TL\n",
      "12  Yenilenmiş iPhone 8 Plus 256 GB Siyah Cep Tele...   9.699 TL\n",
      "13  Yenilenmiş iPhone 11 64 GB Yeşil Cep Telefonu ...  15.865 TL\n",
      "14  Yenilenmiş iPhone XR 128 GB Siyah Cep Telefonu...  13.499 TL\n",
      "15  Yenilenmiş iPhone SE 2020 64 GB Kırmızı Cep Te...   7.949 TL\n",
      "16  Yenilenmiş iPhone 12 128 GB Mavi Cep Telefonu ...  25.999 TL\n",
      "17  Yenilenmiş iPhone 11 64 GB Siyah Cep Telefonu ...  15.865 TL\n",
      "18  Yenilenmiş iPhone 8 Plus 64 GB Altın Cep Telef...   7.969 TL\n",
      "19  Yenilenmiş iPhone 8 64 GB Gümüş Cep Telefonu (...   5.599 TL\n"
     ]
    }
   ],
   "source": [
    "df = pd.DataFrame(excel)\n",
    "\n",
    "df.columns = [\"URUN_ADI\",\"FIYAT\"]\n",
    "print(df)\n",
    "\n",
    "df.to_excel(\"tkenosa-page-26.xlsx\")"
   ]
  },
  {
   "cell_type": "code",
   "execution_count": 57,
   "id": "aa899af5",
   "metadata": {},
   "outputs": [
    {
     "name": "stdout",
     "output_type": "stream",
     "text": [
      "Yenilenmiş iPhone 13 Pro 256 GB Köknar Yeşili Cep Telefonu (1 Yıl Garantili) B Kalite : 44.899 TL\n",
      "Yenilenmiş iPhone 7 Plus 32 GB Rose Gold Cep Telefonu (1 Yıl Garantili) C Kalite : 4.649 TL\n",
      "Yenilenmiş iPhone SE 2020 64 GB Beyaz Cep Telefonu (1 Yıl Garantili) C Kalite : 7.949 TL\n",
      "Yenilenmiş iPhone 13 Pro Max 1 TB Sierra Mavisi Cep Telefonu (1 Yıl Garantili) B Kalite : 53.999 TL\n",
      "Yenilenmiş iPhone XR 64 GB Siyah Cep Telefonu (1 Yıl Garantili) C Kalite : 11.858 TL\n",
      "Yenilenmiş iPhone XS 64 GB Altın Cep Telefonu (1 Yıl Garantili) C Kalite : 13.199 TL\n",
      "Yenilenmiş iPhone 12 64 GB Kırmızı Cep Telefonu (1 Yıl Garantili) C Kalite : 21.999 TL\n",
      "Yenilenmiş iPhone 7 256 GB Altın Cep Telefonu (1 Yıl Garantili) C Kalite : 4.299 TL\n",
      "Yenilenmiş iPhone XS 64 GB Uzay Grisi Cep Telefonu (1 Yıl Garantili) C Kalite : 13.199 TL\n",
      "Yenilenmiş iPhone 14 Plus 128 GB Yıldız Işığı Cep Telefonu (1 Yıl Garantili) B Kalite : 41.999 TL\n",
      "Yenilenmiş Apple iPhone SE 3 128 GB Siyah Cep Telefonu (1 Yıl Garantili) B Kalite : 20.999 TL\n",
      "Yenilenmiş iPhone 7 Plus 32 GB Gümüş Cep Telefonu (1 Yıl Garantili) C Kalite : 4.649 TL\n",
      "Yenilenmiş iPhone 7 Plus 256 GB Siyah Cep Telefonu (1 Yıl Garantili) C Kalite : 6.499 TL\n",
      "Yenilenmiş iPhone 8 256 GB Uzay Grisi Cep Telefonu (1 Yıl Garantili) C Kalite : 7.099 TL\n",
      "Yenilenmiş iPhone XR 64 GB Kırmızı Cep Telefonu (1 Yıl Garantili) C Kalite : 11.879 TL\n",
      "Yenilenmiş iPhone 11 64 GB Sarı Cep Telefonu (1 Yıl Garantili) C Kalite : 15.865 TL\n",
      "Yenilenmiş Apple iPhone SE 3 128 GB Beyaz Cep Telefonu (1 Yıl Garantili) B Kalite : 20.999 TL\n",
      "Yenilenmiş iPhone 7 256 GB Gümüş Cep Telefonu (1 Yıl Garantili) C Kalite : 4.299 TL\n",
      "Yenilenmiş iPhone 7 Plus 32 GB Altın Cep Telefonu (1 Yıl Garantili) C Kalite : 4.649 TL\n",
      "Yenilenmiş iPhone 7 Plus 256 GB Rose Gold Cep Telefonu (1 Yıl Garantili) C Kalite : 6.499 TL\n"
     ]
    }
   ],
   "source": [
    "#sayfa27\n",
    "\n",
    "import requests\n",
    "from bs4 import BeautifulSoup\n",
    "excel = []\n",
    "\n",
    "url = \"https://www.teknosa.com/apple-yenilenmis-cep-telefonu-bc-124001001?gclsrc=aw.ds&gad_source=1&gclid=EAIaIQobChMI_-K11ZubhAMVVT8GAB0orQdwEAAYASAAEgIun_D_BwE&page=26\"\n",
    "\n",
    "headers = {\n",
    "    \"User-Agent\": \"Mozilla/5.0 (Windows NT 10.0; Win64; x64) AppleWebKit/537.36 (KHTML, like Gecko) Chrome/121.0.0.0 Safari/537.36\"\n",
    "}\n",
    "\n",
    "html = requests.get(url, headers=headers).content\n",
    "soup = BeautifulSoup(html, \"html.parser\")\n",
    "\n",
    "liste = soup.find_all(\"div\", {\"class\": \"prd-inner\"})\n",
    "\n",
    "for div in liste:\n",
    "    product_name = div.h3.text.strip()  \n",
    "    price_span = div.find(\"div\", {\"class\": \"prd-prices\"}).find(\"span\", {\"class\": \"prc-last\"})\n",
    "    price = price_span.text.strip() if price_span else \"Fiyat bulunamadı\"  # Eğer fiyat bilgisi yoksa \"Fiyat bulunamadı\" yazdır\n",
    "    \n",
    "    excel.append([product_name, price])\n",
    "\n",
    "    print(product_name, \":\", price)"
   ]
  },
  {
   "cell_type": "code",
   "execution_count": 58,
   "id": "b58fbba3",
   "metadata": {},
   "outputs": [
    {
     "name": "stdout",
     "output_type": "stream",
     "text": [
      "                                             URUN_ADI      FIYAT\n",
      "0   Yenilenmiş iPhone 13 Pro 256 GB Köknar Yeşili ...  44.899 TL\n",
      "1   Yenilenmiş iPhone 7 Plus 32 GB Rose Gold Cep T...   4.649 TL\n",
      "2   Yenilenmiş iPhone SE 2020 64 GB Beyaz Cep Tele...   7.949 TL\n",
      "3   Yenilenmiş iPhone 13 Pro Max 1 TB Sierra Mavis...  53.999 TL\n",
      "4   Yenilenmiş iPhone XR 64 GB Siyah Cep Telefonu ...  11.858 TL\n",
      "5   Yenilenmiş iPhone XS 64 GB Altın Cep Telefonu ...  13.199 TL\n",
      "6   Yenilenmiş iPhone 12 64 GB Kırmızı Cep Telefon...  21.999 TL\n",
      "7   Yenilenmiş iPhone 7 256 GB Altın Cep Telefonu ...   4.299 TL\n",
      "8   Yenilenmiş iPhone XS 64 GB Uzay Grisi Cep Tele...  13.199 TL\n",
      "9   Yenilenmiş iPhone 14 Plus 128 GB Yıldız Işığı ...  41.999 TL\n",
      "10  Yenilenmiş Apple iPhone SE 3 128 GB Siyah Cep ...  20.999 TL\n",
      "11  Yenilenmiş iPhone 7 Plus 32 GB Gümüş Cep Telef...   4.649 TL\n",
      "12  Yenilenmiş iPhone 7 Plus 256 GB Siyah Cep Tele...   6.499 TL\n",
      "13  Yenilenmiş iPhone 8 256 GB Uzay Grisi Cep Tele...   7.099 TL\n",
      "14  Yenilenmiş iPhone XR 64 GB Kırmızı Cep Telefon...  11.879 TL\n",
      "15  Yenilenmiş iPhone 11 64 GB Sarı Cep Telefonu (...  15.865 TL\n",
      "16  Yenilenmiş Apple iPhone SE 3 128 GB Beyaz Cep ...  20.999 TL\n",
      "17  Yenilenmiş iPhone 7 256 GB Gümüş Cep Telefonu ...   4.299 TL\n",
      "18  Yenilenmiş iPhone 7 Plus 32 GB Altın Cep Telef...   4.649 TL\n",
      "19  Yenilenmiş iPhone 7 Plus 256 GB Rose Gold Cep ...   6.499 TL\n"
     ]
    }
   ],
   "source": [
    "df = pd.DataFrame(excel)\n",
    "\n",
    "df.columns = [\"URUN_ADI\",\"FIYAT\"]\n",
    "print(df)\n",
    "\n",
    "df.to_excel(\"tkenosa-page-27.xlsx\")"
   ]
  },
  {
   "cell_type": "code",
   "execution_count": 59,
   "id": "f693ce33",
   "metadata": {},
   "outputs": [
    {
     "name": "stdout",
     "output_type": "stream",
     "text": [
      "Yenilenmiş iPhone 7 Plus 256 GB Gümüş Cep Telefonu (1 Yıl Garantili) C Kalite : 6.499 TL\n",
      "Yenilenmiş iPhone 8 128 GB Altın Cep Telefonu (1 Yıl Garantili) C Kalite : 6.399 TL\n",
      "Yenilenmiş iPhone 12 128 GB Siyah Cep Telefonu (1 Yıl Garantili) C Kalite : 25.999 TL\n",
      "Yenilenmiş iPhone 14 Pro 256 GB Altın Cep Telefonu (1 Yıl Garantili) B Kalite : 58.999 TL\n",
      "Yenilenmiş iPhone 8 256 GB Altın Cep Telefonu (1 Yıl Garantili) C Kalite : 7.099 TL\n",
      "Yenilenmiş iPhone 7 256 GB Rose Gold Cep Telefonu (1 Yıl Garantili) C Kalite : 4.299 TL\n",
      "Yenilenmiş iPhone 7 Plus 256 GB Altın Cep Telefonu (1 Yıl Garantili) C Kalite : 6.499 TL\n",
      "Yenilenmiş iPhone XR 128 GB Kırmızı Cep Telefonu (1 Yıl Garantili) C Kalite : 13.499 TL\n",
      "Yenilenmiş iPhone 14 Pro Max 256 GB Uzay Siyahı Cep Telefonu (1 Yıl Garantili) : 69.999 TL\n",
      "Yenilenmiş iPhone 8 128 GB Gümüş Cep Telefonu (1 Yıl Garantili) C Kalite : 6.399 TL\n",
      "Yenilenmiş iPhone 8 256 GB Gümüş Cep Telefonu (1 Yıl Garantili) C Kalite : 7.099 TL\n",
      "Yenilenmiş iPhone 14 Plus 256 GB Mor Cep Telefonu (1 Yıl Garantili) B Kalite : 46.599 TL\n",
      "Yenilenmiş iPhone 11 128 GB Sarı Cep Telefonu (1 Yıl Garantili) C Kalite : 18.399 TL\n",
      "Yenilenmiş iPhone 14 128 GB Kırmızı Cep Telefonu (1 Yıl Garantili) B Kalite : 40.999 TL\n",
      "Yenilenmiş iPhone 11 128 GB Yeşil Cep Telefonu (1 Yıl Garantili) C Kalite : 18.399 TL\n",
      "Yenilenmiş iPhone 14 128 GB Mavi Cep Telefonu (1 Yıl Garantili) : 42.999 TL\n",
      "Yenilenmiş iPhone 14 Plus 256 GB Kırmızı Cep Telefonu (1 Yıl Garantili) B Kalite : 46.599 TL\n",
      "Yenilenmiş iPhone 14 256 GB Sarı Cep Telefonu (1 Yıl Garantili) B Kalite : 44.999 TL\n",
      "Yenilenmiş iPhone 14 128 GB Gece Yarısı Cep Telefonu (1 Yıl Garantili) : 42.999 TL\n",
      "Yenilenmiş iPhone 14 Plus 128 GB Yıldız Işığı Cep Telefonu (1 Yıl Garantili) : 39.999 TL\n"
     ]
    }
   ],
   "source": [
    "#sayfa28\n",
    "\n",
    "import requests\n",
    "from bs4 import BeautifulSoup\n",
    "excel = []\n",
    "\n",
    "url = \"https://www.teknosa.com/apple-yenilenmis-cep-telefonu-bc-124001001?gclsrc=aw.ds&gad_source=1&gclid=EAIaIQobChMI_-K11ZubhAMVVT8GAB0orQdwEAAYASAAEgIun_D_BwE&page=27\"\n",
    "\n",
    "headers = {\n",
    "    \"User-Agent\": \"Mozilla/5.0 (Windows NT 10.0; Win64; x64) AppleWebKit/537.36 (KHTML, like Gecko) Chrome/121.0.0.0 Safari/537.36\"\n",
    "}\n",
    "\n",
    "html = requests.get(url, headers=headers).content\n",
    "soup = BeautifulSoup(html, \"html.parser\")\n",
    "\n",
    "liste = soup.find_all(\"div\", {\"class\": \"prd-inner\"})\n",
    "\n",
    "for div in liste:\n",
    "    product_name = div.h3.text.strip()  \n",
    "    price_span = div.find(\"div\", {\"class\": \"prd-prices\"}).find(\"span\", {\"class\": \"prc-last\"})\n",
    "    price = price_span.text.strip() if price_span else \"Fiyat bulunamadı\"  # Eğer fiyat bilgisi yoksa \"Fiyat bulunamadı\" yazdır\n",
    "    \n",
    "    excel.append([product_name, price])\n",
    "\n",
    "    print(product_name, \":\", price)"
   ]
  },
  {
   "cell_type": "code",
   "execution_count": 60,
   "id": "1bd6f72f",
   "metadata": {},
   "outputs": [
    {
     "name": "stdout",
     "output_type": "stream",
     "text": [
      "                                             URUN_ADI      FIYAT\n",
      "0   Yenilenmiş iPhone 7 Plus 256 GB Gümüş Cep Tele...   6.499 TL\n",
      "1   Yenilenmiş iPhone 8 128 GB Altın Cep Telefonu ...   6.399 TL\n",
      "2   Yenilenmiş iPhone 12 128 GB Siyah Cep Telefonu...  25.999 TL\n",
      "3   Yenilenmiş iPhone 14 Pro 256 GB Altın Cep Tele...  58.999 TL\n",
      "4   Yenilenmiş iPhone 8 256 GB Altın Cep Telefonu ...   7.099 TL\n",
      "5   Yenilenmiş iPhone 7 256 GB Rose Gold Cep Telef...   4.299 TL\n",
      "6   Yenilenmiş iPhone 7 Plus 256 GB Altın Cep Tele...   6.499 TL\n",
      "7   Yenilenmiş iPhone XR 128 GB Kırmızı Cep Telefo...  13.499 TL\n",
      "8   Yenilenmiş iPhone 14 Pro Max 256 GB Uzay Siyah...  69.999 TL\n",
      "9   Yenilenmiş iPhone 8 128 GB Gümüş Cep Telefonu ...   6.399 TL\n",
      "10  Yenilenmiş iPhone 8 256 GB Gümüş Cep Telefonu ...   7.099 TL\n",
      "11  Yenilenmiş iPhone 14 Plus 256 GB Mor Cep Telef...  46.599 TL\n",
      "12  Yenilenmiş iPhone 11 128 GB Sarı Cep Telefonu ...  18.399 TL\n",
      "13  Yenilenmiş iPhone 14 128 GB Kırmızı Cep Telefo...  40.999 TL\n",
      "14  Yenilenmiş iPhone 11 128 GB Yeşil Cep Telefonu...  18.399 TL\n",
      "15  Yenilenmiş iPhone 14 128 GB Mavi Cep Telefonu ...  42.999 TL\n",
      "16  Yenilenmiş iPhone 14 Plus 256 GB Kırmızı Cep T...  46.599 TL\n",
      "17  Yenilenmiş iPhone 14 256 GB Sarı Cep Telefonu ...  44.999 TL\n",
      "18  Yenilenmiş iPhone 14 128 GB Gece Yarısı Cep Te...  42.999 TL\n",
      "19  Yenilenmiş iPhone 14 Plus 128 GB Yıldız Işığı ...  39.999 TL\n"
     ]
    }
   ],
   "source": [
    "df = pd.DataFrame(excel)\n",
    "\n",
    "df.columns = [\"URUN_ADI\",\"FIYAT\"]\n",
    "print(df)\n",
    "\n",
    "df.to_excel(\"tkenosa-page-28.xlsx\")"
   ]
  },
  {
   "cell_type": "code",
   "execution_count": 63,
   "id": "4ee59eb5",
   "metadata": {},
   "outputs": [
    {
     "name": "stdout",
     "output_type": "stream",
     "text": [
      "Yenilenmiş iPhone 14 128 GB Kırmızı Cep Telefonu (1 Yıl Garantili) : 42.999 TL\n",
      "Yenilenmiş iPhone 14 128 GB Yıldız Işığı  Cep Telefonu (1 Yıl Garantili) : 42.999 TL\n"
     ]
    }
   ],
   "source": [
    "#sayfa29\n",
    "\n",
    "import requests\n",
    "from bs4 import BeautifulSoup\n",
    "excel = []\n",
    "\n",
    "url = \"https://www.teknosa.com/apple-yenilenmis-cep-telefonu-bc-124001001?gclsrc=aw.ds&gad_source=1&gclid=EAIaIQobChMI_-K11ZubhAMVVT8GAB0orQdwEAAYASAAEgIun_D_BwE&page=28\"\n",
    "\n",
    "headers = {\n",
    "    \"User-Agent\": \"Mozilla/5.0 (Windows NT 10.0; Win64; x64) AppleWebKit/537.36 (KHTML, like Gecko) Chrome/121.0.0.0 Safari/537.36\"\n",
    "}\n",
    "\n",
    "html = requests.get(url, headers=headers).content\n",
    "soup = BeautifulSoup(html, \"html.parser\")\n",
    "\n",
    "liste = soup.find_all(\"div\", {\"class\": \"prd-inner\"})\n",
    "\n",
    "for div in liste:\n",
    "    product_name = div.h3.text.strip()  \n",
    "    price_span = div.find(\"div\", {\"class\": \"prd-prices\"}).find(\"span\", {\"class\": \"prc-last\"})\n",
    "    price = price_span.text.strip() if price_span else \"Fiyat bulunamadı\"  # Eğer fiyat bilgisi yoksa \"Fiyat bulunamadı\" yazdır\n",
    "    \n",
    "    excel.append([product_name, price])\n",
    "\n",
    "    print(product_name, \":\", price)"
   ]
  },
  {
   "cell_type": "code",
   "execution_count": 64,
   "id": "70d9f810",
   "metadata": {},
   "outputs": [
    {
     "name": "stdout",
     "output_type": "stream",
     "text": [
      "                                            URUN_ADI      FIYAT\n",
      "0  Yenilenmiş iPhone 14 128 GB Kırmızı Cep Telefo...  42.999 TL\n",
      "1  Yenilenmiş iPhone 14 128 GB Yıldız Işığı  Cep ...  42.999 TL\n"
     ]
    }
   ],
   "source": [
    "df = pd.DataFrame(excel)\n",
    "\n",
    "df.columns = [\"URUN_ADI\",\"FIYAT\"]\n",
    "print(df)\n",
    "\n",
    "df.to_excel(\"tkenosa-page-29.xlsx\")"
   ]
  },
  {
   "cell_type": "markdown",
   "id": "7a0bfb3b",
   "metadata": {},
   "source": [
    "### eski excel çevirme kodu"
   ]
  },
  {
   "cell_type": "code",
   "execution_count": 30,
   "id": "16d64bed",
   "metadata": {},
   "outputs": [],
   "source": [
    "\"\"\"# excel dosyası hali\n",
    "\n",
    "import pandas as pd\n",
    "\n",
    "# Çıktıları liste olarak saklayalım\n",
    "outputs = [\n",
    "     \"Yenilenmiş iPhone 8 256 GB Gümüş Cep Telefonu C Kalite (1 Yıl Garantili) : 7.099 TL\",\n",
    "    \"Yenilenmiş iPhone XS 64 GB Uzay Grisi Cep Telefonu C Kalite (1 Yıl Garantili) : 13.199 TL\",\n",
    "    \"Yenilenmiş iPhone 7 256 GB Rose Gold Cep Telefonu C Kalite (1 Yıl Garantili) : 4.299 TL\",\n",
    "    \"Yenilenmiş iPhone 7 256 GB Altın Cep Telefonu C Kalite (1 Yıl Garantili) : 4.299 TL\",\n",
    "    \"Yenilenmiş iPhone 7 256 GB Siyah Cep Telefonu C Kalite (1 Yıl Garantili) : 4.299 TL\",\n",
    "    \"Yenilenmiş iPhone 11 128 GB Sarı Cep Telefonu C Kalite (1 Yıl Garantili) : 18.479 TL\"\n",
    "]\n",
    "\n",
    "# Çıktıları parçalayarak sırasıyla model ve fiyat bilgilerini alalım\n",
    "models = []\n",
    "prices = []\n",
    "for output in outputs:\n",
    "    model, price = output.rsplit(\" : \", 1)\n",
    "    models.append(model)\n",
    "    prices.append(price)\n",
    "\n",
    "# Veri çerçevesini oluşturalım\n",
    "df = pd.DataFrame({\"Model\": models, \"Price\": prices})\n",
    "\n",
    "# Excel dosyasına yazalım\n",
    "df.to_excel(\"iphone_fiyatlari_tkns_page_27-12.02.2024.xlsx\", index=False)\n",
    "\"\"\""
   ]
  },
  {
   "cell_type": "markdown",
   "id": "ba3b1cd4",
   "metadata": {},
   "source": [
    "# ÜRÜN LİNKİ BULUNMASI"
   ]
  },
  {
   "cell_type": "code",
   "execution_count": 1,
   "id": "7739b994",
   "metadata": {},
   "outputs": [
    {
     "name": "stdout",
     "output_type": "stream",
     "text": [
      "https://www.teknosa.com/yenilenmis-iphone-xs-max-512-gb-altin-cep-telefonu-1-yil-garantili-kalite-p-790182892\n",
      "https://www.teknosa.com/yenilenmis-iphone-6s-32-gb-gumus-cep-telefonu-1-yil-garantili-kalite-p-790182893\n",
      "https://www.teknosa.com/yenilenmis-iphone-12-pro-max-128-gb-mavi-cep-telefonu-1-yil-garantili-b-kalite-p-790180672\n",
      "https://www.teknosa.com/yenilenmis-iphone-11-64-gb-beyaz-cep-telefonu-1-yil-garantili-p-790180109\n",
      "https://www.teknosa.com/yenilenmis-iphone-11-64-gb-siyah-cep-telefonu-1-yil-garantili-p-790180137\n",
      "https://www.teknosa.com/yenilenmis-iphone-11-128-gb-siyah-cep-telefonu-1-yil-garantili-p-790180152\n",
      "https://www.teknosa.com/yenilenmis-iphone-11-64-gb-mor-cep-telefonu-1-yil-garantili-p-790180146\n",
      "https://www.teknosa.com/yenilenmis-iphone-11-64-gb-kirmizi-cep-telefonu-1-yil-garantili-p-790180145\n",
      "https://www.teknosa.com/yenilenmis-iphone-11-pro-max-64-gb-uzay-grisi-cep-telefonu-1-yil-garantili-b-kalite-p-790180606\n",
      "https://www.teknosa.com/yenilenmis-iphone-11-64-gb-yesil-cep-telefonu-1-yil-garantili-p-790180124\n",
      "https://www.teknosa.com/yenilenmis-iphone-11-64-gb-sari-cep-telefonu-1-yil-garantili-p-790180119\n",
      "https://www.teknosa.com/yenilenmis-iphone-11-pro-64-gb-uzay-grisi-cep-telefonu-1-yil-garantili-b-kalite-p-790180567\n",
      "https://www.teknosa.com/yenilenmis-iphone-11-128-gb-beyaz-cep-telefonu-1-yil-garantili-b-kalite-p-790180536\n",
      "https://www.teknosa.com/yenilenmis-iphone-13-pro-128-gb-sierra-mavisi-cep-telefonu-1-yil-garantili-b-kalite-p-790181760\n",
      "https://www.teknosa.com/yenilenmis-iphone-13-128-gb-pembe-cep-telefonu-1-yil-garantili-b-kalite-p-790181719\n",
      "https://www.teknosa.com/yenilenmis-iphone-11-64-gb-yesil-cep-telefonu-1-yil-garantili-b-kalite-p-790180554\n",
      "https://www.teknosa.com/yenilenmis-iphone-x-64-gb-uzay-grisi-cep-telefonu-1-yil-garantili-p-790180107\n",
      "https://www.teknosa.com/yenilenmis-iphone-12-mini-64-gb-mavi-cep-telefonu-1-yil-garantili-b-kalite-p-790180588\n",
      "https://www.teknosa.com/yenilenmis-iphone-11-128-gb-siyah-cep-telefonu-1-yil-garantili-b-kalite-p-790180551\n",
      "https://www.teknosa.com/yenilenmis-iphone-x-64-gb-gumus-cep-telefonu-1-yil-garantili-b-kalite-p-790181011\n"
     ]
    }
   ],
   "source": [
    "from bs4 import BeautifulSoup\n",
    "import requests\n",
    "\n",
    "url = \"https://www.teknosa.com/apple-yenilenmis-cep-telefonu-bc-124001001?gclsrc=aw.ds&gad_source=1&gclid=EAIaIQobChMI5Iyl-4SbhAMVaWpBAh38jgYLEAAYASAAEgJMyPD_BwE&page=1\"\n",
    "\n",
    "headers = {\n",
    "    \"User-Agent\": \"Mozilla/5.0 (Windows NT 10.0; Win64; x64) AppleWebKit/537.36 (KHTML, like Gecko) Chrome/121.0.0.0 Safari/537.36\"\n",
    "}\n",
    "\n",
    "html = requests.get(url, headers=headers).content\n",
    "soup = BeautifulSoup(html, \"html.parser\")\n",
    "\n",
    "# Ürün linklerini bulmak için uygun sınıf veya etiketi belirleyin\n",
    "link_tags = soup.find_all(\"a\", class_=\"prd-link\")\n",
    "\n",
    "# Her bir link için href özniteliğini alın\n",
    "product_links = []\n",
    "for link_tag in link_tags:\n",
    "    link = link_tag.get(\"href\")\n",
    "    if link:\n",
    "        full_link = \"https://www.teknosa.com\" + link\n",
    "        product_links.append(full_link)\n",
    "\n",
    "# Ürün linklerini yazdırın\n",
    "for link in product_links:\n",
    "    print(link)\n"
   ]
  },
  {
   "cell_type": "code",
   "execution_count": 8,
   "id": "93976679",
   "metadata": {},
   "outputs": [
    {
     "name": "stdout",
     "output_type": "stream",
     "text": [
      "linkler alınamadı\n"
     ]
    }
   ],
   "source": [
    "a = 1\n",
    "try:\n",
    "    while a <= 4:\n",
    "        if url == 'https://www.teknosa.com/apple-yenilenmis-cep-telefonu-bc-124001001?gclsrc=aw.ds&gad_source=1&gclid=EAIaIQobChMI5Iyl-4SbhAMVaWpBAh38jgYLEAAYASAAEgJMyPD_BwE':\n",
    "            url = (f\"{url}+&page={a}\")\n",
    "            if url == (f\"{url}+&page={a}\"):\n",
    "                a += 1\n",
    "            print(url)\n",
    "except:\n",
    "    print(\"linkler alınamadı\")"
   ]
  },
  {
   "cell_type": "code",
   "execution_count": 9,
   "id": "0742ee8b",
   "metadata": {},
   "outputs": [
    {
     "data": {
      "text/plain": [
       "'https://www.teknosa.com/apple-yenilenmis-cep-telefonu-bc-124001001?gclsrc=aw.ds&gad_source=1&gclid=EAIaIQobChMI5Iyl-4SbhAMVaWpBAh38jgYLEAAYASAAEgJMyPD_BwE+&page=1'"
      ]
     },
     "execution_count": 9,
     "metadata": {},
     "output_type": "execute_result"
    }
   ],
   "source": [
    "url = 'https://www.teknosa.com/apple-yenilenmis-cep-telefonu-bc-124001001?gclsrc=aw.ds&gad_source=1&gclid=EAIaIQobChMI5Iyl-4SbhAMVaWpBAh38jgYLEAAYASAAEgJMyPD_BwE+&page='"
   ]
  },
  {
   "cell_type": "code",
   "execution_count": 16,
   "id": "3b4e0121",
   "metadata": {
    "scrolled": true
   },
   "outputs": [
    {
     "ename": "KeyboardInterrupt",
     "evalue": "",
     "output_type": "error",
     "traceback": [
      "\u001b[1;31m---------------------------------------------------------------------------\u001b[0m",
      "\u001b[1;31mKeyboardInterrupt\u001b[0m                         Traceback (most recent call last)",
      "Cell \u001b[1;32mIn[16], line 1\u001b[0m\n\u001b[1;32m----> 1\u001b[0m \u001b[38;5;28;01mwhile\u001b[39;00m a\u001b[38;5;241m<\u001b[39m\u001b[38;5;241m4\u001b[39m:\n\u001b[0;32m      2\u001b[0m     \u001b[38;5;28;01mif\u001b[39;00m url \u001b[38;5;241m==\u001b[39m \u001b[38;5;124m'\u001b[39m\u001b[38;5;124mhttps://www.teknosa.com/apple-yenilenmis-cep-telefonu-bc-124001001?gclsrc=aw.ds&gad_source=1&gclid=EAIaIQobChMI5Iyl-4SbhAMVaWpBAh38jgYLEAAYASAAEgJMyPD_BwE\u001b[39m\u001b[38;5;124m'\u001b[39m:\n\u001b[0;32m      3\u001b[0m         url \u001b[38;5;241m=\u001b[39m (\u001b[38;5;124mf\u001b[39m\u001b[38;5;124m\"\u001b[39m\u001b[38;5;132;01m{\u001b[39;00murl\u001b[38;5;132;01m}\u001b[39;00m\u001b[38;5;124m+&page=\u001b[39m\u001b[38;5;132;01m{\u001b[39;00ma\u001b[38;5;132;01m}\u001b[39;00m\u001b[38;5;124m\"\u001b[39m)\n",
      "\u001b[1;31mKeyboardInterrupt\u001b[0m: "
     ]
    }
   ],
   "source": [
    "url = 'https://www.teknosa.com/apple-yenilenmis-cep-telefonu-bc-124001001?gclsrc=aw.ds&gad_source=1&gclid=EAIaIQobChMI5Iyl-4SbhAMVaWpBAh38jgYLEAAYASAAEgJMyPD_BwE+&page='\n",
    "\n",
    "while a<4:\n",
    "    if url == 'https://www.teknosa.com/apple-yenilenmis-cep-telefonu-bc-124001001?gclsrc=aw.ds&gad_source=1&gclid=EAIaIQobChMI5Iyl-4SbhAMVaWpBAh38jgYLEAAYASAAEgJMyPD_BwE':\n",
    "        url = (f\"{url}+&page={a}\")\n",
    "\n",
    "        if url == (f\"{url}+&page={a}\"):\n",
    "            a = a+1\n",
    "            \n",
    "print(url)\n",
    "    "
   ]
  },
  {
   "cell_type": "code",
   "execution_count": null,
   "id": "7976c031",
   "metadata": {},
   "outputs": [],
   "source": []
  }
 ],
 "metadata": {
  "kernelspec": {
   "display_name": "Python 3 (ipykernel)",
   "language": "python",
   "name": "python3"
  },
  "language_info": {
   "codemirror_mode": {
    "name": "ipython",
    "version": 3
   },
   "file_extension": ".py",
   "mimetype": "text/x-python",
   "name": "python",
   "nbconvert_exporter": "python",
   "pygments_lexer": "ipython3",
   "version": "3.11.5"
  }
 },
 "nbformat": 4,
 "nbformat_minor": 5
}
