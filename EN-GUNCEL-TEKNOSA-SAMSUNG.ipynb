{
 "cells": [
  {
   "cell_type": "code",
   "execution_count": 1,
   "id": "301e1027",
   "metadata": {},
   "outputs": [],
   "source": [
    "import pandas as pd"
   ]
  },
  {
   "cell_type": "code",
   "execution_count": 2,
   "id": "4bd11e24",
   "metadata": {},
   "outputs": [
    {
     "name": "stdout",
     "output_type": "stream",
     "text": [
      "Yenilenmiş Samsung Galaxy A51 128 GB Siyah Cep Telefonu (1 Yıl Garantili) C Kalite : 5.650 TL\n",
      "Yenilenmiş Samsung Galaxy Note 20 Ultra 256 GB Bronz Cep Telefonu (1 Yıl Garantili) B Kalite : 21.299 TL\n",
      "Yenilenmiş Samsung Galaxy S21 Ultra 5G 128 GB Siyah Cep Telefonu (1 Yıl Garantili) B Kalite : 23.999 TL\n",
      "Yenilenmiş Samsung Galaxy A51 128 GB Siyah Cep Telefonu (1 Yıl Garantili) : 5.697 TL\n",
      "Yenilenmiş Samsung Galaxy Note 20 256 GB Gri Cep Telefonu (1 Yıl Garantili) B Kalite : 23.099 TL\n",
      "Yenilenmiş Samsung Galaxy Note 20 Ultra 256 GB Beyaz Cep Telefonu (1 Yıl Garantili) B Kalite : 21.099 TL\n",
      "Yenilenmiş Samsung Galaxy Note 20 Ultra 256 GB Siyah Cep Telefonu (1 Yıl Garantili) B Kalite : 21.299 TL\n",
      "Yenilenmiş Samsung Galaxy S21 5G 128 GB Beyaz Cep Telefonu (1 Yıl Garantili) B Kalite : 13.199 TL\n",
      "Yenilenmiş Samsung Galaxy Note 20 256 GB Bronz Cep Telefonu (1 Yıl Garantili) B Kalite : 16.999 TL\n",
      "Yenilenmiş Samsung Galaxy A71 128 GB Siyah Cep Telefonu (1 Yıl Garantili) B Kalite : 6.599 TL\n",
      "Yenilenmiş Samsung Galaxy A70 SM-A705FN 128 GB Siyah Cep Telefonu (1 Yıl Garantili) : 6.099 TL\n",
      "Yenilenmiş Samsung Galaxy Note 20 Ultra 256 GB Siyah Cep Telefonu (1 Yıl Garantili) : 23.999 TL\n",
      "Yenilenmiş Samsung Galaxy A71 128 GB Siyah Cep Telefonu (1 Yıl Garantili) : 7.137 TL\n",
      "Yenilenmiş Samsung Galaxy Note 10 256 GB Beyaz Cep Telefonu (1 Yıl Garantili) : 12.898 TL\n",
      "Yenilenmiş Samsung Galaxy S20 FE 128 GB Mavi Cep Telefonu (1 Yıl Garantili) B Kalite : 9.399 TL\n",
      "Yenilenmiş Samsung Galaxy S22 128 GB Yeşil Cep Telefonu (1 Yıl Garantili) B Kalite : 15.999 TL\n",
      "Yenilenmiş Samsung SM-N950F Note 8 64 GB Siyah Cep Telefonu (1 Yıl Garantili) : 6.989 TL\n",
      "Yenilenmiş Samsung Galaxy S21 FE 5G SM-G990e 128 GB Gri Cep Telefonu (1 Yıl Garantili) B Kalite : 11.599 TL\n",
      "Yenilenmiş Samsung Galaxy Note 20 256 GB Yeşil Cep Telefonu (1 Yıl Garantili) B Kalite : 16.599 TL\n",
      "Yenilenmiş Samsung A32 128 GB Mavi Cep Telefonu (1 Yıl Garantili) B Kalite : 5.829 TL\n"
     ]
    }
   ],
   "source": [
    "#sayfa1\n",
    "\n",
    "import requests\n",
    "from bs4 import BeautifulSoup\n",
    "\n",
    "excel = []\n",
    "\n",
    "url = \"https://www.teknosa.com/samsung-yenilenmis-cep-telefonu-bc-124001001\"\n",
    "\n",
    "headers = {\n",
    "    \"User-Agent\": \"Mozilla/5.0 (Windows NT 10.0; Win64; x64) AppleWebKit/537.36 (KHTML, like Gecko) Chrome/121.0.0.0 Safari/537.36\"\n",
    "}\n",
    "\n",
    "html = requests.get(url, headers=headers).content\n",
    "soup = BeautifulSoup(html, \"html.parser\")\n",
    "\n",
    "liste = soup.find_all(\"div\", {\"class\": \"prd-inner\"})\n",
    "\n",
    "for div in liste:\n",
    "    product_name = div.h3.text.strip()  \n",
    "    price_span = div.find(\"div\", {\"class\": \"prd-prices\"}).find(\"span\", {\"class\": \"prc-last\"})\n",
    "    price = price_span.text.strip() if price_span else \"Fiyat bulunamadı\"  # Eğer fiyat bilgisi yoksa \"Fiyat bulunamadı\" yazdır\n",
    "    \n",
    "    excel.append([product_name, price])\n",
    "\n",
    "    print(product_name, \":\", price)\n"
   ]
  },
  {
   "cell_type": "code",
   "execution_count": 3,
   "id": "58e2e356",
   "metadata": {},
   "outputs": [
    {
     "name": "stdout",
     "output_type": "stream",
     "text": [
      "                                             URUN_ADI      FIYAT\n",
      "0   Yenilenmiş Samsung Galaxy A51 128 GB Siyah Cep...   5.650 TL\n",
      "1   Yenilenmiş Samsung Galaxy Note 20 Ultra 256 GB...  21.299 TL\n",
      "2   Yenilenmiş Samsung Galaxy S21 Ultra 5G 128 GB ...  23.999 TL\n",
      "3   Yenilenmiş Samsung Galaxy A51 128 GB Siyah Cep...   5.697 TL\n",
      "4   Yenilenmiş Samsung Galaxy Note 20 256 GB Gri C...  23.099 TL\n",
      "5   Yenilenmiş Samsung Galaxy Note 20 Ultra 256 GB...  21.099 TL\n",
      "6   Yenilenmiş Samsung Galaxy Note 20 Ultra 256 GB...  21.299 TL\n",
      "7   Yenilenmiş Samsung Galaxy S21 5G 128 GB Beyaz ...  13.199 TL\n",
      "8   Yenilenmiş Samsung Galaxy Note 20 256 GB Bronz...  16.999 TL\n",
      "9   Yenilenmiş Samsung Galaxy A71 128 GB Siyah Cep...   6.599 TL\n",
      "10  Yenilenmiş Samsung Galaxy A70 SM-A705FN 128 GB...   6.099 TL\n",
      "11  Yenilenmiş Samsung Galaxy Note 20 Ultra 256 GB...  23.999 TL\n",
      "12  Yenilenmiş Samsung Galaxy A71 128 GB Siyah Cep...   7.137 TL\n",
      "13  Yenilenmiş Samsung Galaxy Note 10 256 GB Beyaz...  12.898 TL\n",
      "14  Yenilenmiş Samsung Galaxy S20 FE 128 GB Mavi C...   9.399 TL\n",
      "15  Yenilenmiş Samsung Galaxy S22 128 GB Yeşil Cep...  15.999 TL\n",
      "16  Yenilenmiş Samsung SM-N950F Note 8 64 GB Siyah...   6.989 TL\n",
      "17  Yenilenmiş Samsung Galaxy S21 FE 5G SM-G990e 1...  11.599 TL\n",
      "18  Yenilenmiş Samsung Galaxy Note 20 256 GB Yeşil...  16.599 TL\n",
      "19  Yenilenmiş Samsung A32 128 GB Mavi Cep Telefon...   5.829 TL\n"
     ]
    }
   ],
   "source": [
    "df = pd.DataFrame(excel)\n",
    "\n",
    "df.columns = [\"URUN_ADI\",\"FIYAT\"]\n",
    "print(df)\n",
    "\n",
    "df.to_excel(\"tkenosa-samsung-page-1.xlsx\")"
   ]
  },
  {
   "cell_type": "code",
   "execution_count": 4,
   "id": "b45e08e6",
   "metadata": {},
   "outputs": [
    {
     "name": "stdout",
     "output_type": "stream",
     "text": [
      "Yenilenmiş Samsung Galaxy S10 Plus 128 GB Siyah Cep Telefonu (1 Yıl Garantili) B Kalite : 8.799 TL\n",
      "Yenilenmiş Samsung Galaxy Z Fold 3 256 GB Siyah Cep Telefonu (1 Yıl Garantili) : 27.499 TL\n",
      "Yenilenmiş  Samsung Galaxy S21 FE 5G SM-G990E 128 GB Yeşil Cep Telefonu (1 Yıl Garantili) B Kalite : 11.899 TL\n",
      "Yenilenmiş Samsung A32 128 GB Beyaz Cep Telefonu (1 Yıl Garantili) : 6.448 TL\n",
      "Yenilenmiş Samsung Galaxy A52 128 GB Siyah Cep Telefonu (1 Yıl Garantili) : 8.139 TL\n",
      "Yenilenmiş Samsung Galaxy S21 5G 128 GB Gri Cep Telefonu (1 Yıl Garantili) B Kalite : 13.049 TL\n",
      "Yenilenmiş Samsung Galaxy Z Flip 4 128 GB Gri Cep Telefonu (1 Yıl Garantili) B Kalite : 20.989 TL\n",
      "Yenilenmiş Samsung Galaxy Note 20 Ultra 256 GB Bronz Cep Telefonu (1 Yıl Garantili) : 22.999 TL\n",
      "Yenilenmiş Samsung Galaxy Z Flip3 SM-F711B 128 GB 128 Gb Siyah Cep Telefonu (1 Yıl Garantili) B Kalite : 15.999 TL\n",
      "Yenilenmiş Samsung Galaxy A70 SM-A705FN 128 GB Siyah Cep Telefonu (1 Yıl Garantili) B Kalite : 5.599 TL\n",
      "Yenilenmiş Samsung Galaxy S22 Ultra 256 GB Siyah Cep Telefonu (1 Yıl Garantili) B Kalite : 34.899 TL\n",
      "Yenilenmiş Samsung Galaxy S20 Ultra 128 GB Siyah Cep Telefonu (1 Yıl Garantili) : 19.898 TL\n",
      "Yenilenmiş Samsung Galaxy S22 128 GB Siyah Cep Telefonu (1 Yıl Garantili) : 17.719 TL\n",
      "Yenilenmiş Samsung Galaxy A23 SM-A235F/DS 128 GB Beyaz Cep Telefonu (1 Yıl Garantili) B Kalite : 4.999 TL\n",
      "Yenilenmiş Samsung Galaxy S20 128 GB Gri Cep Telefonu (1 Yıl Garantili) : 11.939 TL\n",
      "Yenilenmiş Samsung Note 9 128 GB Siyah Cep Telefonu (1 Yıl Garantili) : 8.999 TL\n",
      "Yenilenmiş Samsung A32 128 GB Beyaz Cep Telefonu (1 Yıl Garantili) B Kalite : 5.829 TL\n",
      "Yenilenmiş Samsung A32 128 GB Mor Cep Telefonu (1 Yıl Garantili) : 6.449 TL\n",
      "Yenilenmiş Samsung Galaxy S20 FE 128 GB Mavi Cep Telefonu (1 Yıl Garantili) : 9.099 TL\n",
      "Yenilenmiş Samsung Galaxy A31 128 GB Siyah Cep Telefonu (1 Yıl Garantili) : 5.139 TL\n"
     ]
    }
   ],
   "source": [
    "#sayfa2\n",
    "\n",
    "import requests\n",
    "from bs4 import BeautifulSoup\n",
    "\n",
    "excel = []\n",
    "\n",
    "url = \"https://www.teknosa.com/samsung-yenilenmis-cep-telefonu-bc-124001001?page=1\"\n",
    "\n",
    "headers = {\n",
    "    \"User-Agent\": \"Mozilla/5.0 (Windows NT 10.0; Win64; x64) AppleWebKit/537.36 (KHTML, like Gecko) Chrome/121.0.0.0 Safari/537.36\"\n",
    "}\n",
    "\n",
    "html = requests.get(url, headers=headers).content\n",
    "soup = BeautifulSoup(html, \"html.parser\")\n",
    "\n",
    "liste = soup.find_all(\"div\", {\"class\": \"prd-inner\"})\n",
    "\n",
    "for div in liste:\n",
    "    product_name = div.h3.text.strip()  \n",
    "    price_span = div.find(\"div\", {\"class\": \"prd-prices\"}).find(\"span\", {\"class\": \"prc-last\"})\n",
    "    price = price_span.text.strip() if price_span else \"Fiyat bulunamadı\"  # Eğer fiyat bilgisi yoksa \"Fiyat bulunamadı\" yazdır\n",
    "    \n",
    "    excel.append([product_name, price])\n",
    "\n",
    "    print(product_name, \":\", price)\n"
   ]
  },
  {
   "cell_type": "code",
   "execution_count": 5,
   "id": "1179a9e8",
   "metadata": {},
   "outputs": [
    {
     "name": "stdout",
     "output_type": "stream",
     "text": [
      "                                             URUN_ADI      FIYAT\n",
      "0   Yenilenmiş Samsung Galaxy S10 Plus 128 GB Siya...   8.799 TL\n",
      "1   Yenilenmiş Samsung Galaxy Z Fold 3 256 GB Siya...  27.499 TL\n",
      "2   Yenilenmiş  Samsung Galaxy S21 FE 5G SM-G990E ...  11.899 TL\n",
      "3   Yenilenmiş Samsung A32 128 GB Beyaz Cep Telefo...   6.448 TL\n",
      "4   Yenilenmiş Samsung Galaxy A52 128 GB Siyah Cep...   8.139 TL\n",
      "5   Yenilenmiş Samsung Galaxy S21 5G 128 GB Gri Ce...  13.049 TL\n",
      "6   Yenilenmiş Samsung Galaxy Z Flip 4 128 GB Gri ...  20.989 TL\n",
      "7   Yenilenmiş Samsung Galaxy Note 20 Ultra 256 GB...  22.999 TL\n",
      "8   Yenilenmiş Samsung Galaxy Z Flip3 SM-F711B 128...  15.999 TL\n",
      "9   Yenilenmiş Samsung Galaxy A70 SM-A705FN 128 GB...   5.599 TL\n",
      "10  Yenilenmiş Samsung Galaxy S22 Ultra 256 GB Siy...  34.899 TL\n",
      "11  Yenilenmiş Samsung Galaxy S20 Ultra 128 GB Siy...  19.898 TL\n",
      "12  Yenilenmiş Samsung Galaxy S22 128 GB Siyah Cep...  17.719 TL\n",
      "13  Yenilenmiş Samsung Galaxy A23 SM-A235F/DS 128 ...   4.999 TL\n",
      "14  Yenilenmiş Samsung Galaxy S20 128 GB Gri Cep T...  11.939 TL\n",
      "15  Yenilenmiş Samsung Note 9 128 GB Siyah Cep Tel...   8.999 TL\n",
      "16  Yenilenmiş Samsung A32 128 GB Beyaz Cep Telefo...   5.829 TL\n",
      "17  Yenilenmiş Samsung A32 128 GB Mor Cep Telefonu...   6.449 TL\n",
      "18  Yenilenmiş Samsung Galaxy S20 FE 128 GB Mavi C...   9.099 TL\n",
      "19  Yenilenmiş Samsung Galaxy A31 128 GB Siyah Cep...   5.139 TL\n"
     ]
    }
   ],
   "source": [
    "df = pd.DataFrame(excel)\n",
    "\n",
    "df.columns = [\"URUN_ADI\",\"FIYAT\"]\n",
    "print(df)\n",
    "\n",
    "df.to_excel(\"tkenosa-samsung-page-2.xlsx\")"
   ]
  },
  {
   "cell_type": "code",
   "execution_count": 6,
   "id": "9615f64b",
   "metadata": {},
   "outputs": [
    {
     "name": "stdout",
     "output_type": "stream",
     "text": [
      "Yenilenmiş Samsung Galaxy Note 10 256 GB Gümüş Cep Telefonu (1 Yıl Garantili) : 12.898 TL\n",
      "Yenilenmiş Samsung Galaxy S22 128 GB Beyaz Cep Telefonu (1 Yıl Garantili) B Kalite : 15.899 TL\n",
      "Yenilenmiş Samsung SM-N950F Note 8 64 GB Gri Cep Telefonu (1 Yıl Garantili) B Kalite : 5.598 TL\n",
      "Yenilenmiş Samsung Galaxy A54 5G 128 GB Siyah Cep Telefonu (1 Yıl Garantili) B Kalite : 12.199 TL\n",
      "Yenilenmiş Samsung Galaxy S10 Plus 128 GB Yeşil Cep Telefonu (1 Yıl Garantili) B Kalite : 9.189 TL\n",
      "Yenilenmiş Samsung Galaxy S20 Ultra 128 GB Siyah Cep Telefonu (1 Yıl Garantili) B Kalite : 17.399 TL\n",
      "Yenilenmiş Samsung Galaxy A71 128 GB Mavi Cep Telefonu (1 Yıl Garantili) : 7.137 TL\n",
      "Yenilenmiş Samsung Galaxy S22 128 GB Siyah Cep Telefonu (1 Yıl Garantili) B Kalite : 15.979 TL\n",
      "Yenilenmiş Samsung Galaxy S20 Plus 128 GB Siyah Cep Telefonu (1 Yıl Garantili) B Kalite : 12.199 TL\n",
      "Yenilenmiş Samsung Galaxy Note 10 256 GB Siyah Cep Telefonu (1 Yıl Garantili) : 11.799 TL\n",
      "Yenilenmiş Samsung Galaxy S10E 128 GB Beyaz Cep Telefonu (1 Yıl Garantili) B Kalite : 6.997 TL\n",
      "Yenilenmiş Samsung Galaxy A51 128 GB Beyaz Cep Telefonu (1 Yıl Garantili) : 5.697 TL\n",
      "Yenilenmiş Samsung Galaxy Z Flip3 SM-F711B 128 GB Mor Cep Telefonu (1 Yıl Garantili) : 17.989 TL\n",
      "Yenilenmiş Samsung Galaxy A72 128 GB Siyah Cep Telefonu (1 Yıl Garantili) B Kalite : 9.139 TL\n",
      "Yenilenmiş Samsung Galaxy S22 128 GB Yeşil Cep Telefonu (1 Yıl Garantili) : 17.719 TL\n",
      "Yenilenmiş Samsung Galaxy A50 SM-A505F 64 GB Siyah Cep Telefonu (1 Yıl Garantili) : 4.299 TL\n",
      "Yenilenmiş Samsung Galaxy Note 20 256 GB Bronz Cep Telefonu (1 Yıl Garantili) : 17.949 TL\n",
      "Yenilenmiş Samsung Galaxy Z Flip3 5G 128 GB Bej Cep Telefonu (1 Yıl Garantili) : 17.989 TL\n",
      "Yenilenmiş Samsung Galaxy A72 128 GB Mor Cep Telefonu (1 Yıl Garantili) : 9.209 TL\n",
      "Yenilenmiş Samsung Galaxy S10 Plus 128 GB Beyaz Cep Telefonu (1 Yıl Garantili) B Kalite : 9.149 TL\n"
     ]
    }
   ],
   "source": [
    "#sayfa3\n",
    "\n",
    "import requests\n",
    "from bs4 import BeautifulSoup\n",
    "\n",
    "excel = []\n",
    "\n",
    "url = \"https://www.teknosa.com/samsung-yenilenmis-cep-telefonu-bc-124001001?page=2\"\n",
    "\n",
    "headers = {\n",
    "    \"User-Agent\": \"Mozilla/5.0 (Windows NT 10.0; Win64; x64) AppleWebKit/537.36 (KHTML, like Gecko) Chrome/121.0.0.0 Safari/537.36\"\n",
    "}\n",
    "\n",
    "html = requests.get(url, headers=headers).content\n",
    "soup = BeautifulSoup(html, \"html.parser\")\n",
    "\n",
    "liste = soup.find_all(\"div\", {\"class\": \"prd-inner\"})\n",
    "\n",
    "for div in liste:\n",
    "    product_name = div.h3.text.strip()  \n",
    "    price_span = div.find(\"div\", {\"class\": \"prd-prices\"}).find(\"span\", {\"class\": \"prc-last\"})\n",
    "    price = price_span.text.strip() if price_span else \"Fiyat bulunamadı\"  # Eğer fiyat bilgisi yoksa \"Fiyat bulunamadı\" yazdır\n",
    "    \n",
    "    excel.append([product_name, price])\n",
    "\n",
    "    print(product_name, \":\", price)"
   ]
  },
  {
   "cell_type": "code",
   "execution_count": 7,
   "id": "4ab5d0ce",
   "metadata": {},
   "outputs": [
    {
     "name": "stdout",
     "output_type": "stream",
     "text": [
      "                                             URUN_ADI      FIYAT\n",
      "0   Yenilenmiş Samsung Galaxy Note 10 256 GB Gümüş...  12.898 TL\n",
      "1   Yenilenmiş Samsung Galaxy S22 128 GB Beyaz Cep...  15.899 TL\n",
      "2   Yenilenmiş Samsung SM-N950F Note 8 64 GB Gri C...   5.598 TL\n",
      "3   Yenilenmiş Samsung Galaxy A54 5G 128 GB Siyah ...  12.199 TL\n",
      "4   Yenilenmiş Samsung Galaxy S10 Plus 128 GB Yeşi...   9.189 TL\n",
      "5   Yenilenmiş Samsung Galaxy S20 Ultra 128 GB Siy...  17.399 TL\n",
      "6   Yenilenmiş Samsung Galaxy A71 128 GB Mavi Cep ...   7.137 TL\n",
      "7   Yenilenmiş Samsung Galaxy S22 128 GB Siyah Cep...  15.979 TL\n",
      "8   Yenilenmiş Samsung Galaxy S20 Plus 128 GB Siya...  12.199 TL\n",
      "9   Yenilenmiş Samsung Galaxy Note 10 256 GB Siyah...  11.799 TL\n",
      "10  Yenilenmiş Samsung Galaxy S10E 128 GB Beyaz Ce...   6.997 TL\n",
      "11  Yenilenmiş Samsung Galaxy A51 128 GB Beyaz Cep...   5.697 TL\n",
      "12  Yenilenmiş Samsung Galaxy Z Flip3 SM-F711B 128...  17.989 TL\n",
      "13  Yenilenmiş Samsung Galaxy A72 128 GB Siyah Cep...   9.139 TL\n",
      "14  Yenilenmiş Samsung Galaxy S22 128 GB Yeşil Cep...  17.719 TL\n",
      "15  Yenilenmiş Samsung Galaxy A50 SM-A505F 64 GB S...   4.299 TL\n",
      "16  Yenilenmiş Samsung Galaxy Note 20 256 GB Bronz...  17.949 TL\n",
      "17  Yenilenmiş Samsung Galaxy Z Flip3 5G 128 GB Be...  17.989 TL\n",
      "18  Yenilenmiş Samsung Galaxy A72 128 GB Mor Cep T...   9.209 TL\n",
      "19  Yenilenmiş Samsung Galaxy S10 Plus 128 GB Beya...   9.149 TL\n"
     ]
    }
   ],
   "source": [
    "df = pd.DataFrame(excel)\n",
    "\n",
    "df.columns = [\"URUN_ADI\",\"FIYAT\"]\n",
    "print(df)\n",
    "\n",
    "df.to_excel(\"tkenosa-samsung-page-3.xlsx\")"
   ]
  },
  {
   "cell_type": "code",
   "execution_count": 8,
   "id": "6535b6d5",
   "metadata": {},
   "outputs": [
    {
     "name": "stdout",
     "output_type": "stream",
     "text": [
      "Yenilenmiş Samsung Galaxy Note 10 Lite 128 GB Gri Cep Telefonu (1 Yıl Garantili) B Kalite : 7.879 TL\n",
      "Yenilenmiş Samsung Galaxy A52 128 GB Siyah Cep Telefonu (1 Yıl Garantili) B Kalite : 7.399 TL\n",
      "Yenilenmiş Samsung SM-G965F S9 + Plus 64 GB Siyah Cep Telefonu (1 Yıl Garantili) : 6.999 TL\n",
      "Yenilenmiş Samsung Galaxy Note 20 256 GB Gri Cep Telefonu (1 Yıl Garantili) : 17.949 TL\n",
      "Yenilenmiş Samsung Galaxy S10 128 GB Beyaz Cep Telefonu (1 Yıl Garantili) B Kalite : 7.999 TL\n",
      "Yenilenmiş Samsung Galaxy S20 Plus 128 GB Siyah Cep Telefonu (1 Yıl Garantili) : 13.239 TL\n",
      "Yenilenmiş Samsung Galaxy A72 128 GB Mavi Cep Telefonu (1 Yıl Garantili) B Kalite : 9.139 TL\n",
      "Yenilenmiş Samsung A32 128 GB Mavi Cep Telefonu (1 Yıl Garantili) : 6.448 TL\n",
      "Yenilenmiş Samsung Galaxy A51 128 GB Siyah Cep Telefonu (1 Yıl Garantili) B Kalite : 5.398 TL\n",
      "Yenilenmiş Samsung Galaxy Note 10 Plus 256 GB Siyah Cep Telefonu (1 Yıl Garantili) : 16.799 TL\n",
      "Yenilenmiş Samsung Galaxy A12 64 GB Beyaz Cep Telefonu (1 Yıl Garantili) B Kalite : 3.799 TL\n",
      "Yenilenmiş Samsung Galaxy S21 FE 5G SM-G990e 128 GB Gri Cep Telefonu (1 Yıl Garantili) : 12.999 TL\n",
      "Yenilenmiş Samsung Galaxy A31 128 GB Mavi Cep Telefonu (1 Yıl Garantili) : 5.139 TL\n",
      "Yenilenmiş Samsung Galaxy A51 128 GB Pembe Cep Telefonu (1 Yıl Garantili) : 5.689 TL\n",
      "Yenilenmiş Samsung Z Fold 4 SM-F936B/DS 256 GB Siyah Cep Telefonu (1 Yıl Garantili) B Kalite : 32.999 TL\n",
      "Yenilenmiş Samsung SM-G965F S9 + Plus 128 GB Siyah Cep Telefonu (1 Yıl Garantili) : 7.999 TL\n",
      "Yenilenmiş Samsung Galaxy M31S 128 GB Mavi Cep Telefonu (1 Yıl Garantili) B Kalite : 6.199 TL\n",
      "Yenilenmiş Samsung Galaxy A50 SM-A505F 64 GB Siyah Cep Telefonu (1 Yıl Garantili) B Kalite : 4.099 TL\n",
      "Yenilenmiş Samsung A73 SM-A736B/DS 128 GB Beyaz Cep Telefonu (1 Yıl Garantili) B Kalite : 11.999 TL\n",
      "Yenilenmiş Samsung Galaxy S22 Ultra 512 GB Bordo Cep Telefonu (1 Yıl Garantili) B Kalite : 32.999 TL\n"
     ]
    }
   ],
   "source": [
    "#sayfa4\n",
    "\n",
    "import requests\n",
    "from bs4 import BeautifulSoup\n",
    "\n",
    "excel = []\n",
    "\n",
    "url = \"https://www.teknosa.com/samsung-yenilenmis-cep-telefonu-bc-124001001?page=3\"\n",
    "\n",
    "headers = {\n",
    "    \"User-Agent\": \"Mozilla/5.0 (Windows NT 10.0; Win64; x64) AppleWebKit/537.36 (KHTML, like Gecko) Chrome/121.0.0.0 Safari/537.36\"\n",
    "}\n",
    "\n",
    "html = requests.get(url, headers=headers).content\n",
    "soup = BeautifulSoup(html, \"html.parser\")\n",
    "\n",
    "liste = soup.find_all(\"div\", {\"class\": \"prd-inner\"})\n",
    "\n",
    "for div in liste:\n",
    "    product_name = div.h3.text.strip()  \n",
    "    price_span = div.find(\"div\", {\"class\": \"prd-prices\"}).find(\"span\", {\"class\": \"prc-last\"})\n",
    "    price = price_span.text.strip() if price_span else \"Fiyat bulunamadı\"  # Eğer fiyat bilgisi yoksa \"Fiyat bulunamadı\" yazdır\n",
    "    \n",
    "    excel.append([product_name, price])\n",
    "\n",
    "    print(product_name, \":\", price)"
   ]
  },
  {
   "cell_type": "code",
   "execution_count": 9,
   "id": "8790f3bd",
   "metadata": {},
   "outputs": [
    {
     "name": "stdout",
     "output_type": "stream",
     "text": [
      "                                             URUN_ADI      FIYAT\n",
      "0   Yenilenmiş Samsung Galaxy Note 10 Lite 128 GB ...   7.879 TL\n",
      "1   Yenilenmiş Samsung Galaxy A52 128 GB Siyah Cep...   7.399 TL\n",
      "2   Yenilenmiş Samsung SM-G965F S9 + Plus 64 GB Si...   6.999 TL\n",
      "3   Yenilenmiş Samsung Galaxy Note 20 256 GB Gri C...  17.949 TL\n",
      "4   Yenilenmiş Samsung Galaxy S10 128 GB Beyaz Cep...   7.999 TL\n",
      "5   Yenilenmiş Samsung Galaxy S20 Plus 128 GB Siya...  13.239 TL\n",
      "6   Yenilenmiş Samsung Galaxy A72 128 GB Mavi Cep ...   9.139 TL\n",
      "7   Yenilenmiş Samsung A32 128 GB Mavi Cep Telefon...   6.448 TL\n",
      "8   Yenilenmiş Samsung Galaxy A51 128 GB Siyah Cep...   5.398 TL\n",
      "9   Yenilenmiş Samsung Galaxy Note 10 Plus 256 GB ...  16.799 TL\n",
      "10  Yenilenmiş Samsung Galaxy A12 64 GB Beyaz Cep ...   3.799 TL\n",
      "11  Yenilenmiş Samsung Galaxy S21 FE 5G SM-G990e 1...  12.999 TL\n",
      "12  Yenilenmiş Samsung Galaxy A31 128 GB Mavi Cep ...   5.139 TL\n",
      "13  Yenilenmiş Samsung Galaxy A51 128 GB Pembe Cep...   5.689 TL\n",
      "14  Yenilenmiş Samsung Z Fold 4 SM-F936B/DS 256 GB...  32.999 TL\n",
      "15  Yenilenmiş Samsung SM-G965F S9 + Plus 128 GB S...   7.999 TL\n",
      "16  Yenilenmiş Samsung Galaxy M31S 128 GB Mavi Cep...   6.199 TL\n",
      "17  Yenilenmiş Samsung Galaxy A50 SM-A505F 64 GB S...   4.099 TL\n",
      "18  Yenilenmiş Samsung A73 SM-A736B/DS 128 GB Beya...  11.999 TL\n",
      "19  Yenilenmiş Samsung Galaxy S22 Ultra 512 GB Bor...  32.999 TL\n"
     ]
    }
   ],
   "source": [
    "df = pd.DataFrame(excel)\n",
    "\n",
    "df.columns = [\"URUN_ADI\",\"FIYAT\"]\n",
    "print(df)\n",
    "\n",
    "df.to_excel(\"tkenosa-samsung-page-4.xlsx\")"
   ]
  },
  {
   "cell_type": "code",
   "execution_count": 10,
   "id": "accf3d1c",
   "metadata": {},
   "outputs": [
    {
     "name": "stdout",
     "output_type": "stream",
     "text": [
      "Yenilenmiş Samsung Galaxy A31 128 GB Mavi Cep Telefonu (1 Yıl Garantili) B Kalite : 4.919 TL\n",
      "Yenilenmiş Samsung Galaxy Note 10 Plus 256 GB Siyah Cep Telefonu (1 Yıl Garantili) B Kalite : 14.300 TL\n",
      "Yenilenmiş Samsung Galaxy S22 Ultra 512 GB Siyah Cep Telefonu (1 Yıl Garantili) B Kalite : 32.999 TL\n",
      "Yenilenmiş Samsung Galaxy S21 FE 5G 128 GB Beyaz Cep Telefonu (1 Yıl Garantili) B Kalite : 11.920 TL\n",
      "Yenilenmiş Samsung Galaxy A53 5G 128 GB Mavi Cep Telefonu (1 Yıl Garantili) B Kalite : 8.599 TL\n",
      "Yenilenmiş Samsung Galaxy S10 128 GB Siyah Cep Telefonu (1 Yıl Garantili) B Kalite : 7.800 TL\n",
      "Yenilenmiş Samsung Galaxy A71 128 GB Mavi Cep Telefonu (1 Yıl Garantili) B Kalite : 6.599 TL\n",
      "Yenilenmiş Samsung Galaxy S21 5G 128 GB Gri Cep Telefonu (1 Yıl Garantili) : 14.199 TL\n",
      "Yenilenmiş Samsung Galaxy A72 128 GB Mavi Cep Telefonu (1 Yıl Garantili) : 9.209 TL\n",
      "Yenilenmiş Samsung Galaxy A30 SM-A305F 64 GB Siyah Cep Telefonu (1 Yıl Garantili) : 4.199 TL\n",
      "Yenilenmiş Samsung A53 5G SM-A536E/DS 128 GB Siyah Cep Telefonu (1 Yıl Garantili) B Kalite : 8.599 TL\n",
      "Yenilenmiş Samsung SM-M315F M31 128 GB Siyah Cep Telefonu (1 Yıl Garantili) : 7.148 TL\n",
      "Yenilenmiş Samsung Galaxy A51 128 GB Beyaz Cep Telefonu (1 Yıl Garantili) B Kalite : 5.398 TL\n",
      "Yenilenmiş Samsung Galaxy A30S SM-A307FN/DS 64 GB Siyah Cep Telefonu (1 Yıl Garantili) : 4.239 TL\n",
      "Yenilenmiş Samsung Galaxy S20 FE 128 GB Mor Cep Telefonu (1 Yıl Garantili) B Kalite : 9.399 TL\n",
      "Yenilenmiş Samsung SM-A325F A32 128 GB Siyah Cep Telefonu (1 Yıl Garantili) B Kalite : 5.599 TL\n",
      "Yenilenmiş Samsung Galaxy S21 5G 128 GB Mor Cep Telefonu (1 Yıl Garantili) B Kalite : 13.099 TL\n",
      "Yenilenmiş Samsung Galaxy A30S SM-A307FN/DS 64 GB Siyah Cep Telefonu (1 Yıl Garantili) B Kalite : 3.999 TL\n",
      "Yenilenmiş  Samsung Galaxy S21 FE 5G SM-G990E 128 GB Yeşil Cep Telefonu (1 Yıl Garantili) : 12.599 TL\n",
      "Yenilenmiş Samsung Galaxy A23 SM-A235F/DS 128 GB Siyah Cep Telefonu (1 Yıl Garantili) B Kalite : 4.998 TL\n"
     ]
    }
   ],
   "source": [
    "#sayfa5\n",
    "\n",
    "import requests\n",
    "from bs4 import BeautifulSoup\n",
    "\n",
    "excel = []\n",
    "\n",
    "url = \"https://www.teknosa.com/samsung-yenilenmis-cep-telefonu-bc-124001001?page=4\"\n",
    "\n",
    "headers = {\n",
    "    \"User-Agent\": \"Mozilla/5.0 (Windows NT 10.0; Win64; x64) AppleWebKit/537.36 (KHTML, like Gecko) Chrome/121.0.0.0 Safari/537.36\"\n",
    "}\n",
    "\n",
    "html = requests.get(url, headers=headers).content\n",
    "soup = BeautifulSoup(html, \"html.parser\")\n",
    "\n",
    "liste = soup.find_all(\"div\", {\"class\": \"prd-inner\"})\n",
    "\n",
    "for div in liste:\n",
    "    product_name = div.h3.text.strip()  \n",
    "    price_span = div.find(\"div\", {\"class\": \"prd-prices\"}).find(\"span\", {\"class\": \"prc-last\"})\n",
    "    price = price_span.text.strip() if price_span else \"Fiyat bulunamadı\"  # Eğer fiyat bilgisi yoksa \"Fiyat bulunamadı\" yazdır\n",
    "    \n",
    "    excel.append([product_name, price])\n",
    "\n",
    "    print(product_name, \":\", price)"
   ]
  },
  {
   "cell_type": "code",
   "execution_count": 11,
   "id": "e1af2e8d",
   "metadata": {},
   "outputs": [
    {
     "name": "stdout",
     "output_type": "stream",
     "text": [
      "                                             URUN_ADI      FIYAT\n",
      "0   Yenilenmiş Samsung Galaxy A31 128 GB Mavi Cep ...   4.919 TL\n",
      "1   Yenilenmiş Samsung Galaxy Note 10 Plus 256 GB ...  14.300 TL\n",
      "2   Yenilenmiş Samsung Galaxy S22 Ultra 512 GB Siy...  32.999 TL\n",
      "3   Yenilenmiş Samsung Galaxy S21 FE 5G 128 GB Bey...  11.920 TL\n",
      "4   Yenilenmiş Samsung Galaxy A53 5G 128 GB Mavi C...   8.599 TL\n",
      "5   Yenilenmiş Samsung Galaxy S10 128 GB Siyah Cep...   7.800 TL\n",
      "6   Yenilenmiş Samsung Galaxy A71 128 GB Mavi Cep ...   6.599 TL\n",
      "7   Yenilenmiş Samsung Galaxy S21 5G 128 GB Gri Ce...  14.199 TL\n",
      "8   Yenilenmiş Samsung Galaxy A72 128 GB Mavi Cep ...   9.209 TL\n",
      "9   Yenilenmiş Samsung Galaxy A30 SM-A305F 64 GB S...   4.199 TL\n",
      "10  Yenilenmiş Samsung A53 5G SM-A536E/DS 128 GB S...   8.599 TL\n",
      "11  Yenilenmiş Samsung SM-M315F M31 128 GB Siyah C...   7.148 TL\n",
      "12  Yenilenmiş Samsung Galaxy A51 128 GB Beyaz Cep...   5.398 TL\n",
      "13  Yenilenmiş Samsung Galaxy A30S SM-A307FN/DS 64...   4.239 TL\n",
      "14  Yenilenmiş Samsung Galaxy S20 FE 128 GB Mor Ce...   9.399 TL\n",
      "15  Yenilenmiş Samsung SM-A325F A32 128 GB Siyah C...   5.599 TL\n",
      "16  Yenilenmiş Samsung Galaxy S21 5G 128 GB Mor Ce...  13.099 TL\n",
      "17  Yenilenmiş Samsung Galaxy A30S SM-A307FN/DS 64...   3.999 TL\n",
      "18  Yenilenmiş  Samsung Galaxy S21 FE 5G SM-G990E ...  12.599 TL\n",
      "19  Yenilenmiş Samsung Galaxy A23 SM-A235F/DS 128 ...   4.998 TL\n"
     ]
    }
   ],
   "source": [
    "df = pd.DataFrame(excel)\n",
    "\n",
    "df.columns = [\"URUN_ADI\",\"FIYAT\"]\n",
    "print(df)\n",
    "\n",
    "df.to_excel(\"tkenosa-samsung-page-5.xlsx\")"
   ]
  },
  {
   "cell_type": "code",
   "execution_count": 12,
   "id": "ef432f4b",
   "metadata": {},
   "outputs": [
    {
     "name": "stdout",
     "output_type": "stream",
     "text": [
      "Yenilenmiş Samsung Galaxy Note 10 Lite 128 GB Siyah Cep Telefonu (1 Yıl Garantili) B Kalite : 7.879 TL\n",
      "Yenilenmiş Samsung Galaxy S21 FE 5G SM-G990E 128 GB Mor Cep Telefonu (1 Yıl Garantili) B Kalite : 11.899 TL\n",
      "Yenilenmiş Samsung Galaxy A52 128 GB Mavi Cep Telefonu (1 Yıl Garantili) : 8.149 TL\n",
      "Yenilenmiş Samsung Galaxy A53 5G 128 GB Turuncu Cep Telefonu (1 Yıl Garantili) B Kalite : 8.599 TL\n",
      "Yenilenmiş Samsung Galaxy S10 Lite 128 GB Siyah Cep Telefonu (1 Yıl Garantili) : 8.048 TL\n",
      "Yenilenmiş Samsung SM-G960F S9 64 GB Mor Cep Telefonu (1 Yıl Garantili) : 6.999 TL\n",
      "Yenilenmiş Samsung SM-A217F A21S 128 GB Siyah Cep Telefonu (1 Yıl Garantili) : 4.999 TL\n",
      "Yenilenmiş Samsung Galaxy A52 128 GB Mavi Cep Telefonu (1 Yıl Garantili) B Kalite : 7.299 TL\n",
      "Yenilenmiş Samsung Galaxy Note 10 Plus 256 GB Beyaz Cep Telefonu (1 Yıl Garantili) : 16.799 TL\n",
      "Yenilenmiş Samsung Galaxy Z Flip3 SM-F711B 128 GB Siyah Cep Telefonu (1 Yıl Garantili) : 16.599 TL\n",
      "Yenilenmiş Samsung Galaxy A33 5G SM-A336E/DS 128 GB Siyah Cep Telefonu (1 Yıl Garantili) : 7.429 TL\n",
      "Yenilenmiş Samsung Galaxy A70 SM-A705FN 128 GB Mercan Cep Telefonu (1 Yıl Garantili) : 6.099 TL\n",
      "Yenilenmiş Samsung Galaxy S20 Plus 128 GB Mavi Cep Telefonu (1 Yıl Garantili) : 13.239 TL\n",
      "Yenilenmiş Samsung Galaxy Z Fold2 256 GB Siyah Cep Telefonu (1 Yıl Garantili) : 23.999 TL\n",
      "Yenilenmiş Samsung Note 9 128 GB Siyah Cep Telefonu (1 Yıl Garantili) B Kalite : 7.519 TL\n",
      "Yenilenmiş Samsung Galaxy S10E 128 GB Beyaz Cep Telefonu (1 Yıl Garantili) : 7.599 TL\n",
      "Yenilenmiş Samsung Galaxy S21 Ultra 5G 128 GB Gümüş Cep Telefonu (1 Yıl Garantili) : 23.599 TL\n",
      "Yenilenmiş Samsung Galaxy A51 128 GB Pembe Cep Telefonu (1 Yıl Garantili) B Kalite : 5.299 TL\n",
      "Yenilenmiş Samsung Galaxy A02 32 GB Mavi Cep Telefonu (1 Yıl Garantili) B Kalite : 2.999 TL\n",
      "Yenilenmiş Samsung Galaxy S9 SM-G960F Tek Hat 64 GB Siyah Cep Telefonu (1 Yıl Garantili) B Kalite : 6.199 TL\n"
     ]
    }
   ],
   "source": [
    "#sayfa6\n",
    "\n",
    "import requests\n",
    "from bs4 import BeautifulSoup\n",
    "\n",
    "excel = []\n",
    "\n",
    "url = \"https://www.teknosa.com/samsung-yenilenmis-cep-telefonu-bc-124001001?page=5\"\n",
    "\n",
    "headers = {\n",
    "    \"User-Agent\": \"Mozilla/5.0 (Windows NT 10.0; Win64; x64) AppleWebKit/537.36 (KHTML, like Gecko) Chrome/121.0.0.0 Safari/537.36\"\n",
    "}\n",
    "\n",
    "html = requests.get(url, headers=headers).content\n",
    "soup = BeautifulSoup(html, \"html.parser\")\n",
    "\n",
    "liste = soup.find_all(\"div\", {\"class\": \"prd-inner\"})\n",
    "\n",
    "for div in liste:\n",
    "    product_name = div.h3.text.strip()  \n",
    "    price_span = div.find(\"div\", {\"class\": \"prd-prices\"}).find(\"span\", {\"class\": \"prc-last\"})\n",
    "    price = price_span.text.strip() if price_span else \"Fiyat bulunamadı\"  # Eğer fiyat bilgisi yoksa \"Fiyat bulunamadı\" yazdır\n",
    "    \n",
    "    excel.append([product_name, price])\n",
    "\n",
    "    print(product_name, \":\", price)"
   ]
  },
  {
   "cell_type": "code",
   "execution_count": 13,
   "id": "3472c109",
   "metadata": {},
   "outputs": [
    {
     "name": "stdout",
     "output_type": "stream",
     "text": [
      "                                             URUN_ADI      FIYAT\n",
      "0   Yenilenmiş Samsung Galaxy Note 10 Lite 128 GB ...   7.879 TL\n",
      "1   Yenilenmiş Samsung Galaxy S21 FE 5G SM-G990E 1...  11.899 TL\n",
      "2   Yenilenmiş Samsung Galaxy A52 128 GB Mavi Cep ...   8.149 TL\n",
      "3   Yenilenmiş Samsung Galaxy A53 5G 128 GB Turunc...   8.599 TL\n",
      "4   Yenilenmiş Samsung Galaxy S10 Lite 128 GB Siya...   8.048 TL\n",
      "5   Yenilenmiş Samsung SM-G960F S9 64 GB Mor Cep T...   6.999 TL\n",
      "6   Yenilenmiş Samsung SM-A217F A21S 128 GB Siyah ...   4.999 TL\n",
      "7   Yenilenmiş Samsung Galaxy A52 128 GB Mavi Cep ...   7.299 TL\n",
      "8   Yenilenmiş Samsung Galaxy Note 10 Plus 256 GB ...  16.799 TL\n",
      "9   Yenilenmiş Samsung Galaxy Z Flip3 SM-F711B 128...  16.599 TL\n",
      "10  Yenilenmiş Samsung Galaxy A33 5G SM-A336E/DS 1...   7.429 TL\n",
      "11  Yenilenmiş Samsung Galaxy A70 SM-A705FN 128 GB...   6.099 TL\n",
      "12  Yenilenmiş Samsung Galaxy S20 Plus 128 GB Mavi...  13.239 TL\n",
      "13  Yenilenmiş Samsung Galaxy Z Fold2 256 GB Siyah...  23.999 TL\n",
      "14  Yenilenmiş Samsung Note 9 128 GB Siyah Cep Tel...   7.519 TL\n",
      "15  Yenilenmiş Samsung Galaxy S10E 128 GB Beyaz Ce...   7.599 TL\n",
      "16  Yenilenmiş Samsung Galaxy S21 Ultra 5G 128 GB ...  23.599 TL\n",
      "17  Yenilenmiş Samsung Galaxy A51 128 GB Pembe Cep...   5.299 TL\n",
      "18  Yenilenmiş Samsung Galaxy A02 32 GB Mavi Cep T...   2.999 TL\n",
      "19  Yenilenmiş Samsung Galaxy S9 SM-G960F Tek Hat ...   6.199 TL\n"
     ]
    }
   ],
   "source": [
    "df = pd.DataFrame(excel)\n",
    "\n",
    "df.columns = [\"URUN_ADI\",\"FIYAT\"]\n",
    "print(df)\n",
    "\n",
    "df.to_excel(\"tkenosa-samsung-page-6.xlsx\")"
   ]
  },
  {
   "cell_type": "code",
   "execution_count": 14,
   "id": "cb26ae8d",
   "metadata": {},
   "outputs": [
    {
     "name": "stdout",
     "output_type": "stream",
     "text": [
      "Yenilenmiş Samsung Galaxy S21 Plus 5G 256 GB Siyah Cep Telefonu (1 Yıl Garantili) B Kalite : 18.499 TL\n",
      "Yenilenmiş Samsung SM-A115F A11 32 GB Mavi Cep Telefonu (1 Yıl Garantili) B Kalite : 2.899 TL\n",
      "Yenilenmiş Samsung SM-N950F Note 8 64 GB Gri Cep Telefonu (1 Yıl Garantili) : 6.989 TL\n",
      "Yenilenmiş Samsung Galaxy A30S SM-A307FN/DS 64 GB Yeşil Cep Telefonu (1 Yıl Garantili) : 4.239 TL\n",
      "Yenilenmiş Samsung Galaxy A12 128 GB Mavi Cep Telefonu (1 Yıl Garantili) : 4.799 TL\n",
      "Yenilenmiş Samsung Galaxy S20 Ultra 128 GB Gri Cep Telefonu (1 Yıl Garantili) B Kalite : 17.399 TL\n",
      "Yenilenmiş Samsung Galaxy S10 Lite 128 GB Siyah Cep Telefonu (1 Yıl Garantili) B Kalite : 7.499 TL\n",
      "Yenilenmiş Samsung Galaxy S21 FE 5G 128 GB Beyaz Cep Telefonu (1 Yıl Garantili) : 12.599 TL\n",
      "Yenilenmiş Samsung Galaxy A30 SM-A305F 64 GB Siyah Cep Telefonu (1 Yıl Garantili) B Kalite : 3.689 TL\n",
      "Yenilenmiş Samsung Galaxy A13 128 GB Mavi Cep Telefonu (1 Yıl Garantili) : 5.399 TL\n",
      "Yenilenmiş Samsung Galaxy A50 SM-A505F 64 GB Beyaz Cep Telefonu (1 Yıl Garantili) B Kalite : 3.949 TL\n",
      "Yenilenmiş Samsung Galaxy A72 128 GB Siyah Cep Telefonu (1 Yıl Garantili) : 9.209 TL\n",
      "Yenilenmiş Samsung Galaxy A33 5G SM-A336E/DS 128 GB Siyah Cep Telefonu (1 Yıl Garantili) B Kalite : 6.899 TL\n",
      "Yenilenmiş Samsung Galaxy S20 Plus 128 GB Mavi Cep Telefonu (1 Yıl Garantili) B Kalite : 12.289 TL\n",
      "Yenilenmiş Samsung Galaxy A30S SM-A307FN/DS 64 GB Beyaz Cep Telefonu (1 Yıl Garantili) B Kalite : 3.999 TL\n",
      "Yenilenmiş Samsung Galaxy S22 Plus 128 GB Siyah Cep Telefonu (1 Yıl Garantili) : 23.999 TL\n",
      "Yenilenmiş  Samsung Galaxy M52 SM-M526B 128 GB Beyaz Cep Telefonu (1 Yıl Garantili) : 8.999 TL\n",
      "Yenilenmiş Samsung SM-N975F Note 10+ Plus 256 GB Gümüş Cep Telefonu (1 Yıl Garantili) : 16.799 TL\n",
      "Yenilenmiş Samsung Galaxy A23 SM-A235F/DS 128 GB Siyah Cep Telefonu (1 Yıl Garantili) : 6.499 TL\n",
      "Yenilenmiş Samsung Galaxy S20 FE 128 GB Beyaz Cep Telefonu (1 Yıl Garantili) : 9.999 TL\n"
     ]
    }
   ],
   "source": [
    "#sayfa7\n",
    "\n",
    "import requests\n",
    "from bs4 import BeautifulSoup\n",
    "\n",
    "excel = []\n",
    "\n",
    "url = \"https://www.teknosa.com/samsung-yenilenmis-cep-telefonu-bc-124001001?page=6\"\n",
    "\n",
    "headers = {\n",
    "    \"User-Agent\": \"Mozilla/5.0 (Windows NT 10.0; Win64; x64) AppleWebKit/537.36 (KHTML, like Gecko) Chrome/121.0.0.0 Safari/537.36\"\n",
    "}\n",
    "\n",
    "html = requests.get(url, headers=headers).content\n",
    "soup = BeautifulSoup(html, \"html.parser\")\n",
    "\n",
    "liste = soup.find_all(\"div\", {\"class\": \"prd-inner\"})\n",
    "\n",
    "for div in liste:\n",
    "    product_name = div.h3.text.strip()  \n",
    "    price_span = div.find(\"div\", {\"class\": \"prd-prices\"}).find(\"span\", {\"class\": \"prc-last\"})\n",
    "    price = price_span.text.strip() if price_span else \"Fiyat bulunamadı\"  # Eğer fiyat bilgisi yoksa \"Fiyat bulunamadı\" yazdır\n",
    "    \n",
    "    excel.append([product_name, price])\n",
    "\n",
    "    print(product_name, \":\", price)"
   ]
  },
  {
   "cell_type": "code",
   "execution_count": 15,
   "id": "f5f92d53",
   "metadata": {},
   "outputs": [
    {
     "name": "stdout",
     "output_type": "stream",
     "text": [
      "                                             URUN_ADI      FIYAT\n",
      "0   Yenilenmiş Samsung Galaxy S21 Plus 5G 256 GB S...  18.499 TL\n",
      "1   Yenilenmiş Samsung SM-A115F A11 32 GB Mavi Cep...   2.899 TL\n",
      "2   Yenilenmiş Samsung SM-N950F Note 8 64 GB Gri C...   6.989 TL\n",
      "3   Yenilenmiş Samsung Galaxy A30S SM-A307FN/DS 64...   4.239 TL\n",
      "4   Yenilenmiş Samsung Galaxy A12 128 GB Mavi Cep ...   4.799 TL\n",
      "5   Yenilenmiş Samsung Galaxy S20 Ultra 128 GB Gri...  17.399 TL\n",
      "6   Yenilenmiş Samsung Galaxy S10 Lite 128 GB Siya...   7.499 TL\n",
      "7   Yenilenmiş Samsung Galaxy S21 FE 5G 128 GB Bey...  12.599 TL\n",
      "8   Yenilenmiş Samsung Galaxy A30 SM-A305F 64 GB S...   3.689 TL\n",
      "9   Yenilenmiş Samsung Galaxy A13 128 GB Mavi Cep ...   5.399 TL\n",
      "10  Yenilenmiş Samsung Galaxy A50 SM-A505F 64 GB B...   3.949 TL\n",
      "11  Yenilenmiş Samsung Galaxy A72 128 GB Siyah Cep...   9.209 TL\n",
      "12  Yenilenmiş Samsung Galaxy A33 5G SM-A336E/DS 1...   6.899 TL\n",
      "13  Yenilenmiş Samsung Galaxy S20 Plus 128 GB Mavi...  12.289 TL\n",
      "14  Yenilenmiş Samsung Galaxy A30S SM-A307FN/DS 64...   3.999 TL\n",
      "15  Yenilenmiş Samsung Galaxy S22 Plus 128 GB Siya...  23.999 TL\n",
      "16  Yenilenmiş  Samsung Galaxy M52 SM-M526B 128 GB...   8.999 TL\n",
      "17  Yenilenmiş Samsung SM-N975F Note 10+ Plus 256 ...  16.799 TL\n",
      "18  Yenilenmiş Samsung Galaxy A23 SM-A235F/DS 128 ...   6.499 TL\n",
      "19  Yenilenmiş Samsung Galaxy S20 FE 128 GB Beyaz ...   9.999 TL\n"
     ]
    }
   ],
   "source": [
    "df = pd.DataFrame(excel)\n",
    "\n",
    "df.columns = [\"URUN_ADI\",\"FIYAT\"]\n",
    "print(df)\n",
    "\n",
    "df.to_excel(\"tkenosa-samsung-page-7.xlsx\")"
   ]
  },
  {
   "cell_type": "code",
   "execution_count": 16,
   "id": "cd6730cf",
   "metadata": {},
   "outputs": [
    {
     "name": "stdout",
     "output_type": "stream",
     "text": [
      "Yenilenmiş Samsung Galaxy A52s SM-A528B 128 GB Beyaz Cep Telefonu (1 Yıl Garantili) B Kalite : 7.999 TL\n",
      "Yenilenmiş Samsung A73 SM-A736B/DS 128 GB Gri Cep Telefonu (1 Yıl Garantili) B Kalite : 11.599 TL\n",
      "Yenilenmiş Samsung Galaxy A30S SM-A307FN/DS 64 GB Yeşil Cep Telefonu (1 Yıl Garantili) B Kalite : 3.999 TL\n",
      "Yenilenmiş  Samsung Galaxy M52 SM-M526B 128 GB Siyah Cep Telefonu (1 Yıl Garantili) B Kalite : 8.299 TL\n",
      "Yenilenmiş Samsung Galaxy A20S 32 GB Siyah Cep Telefonu (1 Yıl Garantili) : 3.489 TL\n",
      "Yenilenmiş Samsung Galaxy A51 256 GB Siyah Cep Telefonu (1 Yıl Garantili) : 8.199 TL\n",
      "Yenilenmiş Samsung Galaxy S22 128 GB Beyaz Cep Telefonu (1 Yıl Garantili) : 17.199 TL\n",
      "Yenilenmiş Samsung Galaxy A20 SM-A205F 32 GB Siyah Cep Telefonu (1 Yıl Garantili) : 3.999 TL\n",
      "Yenilenmiş Samsung Galaxy S20 128 GB Gri Cep Telefonu (1 Yıl Garantili) B Kalite : 11.199 TL\n",
      "Yenilenmiş Samsung Galaxy S22 128 GB Pembe Cep Telefonu (1 Yıl Garantili) B Kalite : 15.999 TL\n",
      "Yenilenmiş Samsung SM-G965FS9 + Plus 64 GB Gri Cep Telefonu (1 Yıl Garantili) : 6.999 TL\n",
      "Yenilenmiş Samsung Galaxy S20 FE 128 GB Mercan Cep Telefonu (1 Yıl Garantili) : 9.119 TL\n",
      "Yenilenmiş Samsung Galaxy S20 FE128 GB Yeşil Cep Telefonu (1 Yıl Garantili) : 8.400 TL\n",
      "Yenilenmiş Samsung Galaxy A30S SM-A307FN/DS 64 GB Beyaz Cep Telefonu (1 Yıl Garantili) : 4.239 TL\n",
      "Yenilenmiş Samsung Galaxy A31 128 GB Beyaz Cep Telefonu (1 Yıl Garantili) : 5.139 TL\n",
      "Yenilenmiş Samsung A23 SM-A235F/DS 4 GB RAM 128 GB Mavi Cep Telefonu (1 Yıl Garantili) : 6.499 TL\n",
      "Yenilenmiş Samsung Galaxy A52s SM-A528B 128 GB Siyah Cep Telefonu (1 Yıl Garantili) B Kalite : 7.999 TL\n",
      "Yenilenmiş Samsung Galaxy Note 20 256 GB Yeşil Cep Telefonu (1 Yıl Garantili) : 17.919 TL\n",
      "Yenilenmiş Samsung Galaxy A71 128 GB Gümüş Cep Telefonu (1 Yıl Garantili) : 7.137 TL\n",
      "Yenilenmiş Samsung Galaxy A10 SM-A105F 32 GB Siyah Cep Telefonu (1 Yıl Garantili) : 3.099 TL\n"
     ]
    }
   ],
   "source": [
    "#sayfa8\n",
    "\n",
    "import requests\n",
    "from bs4 import BeautifulSoup\n",
    "\n",
    "excel = []\n",
    "\n",
    "url = \"https://www.teknosa.com/samsung-yenilenmis-cep-telefonu-bc-124001001?page=7\"\n",
    "\n",
    "headers = {\n",
    "    \"User-Agent\": \"Mozilla/5.0 (Windows NT 10.0; Win64; x64) AppleWebKit/537.36 (KHTML, like Gecko) Chrome/121.0.0.0 Safari/537.36\"\n",
    "}\n",
    "\n",
    "html = requests.get(url, headers=headers).content\n",
    "soup = BeautifulSoup(html, \"html.parser\")\n",
    "\n",
    "liste = soup.find_all(\"div\", {\"class\": \"prd-inner\"})\n",
    "\n",
    "for div in liste:\n",
    "    product_name = div.h3.text.strip()  \n",
    "    price_span = div.find(\"div\", {\"class\": \"prd-prices\"}).find(\"span\", {\"class\": \"prc-last\"})\n",
    "    price = price_span.text.strip() if price_span else \"Fiyat bulunamadı\"  # Eğer fiyat bilgisi yoksa \"Fiyat bulunamadı\" yazdır\n",
    "    \n",
    "    excel.append([product_name, price])\n",
    "\n",
    "    print(product_name, \":\", price)"
   ]
  },
  {
   "cell_type": "code",
   "execution_count": 17,
   "id": "8bb1255f",
   "metadata": {},
   "outputs": [
    {
     "name": "stdout",
     "output_type": "stream",
     "text": [
      "                                             URUN_ADI      FIYAT\n",
      "0   Yenilenmiş Samsung Galaxy A52s SM-A528B 128 GB...   7.999 TL\n",
      "1   Yenilenmiş Samsung A73 SM-A736B/DS 128 GB Gri ...  11.599 TL\n",
      "2   Yenilenmiş Samsung Galaxy A30S SM-A307FN/DS 64...   3.999 TL\n",
      "3   Yenilenmiş  Samsung Galaxy M52 SM-M526B 128 GB...   8.299 TL\n",
      "4   Yenilenmiş Samsung Galaxy A20S 32 GB Siyah Cep...   3.489 TL\n",
      "5   Yenilenmiş Samsung Galaxy A51 256 GB Siyah Cep...   8.199 TL\n",
      "6   Yenilenmiş Samsung Galaxy S22 128 GB Beyaz Cep...  17.199 TL\n",
      "7   Yenilenmiş Samsung Galaxy A20 SM-A205F 32 GB S...   3.999 TL\n",
      "8   Yenilenmiş Samsung Galaxy S20 128 GB Gri Cep T...  11.199 TL\n",
      "9   Yenilenmiş Samsung Galaxy S22 128 GB Pembe Cep...  15.999 TL\n",
      "10  Yenilenmiş Samsung SM-G965FS9 + Plus 64 GB Gri...   6.999 TL\n",
      "11  Yenilenmiş Samsung Galaxy S20 FE 128 GB Mercan...   9.119 TL\n",
      "12  Yenilenmiş Samsung Galaxy S20 FE128 GB Yeşil C...   8.400 TL\n",
      "13  Yenilenmiş Samsung Galaxy A30S SM-A307FN/DS 64...   4.239 TL\n",
      "14  Yenilenmiş Samsung Galaxy A31 128 GB Beyaz Cep...   5.139 TL\n",
      "15  Yenilenmiş Samsung A23 SM-A235F/DS 4 GB RAM 12...   6.499 TL\n",
      "16  Yenilenmiş Samsung Galaxy A52s SM-A528B 128 GB...   7.999 TL\n",
      "17  Yenilenmiş Samsung Galaxy Note 20 256 GB Yeşil...  17.919 TL\n",
      "18  Yenilenmiş Samsung Galaxy A71 128 GB Gümüş Cep...   7.137 TL\n",
      "19  Yenilenmiş Samsung Galaxy A10 SM-A105F 32 GB S...   3.099 TL\n"
     ]
    }
   ],
   "source": [
    "df = pd.DataFrame(excel)\n",
    "\n",
    "df.columns = [\"URUN_ADI\",\"FIYAT\"]\n",
    "print(df)\n",
    "\n",
    "df.to_excel(\"tkenosa-samsung-page-8.xlsx\")"
   ]
  },
  {
   "cell_type": "code",
   "execution_count": 18,
   "id": "56f1057d",
   "metadata": {},
   "outputs": [
    {
     "name": "stdout",
     "output_type": "stream",
     "text": [
      "Yenilenmiş Samsung A73 SM-A736B/DS 128 GB Yeşil Cep Telefonu (1 Yıl Garantili) B Kalite : 11.598 TL\n",
      "Yenilenmiş Samsung Galaxy A22 128 GB Siyah Cep Telefonu (1 Yıl Garantili) : 5.699 TL\n",
      "Yenilenmiş Samsung Galaxy A53 5G 128 GB Mavi Cep Telefonu (1 Yıl Garantili) : 9.879 TL\n",
      "Yenilenmiş Samsung Galaxy A20S 32 GB Mavi Cep Telefonu (1 Yıl Garantili) B Kalite : 3.399 TL\n",
      "Yenilenmiş Samsung Galaxy S20 FE 128 GB Mor Cep Telefonu (1 Yıl Garantili) : 9.099 TL\n",
      "Yenilenmiş Samsung Galaxy S21 FE 5G SM-G990E 128 GB Mor Cep Telefonu (1 Yıl Garantili) : 12.999 TL\n",
      "Yenilenmiş Samsung Galaxy Note 10 256 GB Beyaz Cep Telefonu (1 Yıl Garantili) B Kalite : 10.999 TL\n",
      "Yenilenmiş Samsung Galaxy Note 10 Lite 128 GB Kırmızı Cep Telefonu (1 Yıl Garantili) : 8.199 TL\n",
      "Yenilenmiş Samsung Galaxy A12 128 GB Beyaz Cep Telefonu (1 Yıl Garantili) B Kalite : 5.299 TL\n",
      "Yenilenmiş Samsung Galaxy A01 Core 16 GB Siyah Cep Telefonu (1 Yıl Garantili) B Kalite : 2.800 TL\n",
      "Yenilenmiş Samsung Galaxy Z Flip 256 GB Mor Cep Telefonu (1 Yıl Garantili) B Kalite : 15.949 TL\n",
      "Yenilenmiş Samsung Galaxy M52 5G 128 GB Mavi Cep Telefonu (1 Yıl Garantili) : 8.999 TL\n",
      "Yenilenmiş Samsung Galaxy A34 5G 128 GB Siyah Cep Telefonu (1 Yıl Garantili) : 9.799 TL\n",
      "Yenilenmiş Samsung Galaxy M51 128 GB Siyah Cep Telefonu (1 Yıl Garantili) : 7.599 TL\n",
      "Yenilenmiş Samsung SM-G950F S8 64 GB Altın Cep Telefonu (1 Yıl Garantili) : 5.999 TL\n",
      "Yenilenmiş Samsung Galaxy A72 128 GB Beyaz Cep Telefonu (1 Yıl Garantili) : 9.209 TL\n",
      "Yenilenmiş Samsung Galaxy S20 Plus 128 GB Gri Cep Telefonu (1 Yıl Garantili) B Kalite : 12.149 TL\n",
      "Yenilenmiş Samsung Galaxy A52 128 GB Beyaz Cep Telefonu (1 Yıl Garantili) : 8.139 TL\n",
      "Yenilenmiş Samsung Galaxy S20 128 GB Pembe Cep Telefonu (1 Yıl Garantili) B Kalite : 10.250 TL\n",
      "Yenilenmiş Samsung A73 SM-A736B/DS 128 GB Yeşil Cep Telefonu (1 Yıl Garantili) : 12.599 TL\n"
     ]
    }
   ],
   "source": [
    "#sayfa9\n",
    "\n",
    "import requests\n",
    "from bs4 import BeautifulSoup\n",
    "\n",
    "excel = []\n",
    "\n",
    "url = \"https://www.teknosa.com/samsung-yenilenmis-cep-telefonu-bc-124001001?page=8\"\n",
    "\n",
    "headers = {\n",
    "    \"User-Agent\": \"Mozilla/5.0 (Windows NT 10.0; Win64; x64) AppleWebKit/537.36 (KHTML, like Gecko) Chrome/121.0.0.0 Safari/537.36\"\n",
    "}\n",
    "\n",
    "html = requests.get(url, headers=headers).content\n",
    "soup = BeautifulSoup(html, \"html.parser\")\n",
    "\n",
    "liste = soup.find_all(\"div\", {\"class\": \"prd-inner\"})\n",
    "\n",
    "for div in liste:\n",
    "    product_name = div.h3.text.strip()  \n",
    "    price_span = div.find(\"div\", {\"class\": \"prd-prices\"}).find(\"span\", {\"class\": \"prc-last\"})\n",
    "    price = price_span.text.strip() if price_span else \"Fiyat bulunamadı\"  # Eğer fiyat bilgisi yoksa \"Fiyat bulunamadı\" yazdır\n",
    "    \n",
    "    excel.append([product_name, price])\n",
    "\n",
    "    print(product_name, \":\", price)"
   ]
  },
  {
   "cell_type": "code",
   "execution_count": 19,
   "id": "bd0abc6b",
   "metadata": {},
   "outputs": [
    {
     "name": "stdout",
     "output_type": "stream",
     "text": [
      "                                             URUN_ADI      FIYAT\n",
      "0   Yenilenmiş Samsung A73 SM-A736B/DS 128 GB Yeşi...  11.598 TL\n",
      "1   Yenilenmiş Samsung Galaxy A22 128 GB Siyah Cep...   5.699 TL\n",
      "2   Yenilenmiş Samsung Galaxy A53 5G 128 GB Mavi C...   9.879 TL\n",
      "3   Yenilenmiş Samsung Galaxy A20S 32 GB Mavi Cep ...   3.399 TL\n",
      "4   Yenilenmiş Samsung Galaxy S20 FE 128 GB Mor Ce...   9.099 TL\n",
      "5   Yenilenmiş Samsung Galaxy S21 FE 5G SM-G990E 1...  12.999 TL\n",
      "6   Yenilenmiş Samsung Galaxy Note 10 256 GB Beyaz...  10.999 TL\n",
      "7   Yenilenmiş Samsung Galaxy Note 10 Lite 128 GB ...   8.199 TL\n",
      "8   Yenilenmiş Samsung Galaxy A12 128 GB Beyaz Cep...   5.299 TL\n",
      "9   Yenilenmiş Samsung Galaxy A01 Core 16 GB Siyah...   2.800 TL\n",
      "10  Yenilenmiş Samsung Galaxy Z Flip 256 GB Mor Ce...  15.949 TL\n",
      "11  Yenilenmiş Samsung Galaxy M52 5G 128 GB Mavi C...   8.999 TL\n",
      "12  Yenilenmiş Samsung Galaxy A34 5G 128 GB Siyah ...   9.799 TL\n",
      "13  Yenilenmiş Samsung Galaxy M51 128 GB Siyah Cep...   7.599 TL\n",
      "14  Yenilenmiş Samsung SM-G950F S8 64 GB Altın Cep...   5.999 TL\n",
      "15  Yenilenmiş Samsung Galaxy A72 128 GB Beyaz Cep...   9.209 TL\n",
      "16  Yenilenmiş Samsung Galaxy S20 Plus 128 GB Gri ...  12.149 TL\n",
      "17  Yenilenmiş Samsung Galaxy A52 128 GB Beyaz Cep...   8.139 TL\n",
      "18  Yenilenmiş Samsung Galaxy S20 128 GB Pembe Cep...  10.250 TL\n",
      "19  Yenilenmiş Samsung A73 SM-A736B/DS 128 GB Yeşi...  12.599 TL\n"
     ]
    }
   ],
   "source": [
    "df = pd.DataFrame(excel)\n",
    "\n",
    "df.columns = [\"URUN_ADI\",\"FIYAT\"]\n",
    "print(df)\n",
    "\n",
    "df.to_excel(\"tkenosa-samsung-page-9.xlsx\")"
   ]
  },
  {
   "cell_type": "code",
   "execution_count": 20,
   "id": "32975808",
   "metadata": {},
   "outputs": [
    {
     "name": "stdout",
     "output_type": "stream",
     "text": [
      "Yenilenmiş Samsung Galaxy Note 20 Ultra 256 GB Beyaz Cep Telefonu (1 Yıl Garantili) : 22.999 TL\n",
      "Yenilenmiş Samsung Galaxy A52 128 GB Beyaz Cep Telefonu (1 Yıl Garantili) B Kalite : 7.399 TL\n",
      "Yenilenmiş Samsung SM-A205F A20 32 GB Kırmızı Cep Telefonu (1 Yıl Garantili) : 3.999 TL\n",
      "Yenilenmiş Samsung Galaxy S21 Plus 5G 128 GB Gümüş Cep Telefonu (1 Yıl Garantili) : 17.599 TL\n",
      "Yenilenmiş Samsung Z Flip4 SM-F721B 128 GB Altın Cep Telefonu (1 Yıl Garantili) B Kalite : 21.599 TL\n",
      "Yenilenmiş Samsung Galaxy A13 64 GB Beyaz Cep Telefonu (1 Yıl Garantili) : 5.399 TL\n",
      "Yenilenmiş Samsung Galaxy Z Flip 4 128 GB Mavi Cep Telefonu (1 Yıl Garantili) B Kalite : 20.989 TL\n",
      "Yenilenmiş Samsung Galaxy A30 SM-A305F 64 GB Mavi Cep Telefonu (1 Yıl Garantili) B Kalite : 3.689 TL\n",
      "Yenilenmiş Samsung Galaxy A33 5G 128 GB Turuncu Cep Telefonu (1 Yıl Garantili) B Kalite : 6.899 TL\n",
      "Yenilenmiş Samsung Galaxy S10 Plus 128 GB Beyaz Cep Telefonu (1 Yıl Garantili) : 10.999 TL\n",
      "Yenilenmiş Samsung Galaxy S20 FE 128 GB Beyaz Cep Telefonu (1 Yıl Garantili) B Kalite : 9.399 TL\n",
      "Yenilenmiş Samsung Galaxy Note 10 Lite 128 GB Kırmızı Cep Telefonu (1 Yıl Garantili) B Kalite : 7.877 TL\n",
      "Yenilenmiş Samsung SM-A105F A10 32 GB Kırmızı Cep Telefonu (1 Yıl Garantili) B Kalite : 2.799 TL\n",
      "Yenilenmiş Samsung Galaxy S22 128 GB Pembe Cep Telefonu (1 Yıl Garantili) : 15.969 TL\n",
      "Yenilenmiş Samsung Galaxy S21 5G 128 GB Pembe Cep Telefonu (1 Yıl Garantili) B Kalite : 13.199 TL\n",
      "Yenilenmiş Samsung Galaxy A31 128 GB Siyah Cep Telefonu (1 Yıl Garantili) B Kalite : 4.929 TL\n",
      "Yenilenmiş Samsung Z Flip3 SM-F711B 128 GB Yeşil Cep Telefonu (1 Yıl Garantili) B Kalite : 16.999 TL\n",
      "Yenilenmiş Samsung SM-A325F A32 128 GB Siyah Cep Telefonu (1 Yıl Garantili) : 6.448 TL\n",
      "Yenilenmiş Samsung Galaxy A33 5G 128 GB Beyaz Cep Telefonu (1 Yıl Garantili) : 7.429 TL\n",
      "Yenilenmiş Samsung Galaxy S20 FE 128 GB Mercan Cep Telefonu (1 Yıl Garantili) B Kalite : 8.499 TL\n"
     ]
    }
   ],
   "source": [
    "#sayfa10\n",
    "\n",
    "import requests\n",
    "from bs4 import BeautifulSoup\n",
    "\n",
    "excel = []\n",
    "\n",
    "url = \"https://www.teknosa.com/samsung-yenilenmis-cep-telefonu-bc-124001001?page=9\"\n",
    "\n",
    "headers = {\n",
    "    \"User-Agent\": \"Mozilla/5.0 (Windows NT 10.0; Win64; x64) AppleWebKit/537.36 (KHTML, like Gecko) Chrome/121.0.0.0 Safari/537.36\"\n",
    "}\n",
    "\n",
    "html = requests.get(url, headers=headers).content\n",
    "soup = BeautifulSoup(html, \"html.parser\")\n",
    "\n",
    "liste = soup.find_all(\"div\", {\"class\": \"prd-inner\"})\n",
    "\n",
    "for div in liste:\n",
    "    product_name = div.h3.text.strip()  \n",
    "    price_span = div.find(\"div\", {\"class\": \"prd-prices\"}).find(\"span\", {\"class\": \"prc-last\"})\n",
    "    price = price_span.text.strip() if price_span else \"Fiyat bulunamadı\"  # Eğer fiyat bilgisi yoksa \"Fiyat bulunamadı\" yazdır\n",
    "    \n",
    "    excel.append([product_name, price])\n",
    "\n",
    "    print(product_name, \":\", price)"
   ]
  },
  {
   "cell_type": "code",
   "execution_count": 21,
   "id": "b87d54d6",
   "metadata": {},
   "outputs": [
    {
     "name": "stdout",
     "output_type": "stream",
     "text": [
      "                                             URUN_ADI      FIYAT\n",
      "0   Yenilenmiş Samsung Galaxy Note 20 Ultra 256 GB...  22.999 TL\n",
      "1   Yenilenmiş Samsung Galaxy A52 128 GB Beyaz Cep...   7.399 TL\n",
      "2   Yenilenmiş Samsung SM-A205F A20 32 GB Kırmızı ...   3.999 TL\n",
      "3   Yenilenmiş Samsung Galaxy S21 Plus 5G 128 GB G...  17.599 TL\n",
      "4   Yenilenmiş Samsung Z Flip4 SM-F721B 128 GB Alt...  21.599 TL\n",
      "5   Yenilenmiş Samsung Galaxy A13 64 GB Beyaz Cep ...   5.399 TL\n",
      "6   Yenilenmiş Samsung Galaxy Z Flip 4 128 GB Mavi...  20.989 TL\n",
      "7   Yenilenmiş Samsung Galaxy A30 SM-A305F 64 GB M...   3.689 TL\n",
      "8   Yenilenmiş Samsung Galaxy A33 5G 128 GB Turunc...   6.899 TL\n",
      "9   Yenilenmiş Samsung Galaxy S10 Plus 128 GB Beya...  10.999 TL\n",
      "10  Yenilenmiş Samsung Galaxy S20 FE 128 GB Beyaz ...   9.399 TL\n",
      "11  Yenilenmiş Samsung Galaxy Note 10 Lite 128 GB ...   7.877 TL\n",
      "12  Yenilenmiş Samsung SM-A105F A10 32 GB Kırmızı ...   2.799 TL\n",
      "13  Yenilenmiş Samsung Galaxy S22 128 GB Pembe Cep...  15.969 TL\n",
      "14  Yenilenmiş Samsung Galaxy S21 5G 128 GB Pembe ...  13.199 TL\n",
      "15  Yenilenmiş Samsung Galaxy A31 128 GB Siyah Cep...   4.929 TL\n",
      "16  Yenilenmiş Samsung Z Flip3 SM-F711B 128 GB Yeş...  16.999 TL\n",
      "17  Yenilenmiş Samsung SM-A325F A32 128 GB Siyah C...   6.448 TL\n",
      "18  Yenilenmiş Samsung Galaxy A33 5G 128 GB Beyaz ...   7.429 TL\n",
      "19  Yenilenmiş Samsung Galaxy S20 FE 128 GB Mercan...   8.499 TL\n"
     ]
    }
   ],
   "source": [
    "df = pd.DataFrame(excel)\n",
    "\n",
    "df.columns = [\"URUN_ADI\",\"FIYAT\"]\n",
    "print(df)\n",
    "\n",
    "df.to_excel(\"tkenosa-samsung-page-10.xlsx\")"
   ]
  },
  {
   "cell_type": "code",
   "execution_count": 22,
   "id": "ca5937f9",
   "metadata": {},
   "outputs": [
    {
     "name": "stdout",
     "output_type": "stream",
     "text": [
      "Yenilenmiş Samsung Galaxy A70 SM-A705FN 128 GB Beyaz Cep Telefonu (1 Yıl Garantili) B Kalite : 5.789 TL\n",
      "Yenilenmiş Samsung Galaxy A52 128 GB Mor Cep Telefonu (1 Yıl Garantili) : 8.139 TL\n",
      "Yenilenmiş Samsung Galaxy M12 SM-M127F 128 GB Mavi Cep Telefonu (1 Yıl Garantili) B Kalite : 5.799 TL\n",
      "Yenilenmiş Samsung Galaxy A22 64 GB Siyah Cep Telefonu (1 Yıl Garantili) : 5.399 TL\n",
      "Yenilenmiş Samsung Galaxy S9 SM-G960F Tek Hat 64 GB Siyah Cep Telefonu (1 Yıl Garantili) : 6.599 TL\n",
      "Yenilenmiş Samsung SM-A207F A20S 32 GB Kırmızı Cep Telefonu (1 Yıl Garantili) B Kalite : 3.299 TL\n",
      "Yenilenmiş Samsung Galaxy A22 128 GB Mor Cep Telefonu (1 Yıl Garantili) : 5.699 TL\n",
      "Yenilenmiş Samsung Galaxy S20 128 GB Pembe Cep Telefonu (1 Yıl Garantili) : 12.219 TL\n",
      "Yenilenmiş Samsung SM-N950F Note 8 64 GB Altın Cep Telefonu (1 Yıl Garantili) B Kalite : 5.499 TL\n",
      "Yenilenmiş Samsung Galaxy A8 2018 SM-A530F 64 GB Altın Cep Telefonu (1 Yıl Garantili) B Kalite : 3.799 TL\n",
      "Yenilenmiş Samsung Galaxy S22 Plus 128 GB Siyah Cep Telefonu (1 Yıl Garantili) B Kalite : 23.999 TL\n",
      "Yenilenmiş Samsung SM-G980F S20 128 GB Mavi Cep Telefonu (1 Yıl Garantili) B Kalite : 11.398 TL\n",
      "Yenilenmiş Samsung Galaxy S21 Ultra 5G 256 GB Siyah Cep Telefonu (1 Yıl Garantili) : 26.849 TL\n",
      "Yenilenmiş Samsung Galaxy A03 64 GB Siyah Cep Telefonu (1 Yıl Garantili) B Kalite : 3.449 TL\n",
      "Yenilenmiş Samsung Galaxy S20 Plus 128 GB Gri Cep Telefonu (1 Yıl Garantili) : 13.239 TL\n",
      "Yenilenmiş Samsung SM-M307F M30S 64 GB Mavi Cep Telefonu (1 Yıl Garantili) : 4.298 TL\n",
      "Yenilenmiş Samsung SM-G965F S9 + Plus 64 GB Mor Cep Telefonu (1 Yıl Garantili) : 6.999 TL\n",
      "Yenilenmiş Samsung A53 5G SM-A536E/DS 128 GB Siyah Cep Telefonu (1 Yıl Garantili) : 9.399 TL\n",
      "Yenilenmiş Samsung Galaxy M23 5G 128 GB Yeşil Cep Telefonu (1 Yıl Garantili) B Kalite : 6.499 TL\n",
      "Yenilenmiş Samsung Galaxy A13 64 Gb Mavi Cep Telefonu (1 Yıl Garantili) : 5.199 TL\n"
     ]
    }
   ],
   "source": [
    "#sayfa11\n",
    "\n",
    "import requests\n",
    "from bs4 import BeautifulSoup\n",
    "\n",
    "excel = []\n",
    "\n",
    "url = \"https://www.teknosa.com/samsung-yenilenmis-cep-telefonu-bc-124001001?page=10\"\n",
    "\n",
    "headers = {\n",
    "    \"User-Agent\": \"Mozilla/5.0 (Windows NT 10.0; Win64; x64) AppleWebKit/537.36 (KHTML, like Gecko) Chrome/121.0.0.0 Safari/537.36\"\n",
    "}\n",
    "\n",
    "html = requests.get(url, headers=headers).content\n",
    "soup = BeautifulSoup(html, \"html.parser\")\n",
    "\n",
    "liste = soup.find_all(\"div\", {\"class\": \"prd-inner\"})\n",
    "\n",
    "for div in liste:\n",
    "    product_name = div.h3.text.strip()  \n",
    "    price_span = div.find(\"div\", {\"class\": \"prd-prices\"}).find(\"span\", {\"class\": \"prc-last\"})\n",
    "    price = price_span.text.strip() if price_span else \"Fiyat bulunamadı\"  # Eğer fiyat bilgisi yoksa \"Fiyat bulunamadı\" yazdır\n",
    "    \n",
    "    excel.append([product_name, price])\n",
    "\n",
    "    print(product_name, \":\", price)"
   ]
  },
  {
   "cell_type": "code",
   "execution_count": 23,
   "id": "0984c9a8",
   "metadata": {},
   "outputs": [
    {
     "name": "stdout",
     "output_type": "stream",
     "text": [
      "                                             URUN_ADI      FIYAT\n",
      "0   Yenilenmiş Samsung Galaxy A70 SM-A705FN 128 GB...   5.789 TL\n",
      "1   Yenilenmiş Samsung Galaxy A52 128 GB Mor Cep T...   8.139 TL\n",
      "2   Yenilenmiş Samsung Galaxy M12 SM-M127F 128 GB ...   5.799 TL\n",
      "3   Yenilenmiş Samsung Galaxy A22 64 GB Siyah Cep ...   5.399 TL\n",
      "4   Yenilenmiş Samsung Galaxy S9 SM-G960F Tek Hat ...   6.599 TL\n",
      "5   Yenilenmiş Samsung SM-A207F A20S 32 GB Kırmızı...   3.299 TL\n",
      "6   Yenilenmiş Samsung Galaxy A22 128 GB Mor Cep T...   5.699 TL\n",
      "7   Yenilenmiş Samsung Galaxy S20 128 GB Pembe Cep...  12.219 TL\n",
      "8   Yenilenmiş Samsung SM-N950F Note 8 64 GB Altın...   5.499 TL\n",
      "9   Yenilenmiş Samsung Galaxy A8 2018 SM-A530F 64 ...   3.799 TL\n",
      "10  Yenilenmiş Samsung Galaxy S22 Plus 128 GB Siya...  23.999 TL\n",
      "11  Yenilenmiş Samsung SM-G980F S20 128 GB Mavi Ce...  11.398 TL\n",
      "12  Yenilenmiş Samsung Galaxy S21 Ultra 5G 256 GB ...  26.849 TL\n",
      "13  Yenilenmiş Samsung Galaxy A03 64 GB Siyah Cep ...   3.449 TL\n",
      "14  Yenilenmiş Samsung Galaxy S20 Plus 128 GB Gri ...  13.239 TL\n",
      "15  Yenilenmiş Samsung SM-M307F M30S 64 GB Mavi Ce...   4.298 TL\n",
      "16  Yenilenmiş Samsung SM-G965F S9 + Plus 64 GB Mo...   6.999 TL\n",
      "17  Yenilenmiş Samsung A53 5G SM-A536E/DS 128 GB S...   9.399 TL\n",
      "18  Yenilenmiş Samsung Galaxy M23 5G 128 GB Yeşil ...   6.499 TL\n",
      "19  Yenilenmiş Samsung Galaxy A13 64 Gb Mavi Cep T...   5.199 TL\n"
     ]
    }
   ],
   "source": [
    "df = pd.DataFrame(excel)\n",
    "\n",
    "df.columns = [\"URUN_ADI\",\"FIYAT\"]\n",
    "print(df)\n",
    "\n",
    "df.to_excel(\"tkenosa-samsung-page-11.xlsx\")"
   ]
  },
  {
   "cell_type": "code",
   "execution_count": 24,
   "id": "8ef67d1c",
   "metadata": {},
   "outputs": [
    {
     "name": "stdout",
     "output_type": "stream",
     "text": [
      "Yenilenmiş Samsung Galaxy A52 128 GB Mor Cep Telefonu (1 Yıl Garantili) B Kalite : 7.399 TL\n",
      "Yenilenmiş Samsung Galaxy A13 64 Gb Mavi Cep Telefonu (1 Yıl Garantili) : 5.199 TL\n",
      "Yenilenmiş Samsung SM-A217F A21S 128 GB Beyaz Cep Telefonu (1 Yıl Garantili) : 5.399 TL\n",
      "Yenilenmiş Samsung Galaxy S8 Plus SM-G955F Tek Hat 64 GB Siyah Cep Telefonu (1 Yıl Garantili) : 5.899 TL\n",
      "Yenilenmiş Samsung Galaxy S20 Fe 256 Gb Mor Cep Telefonu (1 Yıl Garantili) : 12.789 TL\n",
      "Yenilenmiş Samsung Galaxy M11 32 GB Mor Cep Telefonu (1 Yıl Garantili) : 3.199 TL\n",
      "Yenilenmiş Samsung SM-A205F A20 32 GB Kırmızı Cep Telefonu (1 Yıl Garantili) B Kalite : 3.049 TL\n",
      "Yenilenmiş Samsung Galaxy S10 Lite 128 GB Beyaz Cep Telefonu (1 Yıl Garantili) : 8.048 TL\n",
      "Yenilenmiş Samsung A53 5G SM-A536E/DS A53 128 GB Beyaz Cep Telefonu (1 Yıl Garantili) : 9.879 TL\n",
      "Yenilenmiş Samsung Galaxy Z Flip 4 128 GB Gri Cep Telefonu (1 Yıl Garantili) : 19.999 TL\n",
      "Yenilenmiş Samsung Galaxy S10E 128 GB Siyah Cep Telefonu (1 Yıl Garantili) B Kalite : 6.319 TL\n",
      "Yenilenmiş  Samsung Galaxy M52 SM-M526B Siyah Cep Telefonu (1 Yıl Garantili) : 8.899 TL\n",
      "Yenilenmiş  Samsung Galaxy S20 FE SM-G780F 256 GB Beyaz Cep Telefonu (1 Yıl Garantili) B Kalite : 9.899 TL\n",
      "Yenilenmiş Samsung Galaxy M32 128 GB Beyaz Cep Telefonu (1 Yıl Garantili) : 7.898 TL\n",
      "Yenilenmiş Samsung Galaxy M32 128 GB Mavi Cep Telefonu (1 Yıl Garantili) : 7.898 TL\n",
      "Yenilenmiş Samsung A23 SM-A235F/DS 4 GB RAM 128 GB Mavi Cep Telefonu (1 Yıl Garantili) B Kalite : 4.998 TL\n",
      "Yenilenmiş Samsung Galaxy S21 Ultra 5G 128 GB Siyah Cep Telefonu (1 Yıl Garantili) : 23.599 TL\n",
      "Yenilenmiş Samsung Galaxy S20 FE 256 GB Mavi Cep Telefonu (1 Yıl Garantili) : 12.789 TL\n",
      "Yenilenmiş Samsung SM-G950F S8 64 GB Gri Cep Telefonu (1 Yıl Garantili) : 5.999 TL\n",
      "Yenilenmiş Samsung Galaxy A70 Çift Hat 128 GB Siyah Cep Telefonu (1 Yıl Garantili) : 6.300 TL\n"
     ]
    }
   ],
   "source": [
    "#sayfa12\n",
    "\n",
    "import requests\n",
    "from bs4 import BeautifulSoup\n",
    "\n",
    "excel = []\n",
    "\n",
    "url = \"https://www.teknosa.com/samsung-yenilenmis-cep-telefonu-bc-124001001?page=11\"\n",
    "\n",
    "headers = {\n",
    "    \"User-Agent\": \"Mozilla/5.0 (Windows NT 10.0; Win64; x64) AppleWebKit/537.36 (KHTML, like Gecko) Chrome/121.0.0.0 Safari/537.36\"\n",
    "}\n",
    "\n",
    "html = requests.get(url, headers=headers).content\n",
    "soup = BeautifulSoup(html, \"html.parser\")\n",
    "\n",
    "liste = soup.find_all(\"div\", {\"class\": \"prd-inner\"})\n",
    "\n",
    "for div in liste:\n",
    "    product_name = div.h3.text.strip()  \n",
    "    price_span = div.find(\"div\", {\"class\": \"prd-prices\"}).find(\"span\", {\"class\": \"prc-last\"})\n",
    "    price = price_span.text.strip() if price_span else \"Fiyat bulunamadı\"  # Eğer fiyat bilgisi yoksa \"Fiyat bulunamadı\" yazdır\n",
    "    \n",
    "    excel.append([product_name, price])\n",
    "\n",
    "    print(product_name, \":\", price)"
   ]
  },
  {
   "cell_type": "code",
   "execution_count": 25,
   "id": "1b9b656b",
   "metadata": {},
   "outputs": [
    {
     "name": "stdout",
     "output_type": "stream",
     "text": [
      "                                             URUN_ADI      FIYAT\n",
      "0   Yenilenmiş Samsung Galaxy A52 128 GB Mor Cep T...   7.399 TL\n",
      "1   Yenilenmiş Samsung Galaxy A13 64 Gb Mavi Cep T...   5.199 TL\n",
      "2   Yenilenmiş Samsung SM-A217F A21S 128 GB Beyaz ...   5.399 TL\n",
      "3   Yenilenmiş Samsung Galaxy S8 Plus SM-G955F Tek...   5.899 TL\n",
      "4   Yenilenmiş Samsung Galaxy S20 Fe 256 Gb Mor Ce...  12.789 TL\n",
      "5   Yenilenmiş Samsung Galaxy M11 32 GB Mor Cep Te...   3.199 TL\n",
      "6   Yenilenmiş Samsung SM-A205F A20 32 GB Kırmızı ...   3.049 TL\n",
      "7   Yenilenmiş Samsung Galaxy S10 Lite 128 GB Beya...   8.048 TL\n",
      "8   Yenilenmiş Samsung A53 5G SM-A536E/DS A53 128 ...   9.879 TL\n",
      "9   Yenilenmiş Samsung Galaxy Z Flip 4 128 GB Gri ...  19.999 TL\n",
      "10  Yenilenmiş Samsung Galaxy S10E 128 GB Siyah Ce...   6.319 TL\n",
      "11  Yenilenmiş  Samsung Galaxy M52 SM-M526B Siyah ...   8.899 TL\n",
      "12  Yenilenmiş  Samsung Galaxy S20 FE SM-G780F 256...   9.899 TL\n",
      "13  Yenilenmiş Samsung Galaxy M32 128 GB Beyaz Cep...   7.898 TL\n",
      "14  Yenilenmiş Samsung Galaxy M32 128 GB Mavi Cep ...   7.898 TL\n",
      "15  Yenilenmiş Samsung A23 SM-A235F/DS 4 GB RAM 12...   4.998 TL\n",
      "16  Yenilenmiş Samsung Galaxy S21 Ultra 5G 128 GB ...  23.599 TL\n",
      "17  Yenilenmiş Samsung Galaxy S20 FE 256 GB Mavi C...  12.789 TL\n",
      "18  Yenilenmiş Samsung SM-G950F S8 64 GB Gri Cep T...   5.999 TL\n",
      "19  Yenilenmiş Samsung Galaxy A70 Çift Hat 128 GB ...   6.300 TL\n"
     ]
    }
   ],
   "source": [
    "df = pd.DataFrame(excel)\n",
    "\n",
    "df.columns = [\"URUN_ADI\",\"FIYAT\"]\n",
    "print(df)\n",
    "\n",
    "df.to_excel(\"tkenosa-samsung-page-12.xlsx\")"
   ]
  },
  {
   "cell_type": "code",
   "execution_count": 26,
   "id": "9f8f096a",
   "metadata": {},
   "outputs": [
    {
     "name": "stdout",
     "output_type": "stream",
     "text": [
      "Yenilenmiş Samsung Galaxy A33 5G 128 GB Turuncu Cep Telefonu (1 Yıl Garantili) : 7.429 TL\n",
      "Yenilenmiş Samsung Galaxy S10 Lite 128 GB Mavi Cep Telefonu (1 Yıl Garantili) B Kalite : 7.898 TL\n",
      "Yenilenmiş Samsung Galaxy S21 Plus 5G 128 GB Mor Cep Telefonu (1 Yıl Garantili) : 20.999 TL\n",
      "Yenilenmiş Samsung Galaxy S21 Plus 5G 256 GB Mor Cep Telefonu (1 Yıl Garantili) B Kalite : 18.499 TL\n",
      "Yenilenmiş Samsung SM-A217F A21S 64 GB Siyah Cep Telefonu (1 Yıl Garantili) B Kalite : 3.998 TL\n",
      "Yenilenmiş Samsung Galaxy A31 64 GB Beyaz Cep Telefonu (1 Yıl Garantili) : 5.179 TL\n",
      "Yenilenmiş Samsung Galaxy S23 Ultra 512 GB Yeşil Cep Telefonu (1 Yıl Garantili) : 43.999 TL\n",
      "Yenilenmiş Samsung Galaxy A52s SM-A528B 128 GB Mor Cep Telefonu (1 Yıl Garantili) B Kalite : 7.989 TL\n",
      "Yenilenmiş Samsung Galaxy A22 64 GB Siyah Cep Telefonu (1 Yıl Garantili) B Kalite : 4.699 TL\n",
      "Yenilenmiş Samsung Galaxy S20 FE 128 GB Yeşil Cep Telefonu (1 Yıl Garantili) B Kalite : 8.399 TL\n",
      "Yenilenmiş Samsung Galaxy A30 SM-A305F 64 GB Beyaz Cep Telefonu (1 Yıl Garantili) B Kalite : 3.689 TL\n",
      "Yenilenmiş Samsung Galaxy S20 FE 128 GB Kırmızı Cep Telefonu (1 Yıl Garantili) : 9.399 TL\n",
      "Yenilenmiş Samsung SM-A217F A21S 64 GB Siyah Cep Telefonu (1 Yıl Garantili) : 4.449 TL\n",
      "Yenilenmiş Samsung Galaxy A33 5G 128 GB Mavi Cep Telefonu (1 Yıl Garantili) B Kalite : 7.299 TL\n",
      "Yenilenmiş  Samsung Galaxy M30s SM-M307F 64 GB Beyaz Cep Telefonu (1 Yıl Garantili) : 4.298 TL\n",
      "Yenilenmiş Samsung SM-A115f A11 32 GB Beyaz Cep Telefonu (1 Yıl Garantili) : 3.499 TL\n",
      "Yenilenmiş Samsung SM-G980F S20 128 GB Mavi Cep Telefonu (1 Yıl Garantili) : 12.219 TL\n",
      "Yenilenmiş Samsung Galaxy A50 SM-A505F 64 GB Beyaz Cep Telefonu (1 Yıl Garantili) : 4.249 TL\n",
      "Yenilenmiş Samsung SM-M315F M31 128 GB Siyah Cep Telefonu (1 Yıl Garantili) B Kalite : 5.899 TL\n",
      "Yenilenmiş Samsung Galaxy M21 64 GB Mavi Cep Telefonu (1 Yıl Garantili) B Kalite : 6.000 TL\n"
     ]
    }
   ],
   "source": [
    "#sayfa13\n",
    "\n",
    "import requests\n",
    "from bs4 import BeautifulSoup\n",
    "\n",
    "excel = []\n",
    "\n",
    "url = \"https://www.teknosa.com/samsung-yenilenmis-cep-telefonu-bc-124001001?page=12\"\n",
    "\n",
    "headers = {\n",
    "    \"User-Agent\": \"Mozilla/5.0 (Windows NT 10.0; Win64; x64) AppleWebKit/537.36 (KHTML, like Gecko) Chrome/121.0.0.0 Safari/537.36\"\n",
    "}\n",
    "\n",
    "html = requests.get(url, headers=headers).content\n",
    "soup = BeautifulSoup(html, \"html.parser\")\n",
    "\n",
    "liste = soup.find_all(\"div\", {\"class\": \"prd-inner\"})\n",
    "\n",
    "for div in liste:\n",
    "    product_name = div.h3.text.strip()  \n",
    "    price_span = div.find(\"div\", {\"class\": \"prd-prices\"}).find(\"span\", {\"class\": \"prc-last\"})\n",
    "    price = price_span.text.strip() if price_span else \"Fiyat bulunamadı\"  # Eğer fiyat bilgisi yoksa \"Fiyat bulunamadı\" yazdır\n",
    "    \n",
    "    excel.append([product_name, price])\n",
    "\n",
    "    print(product_name, \":\", price)"
   ]
  },
  {
   "cell_type": "code",
   "execution_count": 27,
   "id": "96862b3f",
   "metadata": {},
   "outputs": [
    {
     "name": "stdout",
     "output_type": "stream",
     "text": [
      "                                             URUN_ADI      FIYAT\n",
      "0   Yenilenmiş Samsung Galaxy A33 5G 128 GB Turunc...   7.429 TL\n",
      "1   Yenilenmiş Samsung Galaxy S10 Lite 128 GB Mavi...   7.898 TL\n",
      "2   Yenilenmiş Samsung Galaxy S21 Plus 5G 128 GB M...  20.999 TL\n",
      "3   Yenilenmiş Samsung Galaxy S21 Plus 5G 256 GB M...  18.499 TL\n",
      "4   Yenilenmiş Samsung SM-A217F A21S 64 GB Siyah C...   3.998 TL\n",
      "5   Yenilenmiş Samsung Galaxy A31 64 GB Beyaz Cep ...   5.179 TL\n",
      "6   Yenilenmiş Samsung Galaxy S23 Ultra 512 GB Yeş...  43.999 TL\n",
      "7   Yenilenmiş Samsung Galaxy A52s SM-A528B 128 GB...   7.989 TL\n",
      "8   Yenilenmiş Samsung Galaxy A22 64 GB Siyah Cep ...   4.699 TL\n",
      "9   Yenilenmiş Samsung Galaxy S20 FE 128 GB Yeşil ...   8.399 TL\n",
      "10  Yenilenmiş Samsung Galaxy A30 SM-A305F 64 GB B...   3.689 TL\n",
      "11  Yenilenmiş Samsung Galaxy S20 FE 128 GB Kırmız...   9.399 TL\n",
      "12  Yenilenmiş Samsung SM-A217F A21S 64 GB Siyah C...   4.449 TL\n",
      "13  Yenilenmiş Samsung Galaxy A33 5G 128 GB Mavi C...   7.299 TL\n",
      "14  Yenilenmiş  Samsung Galaxy M30s SM-M307F 64 GB...   4.298 TL\n",
      "15  Yenilenmiş Samsung SM-A115f A11 32 GB Beyaz Ce...   3.499 TL\n",
      "16  Yenilenmiş Samsung SM-G980F S20 128 GB Mavi Ce...  12.219 TL\n",
      "17  Yenilenmiş Samsung Galaxy A50 SM-A505F 64 GB B...   4.249 TL\n",
      "18  Yenilenmiş Samsung SM-M315F M31 128 GB Siyah C...   5.899 TL\n",
      "19  Yenilenmiş Samsung Galaxy M21 64 GB Mavi Cep T...   6.000 TL\n"
     ]
    }
   ],
   "source": [
    "df = pd.DataFrame(excel)\n",
    "\n",
    "df.columns = [\"URUN_ADI\",\"FIYAT\"]\n",
    "print(df)\n",
    "\n",
    "df.to_excel(\"tkenosa-samsung-page-13.xlsx\")"
   ]
  },
  {
   "cell_type": "code",
   "execution_count": 28,
   "id": "337370c7",
   "metadata": {},
   "outputs": [
    {
     "name": "stdout",
     "output_type": "stream",
     "text": [
      "Yenilenmiş Samsung SM-A217F A21S 64 GB Beyaz Cep Telefonu (1 Yıl Garantili) : 4.399 TL\n",
      "Yenilenmiş Samsung Galaxy A10S 32 GB Siyah Cep Telefonu (1 Yıl Garantili) B Kalite : 3.199 TL\n",
      "Yenilenmiş Samsung Galaxy A33 5g 128 Gb Mavi Cep Telefonu (1 Yıl Garantili) : 8.999 TL\n",
      "Yenilenmiş Samsung SM-M307F M30S 64 GB Siyah Cep Telefonu (1 Yıl Garantili) : 4.299 TL\n",
      "Yenilenmiş Samsung SM-M307F M30S 64 GB Mavi Cep Telefonu (1 Yıl Garantili) B Kalite : 3.999 TL\n",
      "Yenilenmiş  Samsung Galaxy S20 FE SM-G780F 256 GB Beyaz Cep Telefonu (1 Yıl Garantili) : 12.999 TL\n",
      "Yenilenmiş Samsung  SM-M205F M20 32 GB Gri Cep Telefonu (1 Yıl Garantili) B Kalite : 4.099 TL\n",
      "Yenilenmiş Samsung Galaxy A70 SM-A705FN 128 GB Mercan Cep Telefonu (1 Yıl Garantili) B Kalite : 5.659 TL\n",
      "Yenilenmiş Samsung Galaxy S21 FE 5G 128 GB Siyah Cep Telefonu (1 Yıl Garantili) : 12.100 TL\n",
      "Yenilenmiş Samsung Galaxy Note 10 256 GB Siyah Cep Telefonu (1 Yıl Garantili) B Kalite : 10.999 TL\n",
      "Yenilenmiş Samsung Galaxy S20 FE 256 GB Yeşil Cep Telefonu (1 Yıl Garantili) B Kalite : 11.599 TL\n",
      "Yenilenmiş Samsung Galaxy A31 64 GB Beyaz Cep Telefonu (1 Yıl Garantili) B Kalite : 4.679 TL\n",
      "Yenilenmiş Samsung Galaxy M21 64 GB Siyah Cep Telefonu (1 Yıl Garantili) B Kalite : 4.199 TL\n",
      "Yenilenmiş Samsung Galaxy S21 Plus 5G 128 GB Mor Cep Telefonu (1 Yıl Garantili) B Kalite : 17.899 TL\n",
      "Yenilenmiş Samsung SM-N950F Note 8 64 GB Siyah Cep Telefonu (1 Yıl Garantili) B Kalite : 5.598 TL\n",
      "Yenilenmiş Samsung SM-M307F M30S 64 GB Siyah Cep Telefonu (1 Yıl Garantili) B Kalite : 3.999 TL\n",
      "Yenilenmiş Samsung SM-M315F M31 128 GB Mavi Cep Telefonu (1 Yıl Garantili) : 7.148 TL\n",
      "Yenilenmiş Samsung Galaxy S20 FE 256 GB Mavi Cep Telefonu (1 Yıl Garantili) B Kalite : 12.199 TL\n",
      "Yenilenmiş Samsung Galaxy S20 Fe 256 Gb Yeşil Cep Telefonu (1 Yıl Garantili) : 12.789 TL\n",
      "Yenilenmiş Samsung Z Flip4 SM-F721B 128 GB Mor Cep Telefonu (1 Yıl Garantili) : 19.999 TL\n"
     ]
    }
   ],
   "source": [
    "#sayfa14\n",
    "\n",
    "import requests\n",
    "from bs4 import BeautifulSoup\n",
    "\n",
    "excel = []\n",
    "\n",
    "url = \"https://www.teknosa.com/samsung-yenilenmis-cep-telefonu-bc-124001001?page=13\"\n",
    "\n",
    "headers = {\n",
    "    \"User-Agent\": \"Mozilla/5.0 (Windows NT 10.0; Win64; x64) AppleWebKit/537.36 (KHTML, like Gecko) Chrome/121.0.0.0 Safari/537.36\"\n",
    "}\n",
    "\n",
    "html = requests.get(url, headers=headers).content\n",
    "soup = BeautifulSoup(html, \"html.parser\")\n",
    "\n",
    "liste = soup.find_all(\"div\", {\"class\": \"prd-inner\"})\n",
    "\n",
    "for div in liste:\n",
    "    product_name = div.h3.text.strip()  \n",
    "    price_span = div.find(\"div\", {\"class\": \"prd-prices\"}).find(\"span\", {\"class\": \"prc-last\"})\n",
    "    price = price_span.text.strip() if price_span else \"Fiyat bulunamadı\"  # Eğer fiyat bilgisi yoksa \"Fiyat bulunamadı\" yazdır\n",
    "    \n",
    "    excel.append([product_name, price])\n",
    "\n",
    "    print(product_name, \":\", price)"
   ]
  },
  {
   "cell_type": "code",
   "execution_count": 29,
   "id": "a9e8410a",
   "metadata": {},
   "outputs": [
    {
     "name": "stdout",
     "output_type": "stream",
     "text": [
      "                                             URUN_ADI      FIYAT\n",
      "0   Yenilenmiş Samsung SM-A217F A21S 64 GB Beyaz C...   4.399 TL\n",
      "1   Yenilenmiş Samsung Galaxy A10S 32 GB Siyah Cep...   3.199 TL\n",
      "2   Yenilenmiş Samsung Galaxy A33 5g 128 Gb Mavi C...   8.999 TL\n",
      "3   Yenilenmiş Samsung SM-M307F M30S 64 GB Siyah C...   4.299 TL\n",
      "4   Yenilenmiş Samsung SM-M307F M30S 64 GB Mavi Ce...   3.999 TL\n",
      "5   Yenilenmiş  Samsung Galaxy S20 FE SM-G780F 256...  12.999 TL\n",
      "6   Yenilenmiş Samsung  SM-M205F M20 32 GB Gri Cep...   4.099 TL\n",
      "7   Yenilenmiş Samsung Galaxy A70 SM-A705FN 128 GB...   5.659 TL\n",
      "8   Yenilenmiş Samsung Galaxy S21 FE 5G 128 GB Siy...  12.100 TL\n",
      "9   Yenilenmiş Samsung Galaxy Note 10 256 GB Siyah...  10.999 TL\n",
      "10  Yenilenmiş Samsung Galaxy S20 FE 256 GB Yeşil ...  11.599 TL\n",
      "11  Yenilenmiş Samsung Galaxy A31 64 GB Beyaz Cep ...   4.679 TL\n",
      "12  Yenilenmiş Samsung Galaxy M21 64 GB Siyah Cep ...   4.199 TL\n",
      "13  Yenilenmiş Samsung Galaxy S21 Plus 5G 128 GB M...  17.899 TL\n",
      "14  Yenilenmiş Samsung SM-N950F Note 8 64 GB Siyah...   5.598 TL\n",
      "15  Yenilenmiş Samsung SM-M307F M30S 64 GB Siyah C...   3.999 TL\n",
      "16  Yenilenmiş Samsung SM-M315F M31 128 GB Mavi Ce...   7.148 TL\n",
      "17  Yenilenmiş Samsung Galaxy S20 FE 256 GB Mavi C...  12.199 TL\n",
      "18  Yenilenmiş Samsung Galaxy S20 Fe 256 Gb Yeşil ...  12.789 TL\n",
      "19  Yenilenmiş Samsung Z Flip4 SM-F721B 128 GB Mor...  19.999 TL\n"
     ]
    }
   ],
   "source": [
    "df = pd.DataFrame(excel)\n",
    "\n",
    "df.columns = [\"URUN_ADI\",\"FIYAT\"]\n",
    "print(df)\n",
    "\n",
    "df.to_excel(\"tkenosa-samsung-page-14.xlsx\")"
   ]
  },
  {
   "cell_type": "code",
   "execution_count": 30,
   "id": "85f715d7",
   "metadata": {},
   "outputs": [
    {
     "name": "stdout",
     "output_type": "stream",
     "text": [
      "Yenilenmiş Samsung Galaxy S10 Lite 128 GB Mavi Cep Telefonu (1 Yıl Garantili) : 8.048 TL\n",
      "Yenilenmiş Samsung SM-M115F M11 32 GB Siyah Cep Telefonu (1 Yıl Garantili) B Kalite : 3.399 TL\n",
      "Yenilenmiş Samsung Galaxy S22 Ultra 256 GB Bordo Cep Telefonu (1 Yıl Garantili) : 35.509 TL\n",
      "Yenilenmiş Samsung Galaxy A51 256 GB Mavi Cep Telefonu (1 Yıl Garantili) : 7.599 TL\n",
      "Yenilenmiş Samsung SM-A217F A21S 128 GB Beyaz Cep Telefonu (1 Yıl Garantili) B Kalite : 5.149 TL\n",
      "Yenilenmiş Samsung Galaxy A02s 32 GB Mavi Cep Telefonu (1 Yıl Garantili) : 3.899 TL\n",
      "Yenilenmiş Samsung SM-M205F M20 32 GB Mavi Cep Telefonu (1 Yıl Garantili) B Kalite : 4.099 TL\n",
      "Yenilenmiş Samsung Galaxy S21 Plus 5G 256 GB Siyah Cep Telefonu (1 Yıl Garantili) : 20.999 TL\n",
      "Yenilenmiş Samsung SM-A115F A11 32 GB Beyaz Cep Telefonu (1 Yıl Garantili) B Kalite : 3.799 TL\n",
      "Yenilenmiş Samsung A73 SM-A736B/DS 128 GB Beyaz Cep Telefonu (1 Yıl Garantili) : 12.599 TL\n",
      "Yenilenmiş Samsung Galaxy S21 Plus 5G 128 GB Siyah Cep Telefonu (1 Yıl Garantili) : 19.999 TL\n",
      "Yenilenmiş Samsung Z Flip3 SM-F711B 128 GB Yeşil Cep Telefonu (1 Yıl Garantili) : 18.999 TL\n",
      "Yenilenmiş Samsung Galaxy A8+ Plus 64 GB Altın Cep Telefonu (1 Yıl Garantili) : 4.599 TL\n",
      "Yenilenmiş Samsung SM-G965F S9 + Plus 128 GB Siyah Cep Telefonu (1 Yıl Garantili) B Kalite : 8.219 TL\n",
      "Yenilenmiş Samsung Galaxy S10E 128 GB Yeşil Cep Telefonu (1 Yıl Garantili) B Kalite : 6.997 TL\n",
      "Yenilenmiş Samsung Galaxy S22 Ultra 512 GB Yeşil Cep Telefonu (1 Yıl Garantili) : 36.099 TL\n",
      "Yenilenmiş Samsung SM-N950F Note 8 64 GB Altın Cep Telefonu (1 Yıl Garantili) : 6.989 TL\n",
      "Yenilenmiş Samsung Galaxy S21 5G 128 GB Mor Cep Telefonu (1 Yıl Garantili) : 14.199 TL\n",
      "Yenilenmiş Samsung Galaxy A04 64 GB Siyah Cep Telefonu (1 Yıl Garantili) : 4.599 TL\n",
      "Yenilenmiş Samsung Galaxy S8 Plus SM-G955F Tek Hat 64 GB Siyah Cep Telefonu (1 Yıl Garantili) B Kalite : 5.680 TL\n"
     ]
    }
   ],
   "source": [
    "#sayfa15\n",
    "\n",
    "import requests\n",
    "from bs4 import BeautifulSoup\n",
    "\n",
    "excel = []\n",
    "\n",
    "url = \"https://www.teknosa.com/samsung-yenilenmis-cep-telefonu-bc-124001001?page=14\"\n",
    "\n",
    "headers = {\n",
    "    \"User-Agent\": \"Mozilla/5.0 (Windows NT 10.0; Win64; x64) AppleWebKit/537.36 (KHTML, like Gecko) Chrome/121.0.0.0 Safari/537.36\"\n",
    "}\n",
    "\n",
    "html = requests.get(url, headers=headers).content\n",
    "soup = BeautifulSoup(html, \"html.parser\")\n",
    "\n",
    "liste = soup.find_all(\"div\", {\"class\": \"prd-inner\"})\n",
    "\n",
    "for div in liste:\n",
    "    product_name = div.h3.text.strip()  \n",
    "    price_span = div.find(\"div\", {\"class\": \"prd-prices\"}).find(\"span\", {\"class\": \"prc-last\"})\n",
    "    price = price_span.text.strip() if price_span else \"Fiyat bulunamadı\"  # Eğer fiyat bilgisi yoksa \"Fiyat bulunamadı\" yazdır\n",
    "    \n",
    "    excel.append([product_name, price])\n",
    "\n",
    "    print(product_name, \":\", price)"
   ]
  },
  {
   "cell_type": "code",
   "execution_count": 31,
   "id": "f89640ca",
   "metadata": {},
   "outputs": [
    {
     "name": "stdout",
     "output_type": "stream",
     "text": [
      "                                             URUN_ADI      FIYAT\n",
      "0   Yenilenmiş Samsung Galaxy S10 Lite 128 GB Mavi...   8.048 TL\n",
      "1   Yenilenmiş Samsung SM-M115F M11 32 GB Siyah Ce...   3.399 TL\n",
      "2   Yenilenmiş Samsung Galaxy S22 Ultra 256 GB Bor...  35.509 TL\n",
      "3   Yenilenmiş Samsung Galaxy A51 256 GB Mavi Cep ...   7.599 TL\n",
      "4   Yenilenmiş Samsung SM-A217F A21S 128 GB Beyaz ...   5.149 TL\n",
      "5   Yenilenmiş Samsung Galaxy A02s 32 GB Mavi Cep ...   3.899 TL\n",
      "6   Yenilenmiş Samsung SM-M205F M20 32 GB Mavi Cep...   4.099 TL\n",
      "7   Yenilenmiş Samsung Galaxy S21 Plus 5G 256 GB S...  20.999 TL\n",
      "8   Yenilenmiş Samsung SM-A115F A11 32 GB Beyaz Ce...   3.799 TL\n",
      "9   Yenilenmiş Samsung A73 SM-A736B/DS 128 GB Beya...  12.599 TL\n",
      "10  Yenilenmiş Samsung Galaxy S21 Plus 5G 128 GB S...  19.999 TL\n",
      "11  Yenilenmiş Samsung Z Flip3 SM-F711B 128 GB Yeş...  18.999 TL\n",
      "12  Yenilenmiş Samsung Galaxy A8+ Plus 64 GB Altın...   4.599 TL\n",
      "13  Yenilenmiş Samsung SM-G965F S9 + Plus 128 GB S...   8.219 TL\n",
      "14  Yenilenmiş Samsung Galaxy S10E 128 GB Yeşil Ce...   6.997 TL\n",
      "15  Yenilenmiş Samsung Galaxy S22 Ultra 512 GB Yeş...  36.099 TL\n",
      "16  Yenilenmiş Samsung SM-N950F Note 8 64 GB Altın...   6.989 TL\n",
      "17  Yenilenmiş Samsung Galaxy S21 5G 128 GB Mor Ce...  14.199 TL\n",
      "18  Yenilenmiş Samsung Galaxy A04 64 GB Siyah Cep ...   4.599 TL\n",
      "19  Yenilenmiş Samsung Galaxy S8 Plus SM-G955F Tek...   5.680 TL\n"
     ]
    }
   ],
   "source": [
    "df = pd.DataFrame(excel)\n",
    "\n",
    "df.columns = [\"URUN_ADI\",\"FIYAT\"]\n",
    "print(df)\n",
    "\n",
    "df.to_excel(\"tkenosa-samsung-page-15.xlsx\")"
   ]
  },
  {
   "cell_type": "code",
   "execution_count": 32,
   "id": "3b5f8fc8",
   "metadata": {},
   "outputs": [
    {
     "name": "stdout",
     "output_type": "stream",
     "text": [
      "Yenilenmiş Samsung Z Fold 4 SM-F936B/DS 256 GB Bej Cep Telefonu (1 Yıl Garantili) : 36.999 TL\n",
      "Yenilenmiş Samsung A73 SM-A736B/DS 128 GB Siyah Cep Telefonu (1 Yıl Garantili) : 12.599 TL\n",
      "Yenilenmiş Samsung SM-G950F S8 64 GB Gri Cep Telefonu (1 Yıl Garantili) B Kalite : 6.450 TL\n",
      "Yenilenmiş Samsung Galaxy S20 FE 128 GB Kırmızı Cep Telefonu (1 Yıl Garantili) B Kalite : 8.499 TL\n",
      "Yenilenmiş Samsung Galaxy M21 64 GB Mavi Cep Telefonu (1 Yıl Garantili) : 6.200 TL\n",
      "Yenilenmiş Samsung Galaxy S21 5G 128 GB Pembe Cep Telefonu (1 Yıl Garantili) : 13.799 TL\n",
      "Yenilenmiş Samsung Galaxy S22 Plus 256 GB Siyah Cep Telefonu (1 Yıl Garantili) B Kalite : 25.300 TL\n",
      "Yenilenmiş Samsung Galaxy S20 FE 256 GB Mor Cep Telefonu (1 Yıl Garantili) B Kalite : 11.949 TL\n"
     ]
    }
   ],
   "source": [
    "#sayfa16\n",
    "\n",
    "import requests\n",
    "from bs4 import BeautifulSoup\n",
    "\n",
    "excel = []\n",
    "\n",
    "url = \"https://www.teknosa.com/samsung-yenilenmis-cep-telefonu-bc-124001001?page=15\"\n",
    "\n",
    "headers = {\n",
    "    \"User-Agent\": \"Mozilla/5.0 (Windows NT 10.0; Win64; x64) AppleWebKit/537.36 (KHTML, like Gecko) Chrome/121.0.0.0 Safari/537.36\"\n",
    "}\n",
    "\n",
    "html = requests.get(url, headers=headers).content\n",
    "soup = BeautifulSoup(html, \"html.parser\")\n",
    "\n",
    "liste = soup.find_all(\"div\", {\"class\": \"prd-inner\"})\n",
    "\n",
    "for div in liste:\n",
    "    product_name = div.h3.text.strip()  \n",
    "    price_span = div.find(\"div\", {\"class\": \"prd-prices\"}).find(\"span\", {\"class\": \"prc-last\"})\n",
    "    price = price_span.text.strip() if price_span else \"Fiyat bulunamadı\"  # Eğer fiyat bilgisi yoksa \"Fiyat bulunamadı\" yazdır\n",
    "    \n",
    "    excel.append([product_name, price])\n",
    "\n",
    "    print(product_name, \":\", price)"
   ]
  },
  {
   "cell_type": "code",
   "execution_count": 33,
   "id": "c829b916",
   "metadata": {},
   "outputs": [
    {
     "name": "stdout",
     "output_type": "stream",
     "text": [
      "                                            URUN_ADI      FIYAT\n",
      "0  Yenilenmiş Samsung Z Fold 4 SM-F936B/DS 256 GB...  36.999 TL\n",
      "1  Yenilenmiş Samsung A73 SM-A736B/DS 128 GB Siya...  12.599 TL\n",
      "2  Yenilenmiş Samsung SM-G950F S8 64 GB Gri Cep T...   6.450 TL\n",
      "3  Yenilenmiş Samsung Galaxy S20 FE 128 GB Kırmız...   8.499 TL\n",
      "4  Yenilenmiş Samsung Galaxy M21 64 GB Mavi Cep T...   6.200 TL\n",
      "5  Yenilenmiş Samsung Galaxy S21 5G 128 GB Pembe ...  13.799 TL\n",
      "6  Yenilenmiş Samsung Galaxy S22 Plus 256 GB Siya...  25.300 TL\n",
      "7  Yenilenmiş Samsung Galaxy S20 FE 256 GB Mor Ce...  11.949 TL\n"
     ]
    }
   ],
   "source": [
    "df = pd.DataFrame(excel)\n",
    "\n",
    "df.columns = [\"URUN_ADI\",\"FIYAT\"]\n",
    "print(df)\n",
    "\n",
    "df.to_excel(\"tkenosa-samsung-page-16.xlsx\")"
   ]
  },
  {
   "cell_type": "code",
   "execution_count": null,
   "id": "d8accd48",
   "metadata": {},
   "outputs": [],
   "source": []
  }
 ],
 "metadata": {
  "kernelspec": {
   "display_name": "Python 3 (ipykernel)",
   "language": "python",
   "name": "python3"
  },
  "language_info": {
   "codemirror_mode": {
    "name": "ipython",
    "version": 3
   },
   "file_extension": ".py",
   "mimetype": "text/x-python",
   "name": "python",
   "nbconvert_exporter": "python",
   "pygments_lexer": "ipython3",
   "version": "3.11.5"
  }
 },
 "nbformat": 4,
 "nbformat_minor": 5
}
